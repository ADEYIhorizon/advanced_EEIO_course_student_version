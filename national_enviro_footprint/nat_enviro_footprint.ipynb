{
 "cells": [
  {
   "attachments": {},
   "cell_type": "markdown",
   "metadata": {},
   "source": [
    "# Calculation of National Environmental Footprints\n",
    "\n",
    "There are 5 tasks in this exercise. The dataset is constructed from real-world data in the year of 2015, specifically:\n",
    "\n",
    "The world economy is represented by three regions: \n",
    "- R1 (OECD, i.e. ‘developed’ countries)\n",
    "- R2 (BRICS, i.e. major emerging countries, including Brazil, Russia, India, China, and South Africa)\n",
    "- R3 (ROW, countries in the rest of the world aggregated)\n",
    " \n",
    "The economy of each region is classified into eight sectors according to the main purposes they contribute to:\n",
    "S1 Food, S2 Clothing, S3 Shelter, S4 Construction, S5 Manufactured products, S6 Mobility, S7 Trade, and S8 Services\n",
    "\n",
    "The four final demand categories in Y are: \n",
    "- Final consumption expenditure by household\n",
    "- Final consumption expenditure by NPISHs\n",
    "- Final consumption expenditure by government\n",
    "- Gross capital formation\n",
    "    * In Yt (i.e. Ytotal) all four final demand components are aggregated into one total final demand column for each region. \n",
    "\n",
    "Four environmental and socioeconomic indicators are included in the 'environmental extension' data (F and Fhh):\n",
    "- CO2 emissions (unit: tonnes/year)\n",
    "- Blue water consumption (unit: million m3/year)\n",
    "- Value added (unit: million €/year)\n",
    "- Employment (unit: 1000 people/year)\n",
    "\n",
    "Population (unit: people) data are in pop.txt. All economic flows are in million €/year (current prices)\n"
   ]
  },
  {
   "cell_type": "code",
   "execution_count": null,
   "metadata": {},
   "outputs": [],
   "source": [
    "# Import modules\n",
    "import pandas as pd\n",
    "import numpy as np"
   ]
  },
  {
   "cell_type": "code",
   "execution_count": null,
   "metadata": {},
   "outputs": [],
   "source": [
    "# Import data\n",
    "## VERY IMPORTANT: save and unzip the data files to the current working directory\n",
    "## remember to specify the delimiter (e.g., \"\\t\", \",\", \";\")\n",
    "\n",
    "# Option1：using the '/s+' delimiter means any space is seen as a delimiter, using this\n",
    "# will not result in a column of NaN values.\n",
    "df = pd.read_csv('Z.txt', delimiter='\\s+', header = None) \n",
    "Z = df.to_numpy()\n",
    "\n",
    "# # Option 2: using the '/t' delimiter means any tabs are seen as delimiters, using this\n",
    "# # will result in a column of NaN values (because there are tabs at the end\n",
    "# # of each row.)\n",
    "# df = pd.read_csv('Z.txt', delimiter='\\t', header = None)\n",
    "# Z = df.to_numpy()\n",
    "# # np.delete will remove a row or column at the given index (in this case, -1 \n",
    "# # means we are targetting the last item of a list.)\n",
    "# Z = np.delete(Z, obj=-1, axis=1)\n",
    "\n",
    "# #Option 3:\n",
    "# df = pd.read_csv('Z.txt', delimiter='\\t', header = None)\n",
    "# # dropna() will drop/remove a column or row depending on the options set\n",
    "# # 'how=all' means the column is only dropped if all the values in it are NaN.\n",
    "# df = df.dropna(axis=1, how=\"all\")\n",
    "# Z = df.to_numpy()\n",
    "\n",
    "df = pd.read_csv('x.txt', delimiter='\\t', header = None)\n",
    "x = df.to_numpy()\n",
    "x = np.delete(x, obj=-1, axis=1)\n",
    "\n",
    "df = pd.read_csv('Y.txt', delimiter='\\t', header = None)\n",
    "Y = df.to_numpy()\n",
    "Y = np.delete(Y, obj=-1, axis=1)\n",
    "\n",
    "df = pd.read_csv('Yt.txt', delimiter='\\t', header = None)\n",
    "Yt = df.to_numpy()\n",
    "Yt = np.delete(Yt, obj=-1, axis=1)\n",
    "\n",
    "df = pd.read_csv('F.txt', delimiter='\\t', header = None)\n",
    "F = df.to_numpy()\n",
    "F = np.delete(F, obj=-1, axis=1)\n",
    "\n",
    "df = pd.read_csv('Fhh.txt', delimiter='\\t', header = None)\n",
    "Fhh = df.to_numpy()\n",
    "Fhh = np.delete(Fhh, obj=-1, axis=1)\n",
    "\n",
    "df = pd.read_csv('pop.txt', delimiter='\\t', header = None)\n",
    "pop = df.to_numpy()\n",
    "pop = np.delete(pop, obj=-1, axis=1)\n",
    "\n",
    "# you can quickly check the data type, shape (size), and values of the variables in 'variable explorer'\n",
    "\n"
   ]
  },
  {
   "attachments": {},
   "cell_type": "markdown",
   "metadata": {},
   "source": [
    "## Environmental intensities \n",
    "Create a series of \"environmental intensity\" vectors in a single array which contain information on different environmental (and non-environmental) variables, i.e. blue water consumption (million m3, or Mm3), CO2 emissions (metric tons, or tonnes), value added (million €), and jobs (1000 people) per €1 million output."
   ]
  },
  {
   "cell_type": "code",
   "execution_count": null,
   "metadata": {},
   "outputs": [],
   "source": []
  },
  {
   "attachments": {},
   "cell_type": "markdown",
   "metadata": {},
   "source": [
    "## Leontief inverse\n",
    "Calculate the Leontief Inverse matrix: L=(I-A)-1\n",
    "(Note: calculate the Technical Coefficient Matrix A first, the Z matrix normalised by output.)"
   ]
  },
  {
   "cell_type": "code",
   "execution_count": null,
   "metadata": {},
   "outputs": [],
   "source": []
  },
  {
   "attachments": {},
   "cell_type": "markdown",
   "metadata": {},
   "source": [
    "## Carbon footprints\n",
    "\n",
    "a. Calculate the carbon footprint of the three regions.\n",
    "(Note: EF = fLY + Fhh)\n",
    "\n",
    "b. Compare them with their territorial CO2 emissions.\n",
    "(Note: F and Fhh are constructed from territorial, production-based perspective)\n",
    "\n",
    "c. Trace the regions’ carbon footprints to producing sectors and regions.\n",
    "(Note: to retain the producing sector-region breakdown, diagonalize the intensity vector f)"
   ]
  },
  {
   "cell_type": "code",
   "execution_count": null,
   "metadata": {},
   "outputs": [],
   "source": []
  },
  {
   "attachments": {},
   "cell_type": "markdown",
   "metadata": {},
   "source": [
    "## Trade\n",
    "\n",
    "Calculate each region’s net CO2 import (i.e. net emission displacement) through trade."
   ]
  },
  {
   "cell_type": "code",
   "execution_count": null,
   "metadata": {},
   "outputs": [],
   "source": []
  }
 ],
 "metadata": {
  "kernelspec": {
   "display_name": "env_eeio",
   "language": "python",
   "name": "python3"
  },
  "language_info": {
   "name": "python",
   "version": "3.10.2 (tags/v3.10.2:a58ebcc, Jan 17 2022, 14:12:15) [MSC v.1929 64 bit (AMD64)]"
  },
  "orig_nbformat": 4,
  "vscode": {
   "interpreter": {
    "hash": "a0de1fb450ee5e26d734f0aa5b4c4b29e20575809e5e66472467df7627fd957d"
   }
  }
 },
 "nbformat": 4,
 "nbformat_minor": 2
}
