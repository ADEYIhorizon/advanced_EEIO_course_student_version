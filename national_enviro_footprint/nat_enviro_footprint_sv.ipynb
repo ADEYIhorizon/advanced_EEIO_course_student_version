{
 "cells": [
  {
   "cell_type": "markdown",
   "metadata": {
    "slideshow": {
     "slide_type": "slide"
    }
   },
   "source": [
    "# Practical 4: National Environmental Footprints\n",
    "\n",
    "In this practical, you will calculate the total environmental footprints of countries. \n",
    "\n",
    "The objectives of the practical are:\n",
    "- To understand the structure of the MR IO system\n",
    "- Calculate national footprints\n",
    "- Gain transferable skills:\n",
    "    - Master slicing\n",
    "    - Visualize your data\n"
   ]
  },
  {
   "cell_type": "markdown",
   "metadata": {
    "slideshow": {
     "slide_type": "subslide"
    }
   },
   "source": [
    "## Exercise 1: Load the data and labels\n",
    "\n",
    "Import the IO data. The dataset is constructed from real-world data from the year of 2015."
   ]
  },
  {
   "cell_type": "code",
   "execution_count": null,
   "metadata": {
    "slideshow": {
     "slide_type": "fragment"
    }
   },
   "outputs": [],
   "source": [
    "# Import modules\n",
    "import pandas as pd\n",
    "import numpy as np"
   ]
  },
  {
   "cell_type": "markdown",
   "metadata": {
    "slideshow": {
     "slide_type": "subslide"
    }
   },
   "source": [
    "#### 1.1 Import the IO data"
   ]
  },
  {
   "cell_type": "code",
   "execution_count": null,
   "metadata": {
    "slideshow": {
     "slide_type": "fragment"
    }
   },
   "outputs": [],
   "source": [
    "# Import Z, Y, V, F and population data\n",
    "Z = pd.read_csv(\"data/Z.txt\", delimiter=\"\\t\", header=None)\n",
    "Y = pd.read_csv('data/Y.txt', delimiter='\\t', header=None)\n",
    "V = pd.read_csv('data/V.txt', delimiter='\\t', header=None)\n",
    "F = pd.read_csv('data/F.txt', delimiter='\\t', header=None)\n",
    "F_y = pd.read_csv('data/F_y.txt', delimiter='\\t', header=None)"
   ]
  },
  {
   "cell_type": "markdown",
   "metadata": {
    "slideshow": {
     "slide_type": "slide"
    }
   },
   "source": [
    "#### 1.2 Import and organize your labels"
   ]
  },
  {
   "cell_type": "code",
   "execution_count": null,
   "metadata": {
    "slideshow": {
     "slide_type": "fragment"
    }
   },
   "outputs": [],
   "source": [
    "# Import the labels.csv file from the data folder \n",
    "labels = None\n",
    "labels"
   ]
  },
  {
   "cell_type": "code",
   "execution_count": null,
   "metadata": {
    "slideshow": {
     "slide_type": "subslide"
    }
   },
   "outputs": [],
   "source": [
    "# Clean labels for value added and for the extensions\n",
    "va_lb = None\n",
    "f_lb = None"
   ]
  },
  {
   "cell_type": "code",
   "execution_count": null,
   "metadata": {
    "slideshow": {
     "slide_type": "slide"
    }
   },
   "outputs": [],
   "source": [
    "# Import the multi_reg_sectors.csv file from the data folder \n",
    "mr_sec_labels = None\n",
    "mr_sec_labels"
   ]
  },
  {
   "cell_type": "code",
   "execution_count": null,
   "metadata": {
    "slideshow": {
     "slide_type": "slide"
    }
   },
   "outputs": [],
   "source": [
    "# Import the multi_reg_final_demand.csv file from the data folder \n",
    "mr_fd_labels = None\n",
    "mr_fd_labels"
   ]
  },
  {
   "cell_type": "markdown",
   "metadata": {
    "slideshow": {
     "slide_type": "slide"
    }
   },
   "source": [
    "Assign the labels to Z to see how the data is structured\n",
    "\n",
    "tip:  \n",
    "\n",
    "<code>Z.columns = </code>\n",
    "\n",
    "<code>Z.index = </code>"
   ]
  },
  {
   "cell_type": "code",
   "execution_count": null,
   "metadata": {
    "slideshow": {
     "slide_type": "fragment"
    }
   },
   "outputs": [],
   "source": [
    "Z.columns = None\n",
    "Z.index = None\n",
    "Z"
   ]
  },
  {
   "cell_type": "markdown",
   "metadata": {
    "slideshow": {
     "slide_type": "slide"
    }
   },
   "source": [
    "#### 1.3 Brief intro to multi-indexing\n",
    "Multi-indexes are hierarchical indexes useful in the grouping and slicing of columns and rows according to given common labels/features"
   ]
  },
  {
   "cell_type": "code",
   "execution_count": null,
   "metadata": {
    "scrolled": false,
    "slideshow": {
     "slide_type": "fragment"
    }
   },
   "outputs": [],
   "source": [
    "# First we assign the multiindexes to Z using the MultiIndex.from_frame method\n",
    "Z.columns = None\n",
    "Z.index = None\n",
    "Z"
   ]
  },
  {
   "cell_type": "markdown",
   "metadata": {
    "slideshow": {
     "slide_type": "subslide"
    }
   },
   "source": [
    "You can slice dataframes with multi-indexes by using \n",
    "\n",
    "<code>Z.loc[pd.IndexSlice[first_level, second_level],:]</code>\n"
   ]
  },
  {
   "cell_type": "code",
   "execution_count": 1,
   "metadata": {
    "slideshow": {
     "slide_type": "fragment"
    }
   },
   "outputs": [],
   "source": [
    "# Slice a dataframe with a multiindex\n"
   ]
  },
  {
   "cell_type": "markdown",
   "metadata": {
    "slideshow": {
     "slide_type": "slide"
    }
   },
   "source": [
    "## Exercise 2: Calculate your IO system "
   ]
  },
  {
   "cell_type": "markdown",
   "metadata": {
    "slideshow": {
     "slide_type": "subslide"
    }
   },
   "source": [
    "#### 2.1 First convert everything to numpy objects\n",
    "It will facilitate calculations"
   ]
  },
  {
   "cell_type": "code",
   "execution_count": null,
   "metadata": {
    "slideshow": {
     "slide_type": "fragment"
    }
   },
   "outputs": [],
   "source": [
    "Z = Z.values\n",
    "Y = Y.values\n",
    "V = V.values\n",
    "F = F.values\n",
    "F_y = F_y.values"
   ]
  },
  {
   "cell_type": "markdown",
   "metadata": {
    "slideshow": {
     "slide_type": "slide"
    }
   },
   "source": [
    "#### 2.2 Calculate your total product inputs and outputs and check that they match"
   ]
  },
  {
   "cell_type": "code",
   "execution_count": null,
   "metadata": {
    "slideshow": {
     "slide_type": "fragment"
    }
   },
   "outputs": [],
   "source": [
    "X_out = None\n",
    "X_in = None"
   ]
  },
  {
   "cell_type": "code",
   "execution_count": null,
   "metadata": {
    "slideshow": {
     "slide_type": "fragment"
    }
   },
   "outputs": [],
   "source": [
    "# Check if X_out and X_in are the same \n",
    "print(f\"The inputs equal the outputs: {np.allclose(X_in, X_out)}\")"
   ]
  },
  {
   "cell_type": "markdown",
   "metadata": {
    "slideshow": {
     "slide_type": "slide"
    }
   },
   "source": [
    "#### 2.3 Calculate the Leontief inverse of quantity model\n",
    "Calculate the Leontief Inverse matrix: \n",
    "\n",
    "$L=(I-A)^{-1}$\n",
    "\n",
    "(Note: calculate the Technical Coefficient Matrix A first, the Z matrix normalised by output.)"
   ]
  },
  {
   "cell_type": "code",
   "execution_count": null,
   "metadata": {
    "slideshow": {
     "slide_type": "fragment"
    }
   },
   "outputs": [],
   "source": [
    "# Calculate the technical coefficient matrix A\n",
    "inv_diag_X = None\n",
    "A = None\n",
    "\n",
    "# Make an identity matrix of the same order of A\n",
    "I = None\n",
    "\n",
    "# Calculate the Leontief inverse\n",
    "L = None"
   ]
  },
  {
   "cell_type": "markdown",
   "metadata": {
    "slideshow": {
     "slide_type": "slide"
    }
   },
   "source": [
    "#### 2.4 Verify the correctness of the product output"
   ]
  },
  {
   "cell_type": "code",
   "execution_count": null,
   "metadata": {
    "slideshow": {
     "slide_type": "fragment"
    }
   },
   "outputs": [],
   "source": [
    "# Calculate the total product output\n",
    "X = None\n",
    "\n",
    "# Check if X is the same as X_out\n",
    "print(f\"The calculated X is right : {np.allclose(X, X_out)}\")"
   ]
  },
  {
   "cell_type": "markdown",
   "metadata": {
    "slideshow": {
     "slide_type": "slide"
    }
   },
   "source": [
    "## Exercise 3: Carbon footprints\n",
    "\n",
    "a. Calculate the carbon footprint of the the 3 regions.\n",
    "(Note: EF = fLY + F_y)\n",
    "\n",
    "b. Trace the OECD’ carbon footprints to producing sectors and regions.\n",
    "\n",
    "\n",
    "\n",
    "<!---(b. Compare them with their territorial CO2 emissions.\n",
    "(Note: F and Fhh are constructed from territorial, production-based perspective))--->"
   ]
  },
  {
   "cell_type": "markdown",
   "metadata": {
    "slideshow": {
     "slide_type": "slide"
    }
   },
   "source": [
    "#### 3.1 Calculate the extensions intensities \n",
    "Calculate the \"extensions intensities\" vectors which contain information on environmental and non-environmental variables:\n",
    "- blue water consumption (million m3, or Mm3)\n",
    "- CO2 emissions (metric tons, or tonnes)\n",
    "- employment (1000 people) per €1 million output.\n",
    "\n",
    "$f = F \\hat{X}^{-1}$"
   ]
  },
  {
   "cell_type": "code",
   "execution_count": null,
   "metadata": {
    "slideshow": {
     "slide_type": "fragment"
    }
   },
   "outputs": [],
   "source": [
    "# Extensions intensity vector\n",
    "f = None"
   ]
  },
  {
   "cell_type": "markdown",
   "metadata": {
    "slideshow": {
     "slide_type": "slide"
    }
   },
   "source": [
    "#### 3.2 Prepare your regional final demand vectors\n",
    "\n",
    "Two programming approaches\n",
    "\n",
    "- Mathematical approach: Isolate the consumption of a sigle country using matrix algebra\n",
    "\n",
    "- Slicing approach: Isolate the consumption of a single country using slicing methods from numpy and pandas"
   ]
  },
  {
   "cell_type": "markdown",
   "metadata": {
    "slideshow": {
     "slide_type": "subslide"
    }
   },
   "source": [
    "Let's first assign labels to your Y matrix so that it's easiery to analyse results"
   ]
  },
  {
   "cell_type": "code",
   "execution_count": null,
   "metadata": {
    "slideshow": {
     "slide_type": "fragment"
    }
   },
   "outputs": [],
   "source": [
    "# Turn your Y into a dataframe with labels to facilitate analysis\n",
    "Y = None\n",
    "Y"
   ]
  },
  {
   "cell_type": "markdown",
   "metadata": {
    "slideshow": {
     "slide_type": "slide"
    }
   },
   "source": [
    "In the mathematical approach you first create a vector of ones which you modify and then multiply by the final demand matrix\n",
    "\n",
    "$ \\mathbf{Y^{reg}} = \\mathbf{Y} \\mathrm{\\hat{i_j}^{reg}}$"
   ]
  },
  {
   "cell_type": "code",
   "execution_count": null,
   "metadata": {
    "slideshow": {
     "slide_type": "fragment"
    }
   },
   "outputs": [],
   "source": [
    "# 1 Make vector of zeros of the same length of the columns of Y using np.zeros\n",
    "i_j = None\n",
    "\n",
    "# 2 Turn into 1's the zeros of the columns you want to analyse\n",
    "\n",
    "\n",
    "# 3 multiply the diagonlized i_j vector by Y \n",
    "Y_r1 = None\n",
    "\n",
    "Y_r1"
   ]
  },
  {
   "cell_type": "markdown",
   "metadata": {
    "slideshow": {
     "slide_type": "slide"
    }
   },
   "source": [
    "In the slicing approach you take advantage of the slicing methods built within pandas and numpy"
   ]
  },
  {
   "cell_type": "code",
   "execution_count": null,
   "metadata": {
    "slideshow": {
     "slide_type": "fragment"
    }
   },
   "outputs": [],
   "source": [
    "Y_oecd = None \n",
    "Y_oecd"
   ]
  },
  {
   "cell_type": "markdown",
   "metadata": {
    "slideshow": {
     "slide_type": "slide"
    }
   },
   "source": [
    "N.b in this case we don't need to use pd.IndexSlice because OECD is at top level of the hierarchy of the multi-index\n",
    "\n",
    "However if we needed to select the \"Shelter\" sector in the region we would need to use \n",
    "\n",
    "<code>Y.loc[pd.IndexSlice[\"OECD\", \"Shelter\"]]</code>\n",
    "\n",
    "because the sector is in this case is at a lower hierarchy level"
   ]
  },
  {
   "cell_type": "markdown",
   "metadata": {
    "slideshow": {
     "slide_type": "slide"
    }
   },
   "source": [
    "#### Let's check the row sum to compare with the second approach"
   ]
  },
  {
   "cell_type": "code",
   "execution_count": null,
   "metadata": {
    "slideshow": {
     "slide_type": "fragment"
    }
   },
   "outputs": [],
   "source": [
    "pd.concat([Y_r1.sum(axis=1), Y_oecd.sum(axis=1)],axis=1)"
   ]
  },
  {
   "cell_type": "markdown",
   "metadata": {
    "slideshow": {
     "slide_type": "slide"
    }
   },
   "source": [
    "The mathematical approach is preferable for multiple reasons:\n",
    "\n",
    "- it maintains the order (i.e., shape) of Y unalterd\n",
    "\n",
    "- it can be easily combined with the isolation of a specific sector footprint such that: $\\mathbf{Y^{reg}_{sec}}  = \\mathrm{\\hat{i_{i}^{sec}}} \\mathbf{Y^{reg}}$\n",
    "\n",
    "- it relies on the same principle for final demand changes\n",
    "\n",
    "- it's not affected by typos and inconsistencies in labels\n"
   ]
  },
  {
   "cell_type": "code",
   "execution_count": 18,
   "metadata": {
    "slideshow": {
     "slide_type": "subslide"
    }
   },
   "outputs": [],
   "source": [
    "# 1 vector of zeros of the same length of the rows\n",
    "i_i = None\n",
    "\n",
    "# 2 turn into 1's all the 0's that concerns rows (sectors) your want to analyse\n",
    "\n",
    "# 3 multiply the diagonlized i_i vector by the matrix Y_r1 \n",
    "Y_r1_sec2 = None\n",
    "\n",
    "Y_r1_sec2"
   ]
  },
  {
   "cell_type": "markdown",
   "metadata": {
    "slideshow": {
     "slide_type": "slide"
    }
   },
   "source": [
    "#### 3.3 Let's combine the two approaches and calculate the footprints of the OECD region"
   ]
  },
  {
   "cell_type": "code",
   "execution_count": 19,
   "metadata": {
    "slideshow": {
     "slide_type": "slide"
    }
   },
   "outputs": [],
   "source": [
    "# 1 We remake our vector of zeros of the same length of the columns of Y \n",
    "i_j_ = None"
   ]
  },
  {
   "cell_type": "code",
   "execution_count": 20,
   "metadata": {
    "slideshow": {
     "slide_type": "fragment"
    }
   },
   "outputs": [],
   "source": [
    "# 2 we make i_j_oecd as a series with the multi-indexes we need\n",
    "i_j_oecd = None"
   ]
  },
  {
   "cell_type": "code",
   "execution_count": 21,
   "metadata": {
    "slideshow": {
     "slide_type": "fragment"
    }
   },
   "outputs": [],
   "source": [
    "# 3 We modify i_j_oecd to display 1's where the OECD index is present\n"
   ]
  },
  {
   "cell_type": "code",
   "execution_count": 22,
   "metadata": {
    "slideshow": {
     "slide_type": "fragment"
    }
   },
   "outputs": [],
   "source": [
    "# 4 multiply the diagonlized i_j vector by Y \n",
    "Y_oecd = None"
   ]
  },
  {
   "cell_type": "code",
   "execution_count": 25,
   "metadata": {
    "slideshow": {
     "slide_type": "fragment"
    }
   },
   "outputs": [],
   "source": [
    "# 5 We sum the final demand over the rows either with .sum(axis=1) \n",
    "# or by multiplying Y_oecd by a vector of ones of the length of rows\n",
    "Y_oecd = None\n",
    "Y_oecd"
   ]
  },
  {
   "cell_type": "markdown",
   "metadata": {
    "slideshow": {
     "slide_type": "subslide"
    }
   },
   "source": [
    "Let's calculate the total product output of the OECD region\n",
    "\n",
    "$\\text{X} = \\mathbf{L}\\text{Y}^{oecd}$"
   ]
  },
  {
   "cell_type": "code",
   "execution_count": 26,
   "metadata": {
    "slideshow": {
     "slide_type": "fragment"
    }
   },
   "outputs": [],
   "source": [
    "X_oecd = None"
   ]
  },
  {
   "cell_type": "markdown",
   "metadata": {
    "slideshow": {
     "slide_type": "subslide"
    }
   },
   "source": [
    "Multiply the product output vector by extention intensities and then sum the extensions of final demand\n",
    "\n",
    "$F = \\text{f} \\mathbf{L}\\text{Y} + F_{y}$"
   ]
  },
  {
   "cell_type": "code",
   "execution_count": 27,
   "metadata": {
    "slideshow": {
     "slide_type": "fragment"
    }
   },
   "outputs": [],
   "source": [
    "# In this case we diagonalize X_oecd because f in our case is a matrix with multiple extension intensities\n",
    "F_oecd_s = None\n",
    "# Add labels\n",
    "F_oecd_s = None\n",
    "F_oecd_s"
   ]
  },
  {
   "cell_type": "code",
   "execution_count": null,
   "metadata": {
    "slideshow": {
     "slide_type": "slide"
    }
   },
   "outputs": [],
   "source": [
    "# F_y doesn't have any labels\n",
    "F_y"
   ]
  },
  {
   "cell_type": "code",
   "execution_count": 28,
   "metadata": {
    "slideshow": {
     "slide_type": "fragment"
    }
   },
   "outputs": [],
   "source": [
    "# add labels to the final demand extensions so that we can easily select the regions\n",
    "F_y =  None\n",
    "F_y"
   ]
  },
  {
   "cell_type": "code",
   "execution_count": 29,
   "metadata": {
    "slideshow": {
     "slide_type": "slide"
    }
   },
   "outputs": [],
   "source": [
    "# We sum the sectoral extensions to the final demand extensions\n",
    "F_oecd_tot = None\n",
    "F_oecd_tot"
   ]
  },
  {
   "cell_type": "markdown",
   "metadata": {
    "slideshow": {
     "slide_type": "slide"
    }
   },
   "source": [
    "#### 3.4 Calculate the results for all the regions\n",
    "\n",
    "Copy and paste the steps we followed and modify the names of the variables to be generic"
   ]
  },
  {
   "cell_type": "code",
   "execution_count": 30,
   "metadata": {
    "slideshow": {
     "slide_type": "fragment"
    }
   },
   "outputs": [],
   "source": [
    "# we first make a dictionary to store our results\n",
    "regional_footprints = {}\n",
    "\n",
    "# We create the zero vector\n",
    "i_j_ = None\n",
    "\n",
    "# We create a for loop iterating through the available regions\n",
    "# and applying the discussed procedures to calculate the regional footprints"
   ]
  }
 ],
 "metadata": {
  "celltoolbar": "Slideshow",
  "kernelspec": {
   "display_name": "Python 3 (ipykernel)",
   "language": "python",
   "name": "python3"
  },
  "language_info": {
   "codemirror_mode": {
    "name": "ipython",
    "version": 3
   },
   "file_extension": ".py",
   "mimetype": "text/x-python",
   "name": "python",
   "nbconvert_exporter": "python",
   "pygments_lexer": "ipython3",
   "version": "3.9.16"
  },
  "vscode": {
   "interpreter": {
    "hash": "6d1f42742d8eeff3650217bec81eeb13815fa78739aef7423c986dc57d3645fd"
   }
  }
 },
 "nbformat": 4,
 "nbformat_minor": 2
}
