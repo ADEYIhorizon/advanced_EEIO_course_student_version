{
 "cells": [
  {
   "attachments": {},
   "cell_type": "markdown",
   "metadata": {},
   "source": [
    "# Calculate the Leontief model\n",
    "\n",
    "### Objectives\n",
    "- Understand the format of input-output tables\n",
    "- Interpret the Leontief inverse\n",
    "- Apply demand and price driven models\n",
    "- Calculate the carbon footprint\n",
    "\n",
    "## Exercise\n",
    "\n",
    "A fictitious nation has a very basic national economy consisting of five sectors, each producing a single type of goods for sale: rice, beef, electricity, car, and insurance. The following data were obtained from the nation's Bureau of Statistics:\n",
    "Inter-industry transactions and value added (unit: €/year):"
   ]
  },
  {
   "cell_type": "code",
   "execution_count": 1,
   "metadata": {},
   "outputs": [],
   "source": [
    "# import modules\n",
    "import pandas as pd\n",
    "import numpy as np\n",
    "import matplotlib.pyplot as plt\n",
    "from matplotlib import style\n",
    "plt.style.use('bmh')\n",
    "\n",
    "# # Import data\n",
    "\n",
    "# CBS_IO = pd.ExcelFile(f\"data/Input-Output tables 2015-2019.xlsx\", engine=\"openpyxl\")"
   ]
  },
  {
   "cell_type": "markdown",
   "metadata": {},
   "source": [
    "#### Inter-industry transactions and value added (unit: €/year):"
   ]
  },
  {
   "cell_type": "code",
   "execution_count": 3,
   "metadata": {},
   "outputs": [
    {
     "data": {
      "text/html": [
       "<div>\n",
       "<style scoped>\n",
       "    .dataframe tbody tr th:only-of-type {\n",
       "        vertical-align: middle;\n",
       "    }\n",
       "\n",
       "    .dataframe tbody tr th {\n",
       "        vertical-align: top;\n",
       "    }\n",
       "\n",
       "    .dataframe thead th {\n",
       "        text-align: right;\n",
       "    }\n",
       "</style>\n",
       "<table border=\"1\" class=\"dataframe\">\n",
       "  <thead>\n",
       "    <tr style=\"text-align: right;\">\n",
       "      <th>industry</th>\n",
       "      <th>rice farm</th>\n",
       "      <th>cattle farm</th>\n",
       "      <th>power plant</th>\n",
       "      <th>car maker</th>\n",
       "      <th>insurance company</th>\n",
       "    </tr>\n",
       "    <tr>\n",
       "      <th>product</th>\n",
       "      <th></th>\n",
       "      <th></th>\n",
       "      <th></th>\n",
       "      <th></th>\n",
       "      <th></th>\n",
       "    </tr>\n",
       "  </thead>\n",
       "  <tbody>\n",
       "    <tr>\n",
       "      <th>rice</th>\n",
       "      <td>100</td>\n",
       "      <td>1900</td>\n",
       "      <td>0</td>\n",
       "      <td>0</td>\n",
       "      <td>0</td>\n",
       "    </tr>\n",
       "    <tr>\n",
       "      <th>beef</th>\n",
       "      <td>0</td>\n",
       "      <td>1000</td>\n",
       "      <td>0</td>\n",
       "      <td>0</td>\n",
       "      <td>0</td>\n",
       "    </tr>\n",
       "    <tr>\n",
       "      <th>electricity</th>\n",
       "      <td>1600</td>\n",
       "      <td>2500</td>\n",
       "      <td>900</td>\n",
       "      <td>1000</td>\n",
       "      <td>4000</td>\n",
       "    </tr>\n",
       "    <tr>\n",
       "      <th>car</th>\n",
       "      <td>500</td>\n",
       "      <td>1500</td>\n",
       "      <td>1500</td>\n",
       "      <td>1000</td>\n",
       "      <td>1500</td>\n",
       "    </tr>\n",
       "    <tr>\n",
       "      <th>insurance</th>\n",
       "      <td>300</td>\n",
       "      <td>700</td>\n",
       "      <td>3000</td>\n",
       "      <td>2000</td>\n",
       "      <td>1000</td>\n",
       "    </tr>\n",
       "  </tbody>\n",
       "</table>\n",
       "</div>"
      ],
      "text/plain": [
       "industry     rice farm  cattle farm  power plant  car maker  insurance company\n",
       "product                                                                       \n",
       "rice               100         1900            0          0                  0\n",
       "beef                 0         1000            0          0                  0\n",
       "electricity       1600         2500          900       1000               4000\n",
       "car                500         1500         1500       1000               1500\n",
       "insurance          300          700         3000       2000               1000"
      ]
     },
     "execution_count": 3,
     "metadata": {},
     "output_type": "execute_result"
    }
   ],
   "source": [
    "# Products are the rows, industry are the columns\n",
    "Z = np.array([\n",
    "    [100, 1900, 0, 0, 0],\n",
    "    [0, 1000, 0, 0, 0],\n",
    "    [1600, 2500, 900, 1000, 4000],\n",
    "    [500, 1500, 1500, 1000, 1500],\n",
    "    [300, 700, 3000, 2000, 1000]\n",
    "], dtype=np.int32)\n",
    "Z\n",
    "\n",
    "Z = pd.DataFrame(\n",
    "     Z,\n",
    "     index=pd.Index([\"rice\", \"beef\", \"electricity\", \"car\", \"insurance\"], name=\"product\"),\n",
    "     columns=pd.Index([\"rice farm\", \"cattle farm\", \"power plant\", \"car maker\", \"insurance company\"], name=\"industry\")\n",
    " )\n",
    "Z"
   ]
  },
  {
   "cell_type": "markdown",
   "metadata": {},
   "source": [
    "#### The value of finished products sold (final consumption,€/year):"
   ]
  },
  {
   "cell_type": "code",
   "execution_count": 4,
   "metadata": {},
   "outputs": [
    {
     "data": {
      "text/html": [
       "<div>\n",
       "<style scoped>\n",
       "    .dataframe tbody tr th:only-of-type {\n",
       "        vertical-align: middle;\n",
       "    }\n",
       "\n",
       "    .dataframe tbody tr th {\n",
       "        vertical-align: top;\n",
       "    }\n",
       "\n",
       "    .dataframe thead th {\n",
       "        text-align: right;\n",
       "    }\n",
       "</style>\n",
       "<table border=\"1\" class=\"dataframe\">\n",
       "  <thead>\n",
       "    <tr style=\"text-align: right;\">\n",
       "      <th>industry</th>\n",
       "      <th>rice farm</th>\n",
       "      <th>cattle farm</th>\n",
       "      <th>power plant</th>\n",
       "      <th>car maker</th>\n",
       "      <th>insurance company</th>\n",
       "    </tr>\n",
       "  </thead>\n",
       "  <tbody>\n",
       "    <tr>\n",
       "      <th>Value added</th>\n",
       "      <td>2500</td>\n",
       "      <td>2400</td>\n",
       "      <td>9600</td>\n",
       "      <td>16000</td>\n",
       "      <td>8500</td>\n",
       "    </tr>\n",
       "  </tbody>\n",
       "</table>\n",
       "</div>"
      ],
      "text/plain": [
       "industry     rice farm  cattle farm  power plant  car maker  insurance company\n",
       "Value added       2500         2400         9600      16000               8500"
      ]
     },
     "execution_count": 4,
     "metadata": {},
     "output_type": "execute_result"
    }
   ],
   "source": [
    "# Value added (last row of the first table)\n",
    "v = np.array([2500, 2400, 9600, 16000, 8500], dtype=np.int32)\n",
    "v = pd.DataFrame(v, columns=[\"Value added\"], index=pd.Index([\"rice farm\", \"cattle farm\", \"power plant\", \"car maker\", \"insurance company\"], name=\"industry\")).T\n",
    "v"
   ]
  },
  {
   "attachments": {},
   "cell_type": "markdown",
   "metadata": {},
   "source": [
    "#### Final value of the products sold"
   ]
  },
  {
   "cell_type": "code",
   "execution_count": 5,
   "metadata": {},
   "outputs": [
    {
     "data": {
      "text/html": [
       "<div>\n",
       "<style scoped>\n",
       "    .dataframe tbody tr th:only-of-type {\n",
       "        vertical-align: middle;\n",
       "    }\n",
       "\n",
       "    .dataframe tbody tr th {\n",
       "        vertical-align: top;\n",
       "    }\n",
       "\n",
       "    .dataframe thead th {\n",
       "        text-align: right;\n",
       "    }\n",
       "</style>\n",
       "<table border=\"1\" class=\"dataframe\">\n",
       "  <thead>\n",
       "    <tr style=\"text-align: right;\">\n",
       "      <th></th>\n",
       "      <th>Final Demand</th>\n",
       "    </tr>\n",
       "    <tr>\n",
       "      <th>product</th>\n",
       "      <th></th>\n",
       "    </tr>\n",
       "  </thead>\n",
       "  <tbody>\n",
       "    <tr>\n",
       "      <th>rice</th>\n",
       "      <td>3000</td>\n",
       "    </tr>\n",
       "    <tr>\n",
       "      <th>beef</th>\n",
       "      <td>9000</td>\n",
       "    </tr>\n",
       "    <tr>\n",
       "      <th>electricity</th>\n",
       "      <td>5000</td>\n",
       "    </tr>\n",
       "    <tr>\n",
       "      <th>car</th>\n",
       "      <td>14000</td>\n",
       "    </tr>\n",
       "    <tr>\n",
       "      <th>insurance</th>\n",
       "      <td>8000</td>\n",
       "    </tr>\n",
       "  </tbody>\n",
       "</table>\n",
       "</div>"
      ],
      "text/plain": [
       "             Final Demand\n",
       "product                  \n",
       "rice                 3000\n",
       "beef                 9000\n",
       "electricity          5000\n",
       "car                 14000\n",
       "insurance            8000"
      ]
     },
     "execution_count": 5,
     "metadata": {},
     "output_type": "execute_result"
    }
   ],
   "source": [
    "y = np.array([3000, 9000, 5000, 14000, 8000], dtype=np.int32)\n",
    "y = pd.DataFrame(y,  index=pd.Index([\"rice\", \"beef\", \"electricity\", \"car\", \"insurance\"], name=\"product\"), columns=[\"Final Demand\"])\n",
    "y"
   ]
  },
  {
   "cell_type": "markdown",
   "metadata": {},
   "source": [
    "#### The direct water use and CO2 emissions by sector. (Note: this is the environmental extension matrix F)"
   ]
  },
  {
   "cell_type": "code",
   "execution_count": 6,
   "metadata": {},
   "outputs": [
    {
     "data": {
      "text/html": [
       "<div>\n",
       "<style scoped>\n",
       "    .dataframe tbody tr th:only-of-type {\n",
       "        vertical-align: middle;\n",
       "    }\n",
       "\n",
       "    .dataframe tbody tr th {\n",
       "        vertical-align: top;\n",
       "    }\n",
       "\n",
       "    .dataframe thead th {\n",
       "        text-align: right;\n",
       "    }\n",
       "</style>\n",
       "<table border=\"1\" class=\"dataframe\">\n",
       "  <thead>\n",
       "    <tr style=\"text-align: right;\">\n",
       "      <th>industry</th>\n",
       "      <th>rice farm</th>\n",
       "      <th>cattle farm</th>\n",
       "      <th>power plant</th>\n",
       "      <th>car maker</th>\n",
       "      <th>insurance company</th>\n",
       "    </tr>\n",
       "    <tr>\n",
       "      <th>extensions</th>\n",
       "      <th></th>\n",
       "      <th></th>\n",
       "      <th></th>\n",
       "      <th></th>\n",
       "      <th></th>\n",
       "    </tr>\n",
       "  </thead>\n",
       "  <tbody>\n",
       "    <tr>\n",
       "      <th>Water Use (L)</th>\n",
       "      <td>10000</td>\n",
       "      <td>2000</td>\n",
       "      <td>15000</td>\n",
       "      <td>1000</td>\n",
       "      <td>750</td>\n",
       "    </tr>\n",
       "    <tr>\n",
       "      <th>CO2 Emissions (kg)</th>\n",
       "      <td>50</td>\n",
       "      <td>500</td>\n",
       "      <td>7500</td>\n",
       "      <td>300</td>\n",
       "      <td>15</td>\n",
       "    </tr>\n",
       "  </tbody>\n",
       "</table>\n",
       "</div>"
      ],
      "text/plain": [
       "industry            rice farm  cattle farm  power plant  car maker  \\\n",
       "extensions                                                           \n",
       "Water Use (L)           10000         2000        15000       1000   \n",
       "CO2 Emissions (kg)         50          500         7500        300   \n",
       "\n",
       "industry            insurance company  \n",
       "extensions                             \n",
       "Water Use (L)                     750  \n",
       "CO2 Emissions (kg)                 15  "
      ]
     },
     "execution_count": 6,
     "metadata": {},
     "output_type": "execute_result"
    }
   ],
   "source": [
    "F = np.array([\n",
    "    [10000, 2000, 15000, 1000, 750],\n",
    "    [50, 500, 7500, 300, 15]\n",
    "], dtype=np.int32)\n",
    "\n",
    "F = pd.DataFrame(F, \n",
    "                 index=pd.Index([\"Water Use (L)\", \"CO2 Emissions (kg)\"], name=\"extensions\"), \n",
    "                 columns=pd.Index([\"rice farm\", \"cattle farm\", \"power plant\", \"car maker\", \"insurance company\"], name=\"industry\"))\n",
    "F\n"
   ]
  },
  {
   "cell_type": "markdown",
   "metadata": {},
   "source": [
    "#### Total outputs: intermediate output + final product output\n",
    "\n",
    "Multiply the products/industry table (Z) by shaped array of ones...\n",
    "i = np.ones((5,1))  # shape (5, 1)\n",
    "z_sum = np.dot(Z, i)  # shape (5, 1)\n",
    "\n",
    "... Or just get the sum of the rows while keeping the dimensions.\n",
    "Z_sum = Z.sum(axis=1)  # Wrong dimensions: shape (5, )"
   ]
  },
  {
   "cell_type": "code",
   "execution_count": 27,
   "metadata": {},
   "outputs": [
    {
     "data": {
      "text/html": [
       "<div>\n",
       "<style scoped>\n",
       "    .dataframe tbody tr th:only-of-type {\n",
       "        vertical-align: middle;\n",
       "    }\n",
       "\n",
       "    .dataframe tbody tr th {\n",
       "        vertical-align: top;\n",
       "    }\n",
       "\n",
       "    .dataframe thead th {\n",
       "        text-align: right;\n",
       "    }\n",
       "</style>\n",
       "<table border=\"1\" class=\"dataframe\">\n",
       "  <thead>\n",
       "    <tr style=\"text-align: right;\">\n",
       "      <th>product</th>\n",
       "      <th>rice</th>\n",
       "      <th>beef</th>\n",
       "      <th>electricity</th>\n",
       "      <th>car</th>\n",
       "      <th>insurance</th>\n",
       "    </tr>\n",
       "  </thead>\n",
       "  <tbody>\n",
       "    <tr>\n",
       "      <th>Product output</th>\n",
       "      <td>5000</td>\n",
       "      <td>10000</td>\n",
       "      <td>15000</td>\n",
       "      <td>20000</td>\n",
       "      <td>15000</td>\n",
       "    </tr>\n",
       "  </tbody>\n",
       "</table>\n",
       "</div>"
      ],
      "text/plain": [
       "product         rice   beef  electricity    car  insurance\n",
       "Product output  5000  10000        15000  20000      15000"
      ]
     },
     "execution_count": 27,
     "metadata": {},
     "output_type": "execute_result"
    }
   ],
   "source": [
    "Z_sum = Z.sum(axis=1)  # shape (5, 1)\n",
    "x_out = Z_sum + y.T\n",
    "x_out.index = [\"Product output\"]\n",
    "x_out"
   ]
  },
  {
   "cell_type": "code",
   "execution_count": 28,
   "metadata": {},
   "outputs": [
    {
     "data": {
      "text/html": [
       "<div>\n",
       "<style scoped>\n",
       "    .dataframe tbody tr th:only-of-type {\n",
       "        vertical-align: middle;\n",
       "    }\n",
       "\n",
       "    .dataframe tbody tr th {\n",
       "        vertical-align: top;\n",
       "    }\n",
       "\n",
       "    .dataframe thead th {\n",
       "        text-align: right;\n",
       "    }\n",
       "</style>\n",
       "<table border=\"1\" class=\"dataframe\">\n",
       "  <thead>\n",
       "    <tr style=\"text-align: right;\">\n",
       "      <th>industry</th>\n",
       "      <th>rice farm</th>\n",
       "      <th>cattle farm</th>\n",
       "      <th>power plant</th>\n",
       "      <th>car maker</th>\n",
       "      <th>insurance company</th>\n",
       "    </tr>\n",
       "  </thead>\n",
       "  <tbody>\n",
       "    <tr>\n",
       "      <th>Product input</th>\n",
       "      <td>5000</td>\n",
       "      <td>10000</td>\n",
       "      <td>15000</td>\n",
       "      <td>20000</td>\n",
       "      <td>15000</td>\n",
       "    </tr>\n",
       "  </tbody>\n",
       "</table>\n",
       "</div>"
      ],
      "text/plain": [
       "industry       rice farm  cattle farm  power plant  car maker  \\\n",
       "Product input       5000        10000        15000      20000   \n",
       "\n",
       "industry       insurance company  \n",
       "Product input              15000  "
      ]
     },
     "execution_count": 28,
     "metadata": {},
     "output_type": "execute_result"
    }
   ],
   "source": [
    "# Total inputs: intermediate input + value added\n",
    "Z_sum = Z.sum(axis=0)  # shape (1, 5)\n",
    "x_in = Z_sum + v\n",
    "x_in.index = [\"Product input\"]\n",
    "x_in"
   ]
  },
  {
   "cell_type": "code",
   "execution_count": 106,
   "metadata": {},
   "outputs": [
    {
     "data": {
      "text/html": [
       "<div>\n",
       "<style scoped>\n",
       "    .dataframe tbody tr th:only-of-type {\n",
       "        vertical-align: middle;\n",
       "    }\n",
       "\n",
       "    .dataframe tbody tr th {\n",
       "        vertical-align: top;\n",
       "    }\n",
       "\n",
       "    .dataframe thead th {\n",
       "        text-align: right;\n",
       "    }\n",
       "</style>\n",
       "<table border=\"1\" class=\"dataframe\">\n",
       "  <thead>\n",
       "    <tr style=\"text-align: right;\">\n",
       "      <th>industry</th>\n",
       "      <th>rice farm</th>\n",
       "      <th>cattle farm</th>\n",
       "      <th>power plant</th>\n",
       "      <th>car maker</th>\n",
       "      <th>insurance company</th>\n",
       "    </tr>\n",
       "  </thead>\n",
       "  <tbody>\n",
       "    <tr>\n",
       "      <th>Value added</th>\n",
       "      <td>0.5</td>\n",
       "      <td>0.24</td>\n",
       "      <td>0.64</td>\n",
       "      <td>0.8</td>\n",
       "      <td>0.566667</td>\n",
       "    </tr>\n",
       "  </tbody>\n",
       "</table>\n",
       "</div>"
      ],
      "text/plain": [
       "industry     rice farm  cattle farm  power plant  car maker  insurance company\n",
       "Value added        0.5         0.24         0.64        0.8           0.566667"
      ]
     },
     "execution_count": 106,
     "metadata": {},
     "output_type": "execute_result"
    }
   ],
   "source": [
    "# Value added divided by total output\n",
    "f_va = v * 1/x_out.values\n",
    "f_va"
   ]
  },
  {
   "cell_type": "code",
   "execution_count": 109,
   "metadata": {},
   "outputs": [
    {
     "data": {
      "text/html": [
       "<div>\n",
       "<style scoped>\n",
       "    .dataframe tbody tr th:only-of-type {\n",
       "        vertical-align: middle;\n",
       "    }\n",
       "\n",
       "    .dataframe tbody tr th {\n",
       "        vertical-align: top;\n",
       "    }\n",
       "\n",
       "    .dataframe thead th {\n",
       "        text-align: right;\n",
       "    }\n",
       "</style>\n",
       "<table border=\"1\" class=\"dataframe\">\n",
       "  <thead>\n",
       "    <tr style=\"text-align: right;\">\n",
       "      <th>industry</th>\n",
       "      <th>rice farm</th>\n",
       "      <th>cattle farm</th>\n",
       "      <th>power plant</th>\n",
       "      <th>car maker</th>\n",
       "      <th>insurance company</th>\n",
       "    </tr>\n",
       "  </thead>\n",
       "  <tbody>\n",
       "    <tr>\n",
       "      <th>Water Use (L)</th>\n",
       "      <td>2.00</td>\n",
       "      <td>0.20</td>\n",
       "      <td>1.00</td>\n",
       "      <td>0.050</td>\n",
       "      <td>0.050000</td>\n",
       "    </tr>\n",
       "    <tr>\n",
       "      <th>CO2 Emissions (kg)</th>\n",
       "      <td>0.01</td>\n",
       "      <td>0.05</td>\n",
       "      <td>0.50</td>\n",
       "      <td>0.015</td>\n",
       "      <td>0.001000</td>\n",
       "    </tr>\n",
       "    <tr>\n",
       "      <th>Value added</th>\n",
       "      <td>0.50</td>\n",
       "      <td>0.24</td>\n",
       "      <td>0.64</td>\n",
       "      <td>0.800</td>\n",
       "      <td>0.566667</td>\n",
       "    </tr>\n",
       "  </tbody>\n",
       "</table>\n",
       "</div>"
      ],
      "text/plain": [
       "industry            rice farm  cattle farm  power plant  car maker  \\\n",
       "Water Use (L)            2.00         0.20         1.00      0.050   \n",
       "CO2 Emissions (kg)       0.01         0.05         0.50      0.015   \n",
       "Value added              0.50         0.24         0.64      0.800   \n",
       "\n",
       "industry            insurance company  \n",
       "Water Use (L)                0.050000  \n",
       "CO2 Emissions (kg)           0.001000  \n",
       "Value added                  0.566667  "
      ]
     },
     "execution_count": 109,
     "metadata": {},
     "output_type": "execute_result"
    }
   ],
   "source": [
    "# Calculate environmental intensities\n",
    "f_all = F * 1/x_out.values\n",
    "\n",
    "# add/concatenate the value added intensity\n",
    "f_all = pd.concat([pd.DataFrame(f_all), f_va], axis=0)\n",
    "f_all"
   ]
  },
  {
   "cell_type": "code",
   "execution_count": 112,
   "metadata": {},
   "outputs": [
    {
     "ename": "ValueError",
     "evalue": "Unable to coerce to DataFrame, shape must be (6, 10): given (5, 5)",
     "output_type": "error",
     "traceback": [
      "\u001b[1;31m---------------------------------------------------------------------------\u001b[0m",
      "\u001b[1;31mValueError\u001b[0m                                Traceback (most recent call last)",
      "Cell \u001b[1;32mIn[112], line 8\u001b[0m\n\u001b[0;32m      6\u001b[0m I \u001b[39m=\u001b[39m np\u001b[39m.\u001b[39midentity(\u001b[39m5\u001b[39m)\n\u001b[0;32m      7\u001b[0m \u001b[39m# Use numpy linear algebra inverse function to get L = (I - A)^-1\u001b[39;00m\n\u001b[1;32m----> 8\u001b[0m L \u001b[39m=\u001b[39m np\u001b[39m.\u001b[39mlinalg\u001b[39m.\u001b[39minv(I \u001b[39m-\u001b[39;49m A)\n\u001b[0;32m      9\u001b[0m L\n",
      "File \u001b[1;32mc:\\Users\\fdona\\Documents\\virtual_environments\\env_eeio\\lib\\site-packages\\pandas\\core\\generic.py:2113\u001b[0m, in \u001b[0;36mNDFrame.__array_ufunc__\u001b[1;34m(self, ufunc, method, *inputs, **kwargs)\u001b[0m\n\u001b[0;32m   2109\u001b[0m \u001b[39m@final\u001b[39m\n\u001b[0;32m   2110\u001b[0m \u001b[39mdef\u001b[39;00m \u001b[39m__array_ufunc__\u001b[39m(\n\u001b[0;32m   2111\u001b[0m     \u001b[39mself\u001b[39m, ufunc: np\u001b[39m.\u001b[39mufunc, method: \u001b[39mstr\u001b[39m, \u001b[39m*\u001b[39minputs: Any, \u001b[39m*\u001b[39m\u001b[39m*\u001b[39mkwargs: Any\n\u001b[0;32m   2112\u001b[0m ):\n\u001b[1;32m-> 2113\u001b[0m     \u001b[39mreturn\u001b[39;00m arraylike\u001b[39m.\u001b[39marray_ufunc(\u001b[39mself\u001b[39m, ufunc, method, \u001b[39m*\u001b[39minputs, \u001b[39m*\u001b[39m\u001b[39m*\u001b[39mkwargs)\n",
      "File \u001b[1;32mc:\\Users\\fdona\\Documents\\virtual_environments\\env_eeio\\lib\\site-packages\\pandas\\core\\arraylike.py:265\u001b[0m, in \u001b[0;36marray_ufunc\u001b[1;34m(self, ufunc, method, *inputs, **kwargs)\u001b[0m\n\u001b[0;32m    262\u001b[0m     \u001b[39mreturn\u001b[39;00m result\n\u001b[0;32m    264\u001b[0m \u001b[39m# for binary ops, use our custom dunder methods\u001b[39;00m\n\u001b[1;32m--> 265\u001b[0m result \u001b[39m=\u001b[39m maybe_dispatch_ufunc_to_dunder_op(\u001b[39mself\u001b[39m, ufunc, method, \u001b[39m*\u001b[39minputs, \u001b[39m*\u001b[39m\u001b[39m*\u001b[39mkwargs)\n\u001b[0;32m    266\u001b[0m \u001b[39mif\u001b[39;00m result \u001b[39mis\u001b[39;00m \u001b[39mnot\u001b[39;00m \u001b[39mNotImplemented\u001b[39m:\n\u001b[0;32m    267\u001b[0m     \u001b[39mreturn\u001b[39;00m result\n",
      "File \u001b[1;32mc:\\Users\\fdona\\Documents\\virtual_environments\\env_eeio\\lib\\site-packages\\pandas\\_libs\\ops_dispatch.pyx:113\u001b[0m, in \u001b[0;36mpandas._libs.ops_dispatch.maybe_dispatch_ufunc_to_dunder_op\u001b[1;34m()\u001b[0m\n",
      "File \u001b[1;32mc:\\Users\\fdona\\Documents\\virtual_environments\\env_eeio\\lib\\site-packages\\pandas\\core\\ops\\common.py:72\u001b[0m, in \u001b[0;36m_unpack_zerodim_and_defer.<locals>.new_method\u001b[1;34m(self, other)\u001b[0m\n\u001b[0;32m     68\u001b[0m             \u001b[39mreturn\u001b[39;00m \u001b[39mNotImplemented\u001b[39m\n\u001b[0;32m     70\u001b[0m other \u001b[39m=\u001b[39m item_from_zerodim(other)\n\u001b[1;32m---> 72\u001b[0m \u001b[39mreturn\u001b[39;00m method(\u001b[39mself\u001b[39;49m, other)\n",
      "File \u001b[1;32mc:\\Users\\fdona\\Documents\\virtual_environments\\env_eeio\\lib\\site-packages\\pandas\\core\\arraylike.py:114\u001b[0m, in \u001b[0;36mOpsMixin.__rsub__\u001b[1;34m(self, other)\u001b[0m\n\u001b[0;32m    112\u001b[0m \u001b[39m@unpack_zerodim_and_defer\u001b[39m(\u001b[39m\"\u001b[39m\u001b[39m__rsub__\u001b[39m\u001b[39m\"\u001b[39m)\n\u001b[0;32m    113\u001b[0m \u001b[39mdef\u001b[39;00m \u001b[39m__rsub__\u001b[39m(\u001b[39mself\u001b[39m, other):\n\u001b[1;32m--> 114\u001b[0m     \u001b[39mreturn\u001b[39;00m \u001b[39mself\u001b[39;49m\u001b[39m.\u001b[39;49m_arith_method(other, roperator\u001b[39m.\u001b[39;49mrsub)\n",
      "File \u001b[1;32mc:\\Users\\fdona\\Documents\\virtual_environments\\env_eeio\\lib\\site-packages\\pandas\\core\\frame.py:7589\u001b[0m, in \u001b[0;36mDataFrame._arith_method\u001b[1;34m(self, other, op)\u001b[0m\n\u001b[0;32m   7586\u001b[0m axis \u001b[39m=\u001b[39m \u001b[39m1\u001b[39m  \u001b[39m# only relevant for Series other case\u001b[39;00m\n\u001b[0;32m   7587\u001b[0m other \u001b[39m=\u001b[39m ops\u001b[39m.\u001b[39mmaybe_prepare_scalar_for_op(other, (\u001b[39mself\u001b[39m\u001b[39m.\u001b[39mshape[axis],))\n\u001b[1;32m-> 7589\u001b[0m \u001b[39mself\u001b[39m, other \u001b[39m=\u001b[39m ops\u001b[39m.\u001b[39;49malign_method_FRAME(\u001b[39mself\u001b[39;49m, other, axis, flex\u001b[39m=\u001b[39;49m\u001b[39mTrue\u001b[39;49;00m, level\u001b[39m=\u001b[39;49m\u001b[39mNone\u001b[39;49;00m)\n\u001b[0;32m   7591\u001b[0m new_data \u001b[39m=\u001b[39m \u001b[39mself\u001b[39m\u001b[39m.\u001b[39m_dispatch_frame_op(other, op, axis\u001b[39m=\u001b[39maxis)\n\u001b[0;32m   7592\u001b[0m \u001b[39mreturn\u001b[39;00m \u001b[39mself\u001b[39m\u001b[39m.\u001b[39m_construct_result(new_data)\n",
      "File \u001b[1;32mc:\\Users\\fdona\\Documents\\virtual_environments\\env_eeio\\lib\\site-packages\\pandas\\core\\ops\\__init__.py:264\u001b[0m, in \u001b[0;36malign_method_FRAME\u001b[1;34m(left, right, axis, flex, level)\u001b[0m\n\u001b[0;32m    261\u001b[0m         right \u001b[39m=\u001b[39m to_series(right[\u001b[39m0\u001b[39m, :])\n\u001b[0;32m    263\u001b[0m     \u001b[39melse\u001b[39;00m:\n\u001b[1;32m--> 264\u001b[0m         \u001b[39mraise\u001b[39;00m \u001b[39mValueError\u001b[39;00m(\n\u001b[0;32m    265\u001b[0m             \u001b[39m\"\u001b[39m\u001b[39mUnable to coerce to DataFrame, shape \u001b[39m\u001b[39m\"\u001b[39m\n\u001b[0;32m    266\u001b[0m             \u001b[39mf\u001b[39m\u001b[39m\"\u001b[39m\u001b[39mmust be \u001b[39m\u001b[39m{\u001b[39;00mleft\u001b[39m.\u001b[39mshape\u001b[39m}\u001b[39;00m\u001b[39m: given \u001b[39m\u001b[39m{\u001b[39;00mright\u001b[39m.\u001b[39mshape\u001b[39m}\u001b[39;00m\u001b[39m\"\u001b[39m\n\u001b[0;32m    267\u001b[0m         )\n\u001b[0;32m    269\u001b[0m \u001b[39melif\u001b[39;00m right\u001b[39m.\u001b[39mndim \u001b[39m>\u001b[39m \u001b[39m2\u001b[39m:\n\u001b[0;32m    270\u001b[0m     \u001b[39mraise\u001b[39;00m \u001b[39mValueError\u001b[39;00m(\n\u001b[0;32m    271\u001b[0m         \u001b[39m\"\u001b[39m\u001b[39mUnable to coerce to Series/DataFrame, \u001b[39m\u001b[39m\"\u001b[39m\n\u001b[0;32m    272\u001b[0m         \u001b[39mf\u001b[39m\u001b[39m\"\u001b[39m\u001b[39mdimension must be <= 2: \u001b[39m\u001b[39m{\u001b[39;00mright\u001b[39m.\u001b[39mshape\u001b[39m}\u001b[39;00m\u001b[39m\"\u001b[39m\n\u001b[0;32m    273\u001b[0m     )\n",
      "\u001b[1;31mValueError\u001b[0m: Unable to coerce to DataFrame, shape must be (6, 10): given (5, 5)"
     ]
    }
   ],
   "source": [
    "# Calculate the leontief inverse matrix\n",
    "\n",
    "# Create the technical coefficient matrix A first\n",
    "A = Z / x_out.transpose()\n",
    "# Create an identity matrix the same shape as A\n",
    "I = np.identity(5)\n",
    "# Use numpy linear algebra inverse function to get L = (I - A)^-1\n",
    "L = np.linalg.inv(I - A)\n",
    "L"
   ]
  },
  {
   "cell_type": "code",
   "execution_count": null,
   "metadata": {},
   "outputs": [
    {
     "ename": "",
     "evalue": "",
     "output_type": "error",
     "traceback": [
      "\u001b[1;31mRunning cells with 'env_eeio' requires ipykernel package.\n",
      "\u001b[1;31mRun the following command to install 'ipykernel' into the Python environment. \n",
      "\u001b[1;31mCommand: 'c:/Users/fdona/Documents/virtual_environments/env_eeio/Scripts/python.exe -m pip install ipykernel -U --force-reinstall'"
     ]
    }
   ],
   "source": [
    "# Task 4 Insurance's water multiplier\n",
    "f_tot_water = f_water.dot(L)\n",
    "f_tot_water"
   ]
  },
  {
   "cell_type": "code",
   "execution_count": null,
   "metadata": {},
   "outputs": [
    {
     "ename": "",
     "evalue": "",
     "output_type": "error",
     "traceback": [
      "\u001b[1;31mRunning cells with 'env_eeio' requires ipykernel package.\n",
      "\u001b[1;31mRun the following command to install 'ipykernel' into the Python environment. \n",
      "\u001b[1;31mCommand: 'c:/Users/fdona/Documents/virtual_environments/env_eeio/Scripts/python.exe -m pip install ipykernel -U --force-reinstall'"
     ]
    }
   ],
   "source": [
    "# We can also store the information we have about all of the processes\n",
    "f_tot_water_p = np.diagflat(f_water).dot(L)\n",
    "f_tot_water_p"
   ]
  },
  {
   "cell_type": "code",
   "execution_count": null,
   "metadata": {},
   "outputs": [
    {
     "ename": "",
     "evalue": "",
     "output_type": "error",
     "traceback": [
      "\u001b[1;31mRunning cells with 'env_eeio' requires ipykernel package.\n",
      "\u001b[1;31mRun the following command to install 'ipykernel' into the Python environment. \n",
      "\u001b[1;31mCommand: 'c:/Users/fdona/Documents/virtual_environments/env_eeio/Scripts/python.exe -m pip install ipykernel -U --force-reinstall'"
     ]
    }
   ],
   "source": [
    "# And when we sum the columns, we find that we get the same result.\n",
    "np.isclose(f_tot_water_p.sum(axis=0), f_tot_water)"
   ]
  },
  {
   "cell_type": "code",
   "execution_count": null,
   "metadata": {},
   "outputs": [
    {
     "ename": "",
     "evalue": "",
     "output_type": "error",
     "traceback": [
      "\u001b[1;31mRunning cells with 'env_eeio' requires ipykernel package.\n",
      "\u001b[1;31mRun the following command to install 'ipykernel' into the Python environment. \n",
      "\u001b[1;31mCommand: 'c:/Users/fdona/Documents/virtual_environments/env_eeio/Scripts/python.exe -m pip install ipykernel -U --force-reinstall'"
     ]
    }
   ],
   "source": [
    "# Compare f_total_water (direct + indirect) vs. f_water (direct)\n",
    "print(f\"Total water (direct + indirect):\\n{f_tot_water}\\n\\nDirect water only:\\n{f_water}\")"
   ]
  },
  {
   "cell_type": "code",
   "execution_count": null,
   "metadata": {},
   "outputs": [
    {
     "ename": "",
     "evalue": "",
     "output_type": "error",
     "traceback": [
      "\u001b[1;31mRunning cells with 'env_eeio' requires ipykernel package.\n",
      "\u001b[1;31mRun the following command to install 'ipykernel' into the Python environment. \n",
      "\u001b[1;31mCommand: 'c:/Users/fdona/Documents/virtual_environments/env_eeio/Scripts/python.exe -m pip install ipykernel -U --force-reinstall'"
     ]
    }
   ],
   "source": [
    "# Carbon footprint: We use the calculated co2 and perform a dot multiplication:\n",
    "# First with the leontief inverse matrix and then with the value of the products sold.\n",
    "EF_co2 = f_co2.dot(L).dot(y)\n",
    "EF_co2"
   ]
  },
  {
   "cell_type": "code",
   "execution_count": null,
   "metadata": {},
   "outputs": [
    {
     "ename": "",
     "evalue": "",
     "output_type": "error",
     "traceback": [
      "\u001b[1;31mRunning cells with 'env_eeio' requires ipykernel package.\n",
      "\u001b[1;31mRun the following command to install 'ipykernel' into the Python environment. \n",
      "\u001b[1;31mCommand: 'c:/Users/fdona/Documents/virtual_environments/env_eeio/Scripts/python.exe -m pip install ipykernel -U --force-reinstall'"
     ]
    }
   ],
   "source": [
    "# We can also just combine all of the footprints and calculate the same.\n",
    "EF = f_all.dot(L).dot(y)\n",
    "EF  # In order: Water, CO2 and value added by final demand"
   ]
  },
  {
   "cell_type": "code",
   "execution_count": null,
   "metadata": {},
   "outputs": [
    {
     "ename": "",
     "evalue": "",
     "output_type": "error",
     "traceback": [
      "\u001b[1;31mRunning cells with 'env_eeio' requires ipykernel package.\n",
      "\u001b[1;31mRun the following command to install 'ipykernel' into the Python environment. \n",
      "\u001b[1;31mCommand: 'c:/Users/fdona/Documents/virtual_environments/env_eeio/Scripts/python.exe -m pip install ipykernel -U --force-reinstall'"
     ]
    }
   ],
   "source": [
    "# Carbon footprint related to final demand:\n",
    "EF_co2_exp = f_co2 @ L @ np.diagflat(y)\n",
    "EF_co2_exp"
   ]
  },
  {
   "cell_type": "code",
   "execution_count": null,
   "metadata": {},
   "outputs": [
    {
     "ename": "",
     "evalue": "",
     "output_type": "error",
     "traceback": [
      "\u001b[1;31mRunning cells with 'env_eeio' requires ipykernel package.\n",
      "\u001b[1;31mRun the following command to install 'ipykernel' into the Python environment. \n",
      "\u001b[1;31mCommand: 'c:/Users/fdona/Documents/virtual_environments/env_eeio/Scripts/python.exe -m pip install ipykernel -U --force-reinstall'"
     ]
    }
   ],
   "source": [
    "# Carbon footprint traced to producing sector\n",
    "EF_co2_p = np.diagflat(f_co2) @ L @ y\n",
    "EF_co2_p"
   ]
  },
  {
   "cell_type": "code",
   "execution_count": null,
   "metadata": {},
   "outputs": [
    {
     "ename": "",
     "evalue": "",
     "output_type": "error",
     "traceback": [
      "\u001b[1;31mRunning cells with 'env_eeio' requires ipykernel package.\n",
      "\u001b[1;31mRun the following command to install 'ipykernel' into the Python environment. \n",
      "\u001b[1;31mCommand: 'c:/Users/fdona/Documents/virtual_environments/env_eeio/Scripts/python.exe -m pip install ipykernel -U --force-reinstall'"
     ]
    }
   ],
   "source": [
    "# Combining the two calculation above, we have all of the information in one place\n",
    "EF_co2_exp_p = np.diagflat(f_co2) @ L @ np.diagflat(y)\n",
    "EF_co2_exp_p"
   ]
  },
  {
   "cell_type": "code",
   "execution_count": null,
   "metadata": {},
   "outputs": [
    {
     "ename": "",
     "evalue": "",
     "output_type": "error",
     "traceback": [
      "\u001b[1;31mRunning cells with 'env_eeio' requires ipykernel package.\n",
      "\u001b[1;31mRun the following command to install 'ipykernel' into the Python environment. \n",
      "\u001b[1;31mCommand: 'c:/Users/fdona/Documents/virtual_environments/env_eeio/Scripts/python.exe -m pip install ipykernel -U --force-reinstall'"
     ]
    }
   ],
   "source": [
    "# Lets check if everything comes up correctly:\n",
    "assert EF_co2 == EF_co2_p.sum()\n",
    "assert EF_co2 == EF_co2_exp.sum()\n",
    "assert EF_co2 == EF_co2_exp_p.sum()\n",
    "# If no errors show, all of the matrixes sum to the same value as EF_co2"
   ]
  },
  {
   "cell_type": "code",
   "execution_count": null,
   "metadata": {},
   "outputs": [
    {
     "ename": "",
     "evalue": "",
     "output_type": "error",
     "traceback": [
      "\u001b[1;31mRunning cells with 'env_eeio' requires ipykernel package.\n",
      "\u001b[1;31mRun the following command to install 'ipykernel' into the Python environment. \n",
      "\u001b[1;31mCommand: 'c:/Users/fdona/Documents/virtual_environments/env_eeio/Scripts/python.exe -m pip install ipykernel -U --force-reinstall'"
     ]
    }
   ],
   "source": [
    "# Lets also check that the EF_co2_exp_p can sum to the same values as its parts\n",
    "# In this case we use 'isclose' because comparing floats is difficult to do exactly.\n",
    "assert np.isclose(EF_co2_p, EF_co2_exp_p.sum(axis=1, keepdims=True)).all()\n",
    "assert np.isclose(EF_co2_exp, EF_co2_exp_p.sum(axis=0, keepdims=True)).all()\n",
    "# If no errors show, the EF_co2_exp_p matrix sums to the same/similar values as EF_co2_p and EF_co2_exp."
   ]
  },
  {
   "cell_type": "code",
   "execution_count": null,
   "metadata": {},
   "outputs": [
    {
     "ename": "",
     "evalue": "",
     "output_type": "error",
     "traceback": [
      "\u001b[1;31mRunning cells with 'env_eeio' requires ipykernel package.\n",
      "\u001b[1;31mRun the following command to install 'ipykernel' into the Python environment. \n",
      "\u001b[1;31mCommand: 'c:/Users/fdona/Documents/virtual_environments/env_eeio/Scripts/python.exe -m pip install ipykernel -U --force-reinstall'"
     ]
    }
   ],
   "source": [
    "# Comparing float values doesn´t always work.\n",
    "EF_co2_exp_p.sum(axis=1, keepdims=True) == EF_co2_p"
   ]
  },
  {
   "cell_type": "code",
   "execution_count": null,
   "metadata": {},
   "outputs": [
    {
     "ename": "",
     "evalue": "",
     "output_type": "error",
     "traceback": [
      "\u001b[1;31mRunning cells with 'env_eeio' requires ipykernel package.\n",
      "\u001b[1;31mRun the following command to install 'ipykernel' into the Python environment. \n",
      "\u001b[1;31mCommand: 'c:/Users/fdona/Documents/virtual_environments/env_eeio/Scripts/python.exe -m pip install ipykernel -U --force-reinstall'"
     ]
    }
   ],
   "source": []
  }
 ],
 "metadata": {
  "kernelspec": {
   "display_name": "env_eeio",
   "language": "python",
   "name": "python3"
  },
  "language_info": {
   "codemirror_mode": {
    "name": "ipython",
    "version": 3
   },
   "file_extension": ".py",
   "mimetype": "text/x-python",
   "name": "python",
   "nbconvert_exporter": "python",
   "pygments_lexer": "ipython3",
   "version": "3.10.2"
  },
  "vscode": {
   "interpreter": {
    "hash": "a0de1fb450ee5e26d734f0aa5b4c4b29e20575809e5e66472467df7627fd957d"
   }
  }
 },
 "nbformat": 4,
 "nbformat_minor": 2
}
