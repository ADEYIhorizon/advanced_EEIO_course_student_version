{
 "cells": [
  {
   "attachments": {},
   "cell_type": "markdown",
   "metadata": {},
   "source": [
    "# Calculate the Leontief model\n",
    "\n",
    "### Objectives\n",
    "- Understand the format of input-output tables\n",
    "- Interpret the Leontief inverse\n",
    "- Apply demand and price driven models\n",
    "- Calculate the carbon footprint\n",
    "\n",
    "## Exercise\n",
    "\n",
    "A fictitious nation has a very basic national economy consisting of five sectors, each producing a single type of goods for sale: rice, beef, electricity, car, and insurance. The following data were obtained from the nation's Bureau of Statistics:\n",
    "Inter-industry transactions and value added (unit: €/year):"
   ]
  },
  {
   "cell_type": "code",
   "execution_count": 1,
   "metadata": {},
   "outputs": [],
   "source": [
    "# Firt import numpy and pandas\n",
    "import numpy as np\n",
    "import pandas as pd"
   ]
  },
  {
   "cell_type": "markdown",
   "metadata": {},
   "source": [
    "#### Inter-industry transactions and value added (unit: €/year):"
   ]
  },
  {
   "cell_type": "code",
   "execution_count": 2,
   "metadata": {},
   "outputs": [
    {
     "data": {
      "text/html": [
       "<div>\n",
       "<style scoped>\n",
       "    .dataframe tbody tr th:only-of-type {\n",
       "        vertical-align: middle;\n",
       "    }\n",
       "\n",
       "    .dataframe tbody tr th {\n",
       "        vertical-align: top;\n",
       "    }\n",
       "\n",
       "    .dataframe thead th {\n",
       "        text-align: right;\n",
       "    }\n",
       "</style>\n",
       "<table border=\"1\" class=\"dataframe\">\n",
       "  <thead>\n",
       "    <tr style=\"text-align: right;\">\n",
       "      <th>industry</th>\n",
       "      <th>rice farm</th>\n",
       "      <th>cattle farm</th>\n",
       "      <th>power plant</th>\n",
       "      <th>car maker</th>\n",
       "      <th>insurance company</th>\n",
       "    </tr>\n",
       "    <tr>\n",
       "      <th>product</th>\n",
       "      <th></th>\n",
       "      <th></th>\n",
       "      <th></th>\n",
       "      <th></th>\n",
       "      <th></th>\n",
       "    </tr>\n",
       "  </thead>\n",
       "  <tbody>\n",
       "    <tr>\n",
       "      <th>rice</th>\n",
       "      <td>100</td>\n",
       "      <td>1900</td>\n",
       "      <td>0</td>\n",
       "      <td>0</td>\n",
       "      <td>0</td>\n",
       "    </tr>\n",
       "    <tr>\n",
       "      <th>beef</th>\n",
       "      <td>0</td>\n",
       "      <td>1000</td>\n",
       "      <td>0</td>\n",
       "      <td>0</td>\n",
       "      <td>0</td>\n",
       "    </tr>\n",
       "    <tr>\n",
       "      <th>electricity</th>\n",
       "      <td>1600</td>\n",
       "      <td>2500</td>\n",
       "      <td>900</td>\n",
       "      <td>1000</td>\n",
       "      <td>4000</td>\n",
       "    </tr>\n",
       "    <tr>\n",
       "      <th>car</th>\n",
       "      <td>500</td>\n",
       "      <td>1500</td>\n",
       "      <td>1500</td>\n",
       "      <td>1000</td>\n",
       "      <td>1500</td>\n",
       "    </tr>\n",
       "    <tr>\n",
       "      <th>insurance</th>\n",
       "      <td>300</td>\n",
       "      <td>700</td>\n",
       "      <td>3000</td>\n",
       "      <td>2000</td>\n",
       "      <td>1000</td>\n",
       "    </tr>\n",
       "  </tbody>\n",
       "</table>\n",
       "</div>"
      ],
      "text/plain": [
       "industry     rice farm  cattle farm  power plant  car maker  insurance company\n",
       "product                                                                       \n",
       "rice               100         1900            0          0                  0\n",
       "beef                 0         1000            0          0                  0\n",
       "electricity       1600         2500          900       1000               4000\n",
       "car                500         1500         1500       1000               1500\n",
       "insurance          300          700         3000       2000               1000"
      ]
     },
     "execution_count": 2,
     "metadata": {},
     "output_type": "execute_result"
    }
   ],
   "source": [
    "# Products are the rows, industry are the columns\n",
    "Z = np.array([\n",
    "    [100, 1900, 0, 0, 0],\n",
    "    [0, 1000, 0, 0, 0],\n",
    "    [1600, 2500, 900, 1000, 4000],\n",
    "    [500, 1500, 1500, 1000, 1500],\n",
    "    [300, 700, 3000, 2000, 1000]\n",
    "], dtype=np.int32)\n",
    "Z\n",
    "\n",
    "Z = pd.DataFrame(\n",
    "     Z,\n",
    "     index=pd.Index([\"rice\", \"beef\", \"electricity\", \"car\", \"insurance\"], name=\"product\"),\n",
    "     columns=pd.Index([\"rice farm\", \"cattle farm\", \"power plant\", \"car maker\", \"insurance company\"], name=\"industry\")\n",
    " )\n",
    "Z"
   ]
  },
  {
   "cell_type": "markdown",
   "metadata": {},
   "source": [
    "#### The value of finished products sold (final consumption,€/year):"
   ]
  },
  {
   "cell_type": "code",
   "execution_count": null,
   "metadata": {},
   "outputs": [
    {
     "ename": "",
     "evalue": "",
     "output_type": "error",
     "traceback": [
      "\u001b[1;31mRunning cells with 'env_eeio' requires ipykernel package.\n",
      "\u001b[1;31mRun the following command to install 'ipykernel' into the Python environment. \n",
      "\u001b[1;31mCommand: 'c:/Users/fdona/Documents/virtual_environments/env_eeio/Scripts/python.exe -m pip install ipykernel -U --force-reinstall'"
     ]
    }
   ],
   "source": [
    "# Value added (last row of the first table)\n",
    "v = np.array([2500, 2400, 9600, 16000, 8500], dtype=np.int32)\n",
    "v = pd.DataFrame(v, columns=[\"Value added\"], index=pd.Index([\"rice farm\", \"cattle farm\", \"power plant\", \"car maker\", \"insurance company\"], name=\"industry\")).T\n",
    "v"
   ]
  },
  {
   "cell_type": "markdown",
   "metadata": {},
   "source": [
    "#### Final value of the products sold\n",
    "KEEP IN MIND THE SHAPE!"
   ]
  },
  {
   "cell_type": "code",
   "execution_count": null,
   "metadata": {},
   "outputs": [
    {
     "ename": "",
     "evalue": "",
     "output_type": "error",
     "traceback": [
      "\u001b[1;31mRunning cells with 'env_eeio' requires ipykernel package.\n",
      "\u001b[1;31mRun the following command to install 'ipykernel' into the Python environment. \n",
      "\u001b[1;31mCommand: 'c:/Users/fdona/Documents/virtual_environments/env_eeio/Scripts/python.exe -m pip install ipykernel -U --force-reinstall'"
     ]
    }
   ],
   "source": [
    "y = np.array([3000, 9000, 5000, 14000, 8000], dtype=np.int32)\n",
    "y = pd.DataFrame(y,  index=pd.Index([\"rice\", \"beef\", \"electricity\", \"car\", \"insurance\"], name=\"product\"), columns=[\"Final Demand\"])\n",
    "y"
   ]
  },
  {
   "cell_type": "markdown",
   "metadata": {},
   "source": [
    "#### The direct water use and CO2 emissions by sector. (Note: this is the environmental extension matrix F)"
   ]
  },
  {
   "cell_type": "code",
   "execution_count": null,
   "metadata": {},
   "outputs": [
    {
     "ename": "",
     "evalue": "",
     "output_type": "error",
     "traceback": [
      "\u001b[1;31mRunning cells with 'env_eeio' requires ipykernel package.\n",
      "\u001b[1;31mRun the following command to install 'ipykernel' into the Python environment. \n",
      "\u001b[1;31mCommand: 'c:/Users/fdona/Documents/virtual_environments/env_eeio/Scripts/python.exe -m pip install ipykernel -U --force-reinstall'"
     ]
    }
   ],
   "source": [
    "F = np.array([\n",
    "    [10000, 2000, 15000, 1000, 750],\n",
    "    [50, 500, 7500, 300, 15]\n",
    "], dtype=np.int32)\n",
    "\n",
    "F = pd.DataFrame(F, \n",
    "                 index=pd.Index([\"Water Use (L)\", \"CO2 Emissions (kg)\"], name=\"extensions\"), \n",
    "                 columns=pd.Index([\"rice farm\", \"cattle farm\", \"power plant\", \"car maker\", \"insurance company\"], name=\"industry\"))\n",
    "F\n"
   ]
  },
  {
   "cell_type": "markdown",
   "metadata": {},
   "source": [
    "#### Total outputs: intermediate output + final product output\n",
    "\n",
    "Multiply the products/industry table (Z) by shaped array of ones...\n",
    "i = np.ones((5,1))  # shape (5, 1)\n",
    "z_sum = np.dot(Z, i)  # shape (5, 1)\n",
    "\n",
    "... Or just get the sum of the rows while keeping the dimensions.\n",
    "Z_sum = Z.sum(axis=1)  # Wrong dimensions: shape (5, )"
   ]
  },
  {
   "cell_type": "code",
   "execution_count": null,
   "metadata": {},
   "outputs": [
    {
     "ename": "",
     "evalue": "",
     "output_type": "error",
     "traceback": [
      "\u001b[1;31mRunning cells with 'env_eeio' requires ipykernel package.\n",
      "\u001b[1;31mRun the following command to install 'ipykernel' into the Python environment. \n",
      "\u001b[1;31mCommand: 'c:/Users/fdona/Documents/virtual_environments/env_eeio/Scripts/python.exe -m pip install ipykernel -U --force-reinstall'"
     ]
    }
   ],
   "source": [
    "Z_sum = Z.sum(axis=1, keepdims=True)  # shape (5, 1)\n",
    "x_out = Z_sum + y\n",
    "x = x_out\n",
    "x_out"
   ]
  },
  {
   "cell_type": "code",
   "execution_count": null,
   "metadata": {},
   "outputs": [
    {
     "ename": "",
     "evalue": "",
     "output_type": "error",
     "traceback": [
      "\u001b[1;31mRunning cells with 'env_eeio' requires ipykernel package.\n",
      "\u001b[1;31mRun the following command to install 'ipykernel' into the Python environment. \n",
      "\u001b[1;31mCommand: 'c:/Users/fdona/Documents/virtual_environments/env_eeio/Scripts/python.exe -m pip install ipykernel -U --force-reinstall'"
     ]
    }
   ],
   "source": [
    "# Total inputs: intermediate input + value added\n",
    "Z_sum = Z.sum(axis=0, keepdims=True)  # shape (1, 5)\n",
    "x_in = Z_sum + v\n",
    "x_in"
   ]
  },
  {
   "cell_type": "code",
   "execution_count": null,
   "metadata": {},
   "outputs": [
    {
     "ename": "",
     "evalue": "",
     "output_type": "error",
     "traceback": [
      "\u001b[1;31mRunning cells with 'env_eeio' requires ipykernel package.\n",
      "\u001b[1;31mRun the following command to install 'ipykernel' into the Python environment. \n",
      "\u001b[1;31mCommand: 'c:/Users/fdona/Documents/virtual_environments/env_eeio/Scripts/python.exe -m pip install ipykernel -U --force-reinstall'"
     ]
    }
   ],
   "source": [
    "# Task 2 use of water, CO2 and wage payment.\n",
    "# Use of water -> F water divided by total output\n",
    "# Make sure to transpose x to ensure a (1, 5) shape\n",
    "F_water = F[\"Water Use (L)\"]\n",
    "f_water = F_water / x.transpose()\n",
    "f_water"
   ]
  },
  {
   "cell_type": "code",
   "execution_count": null,
   "metadata": {},
   "outputs": [
    {
     "ename": "",
     "evalue": "",
     "output_type": "error",
     "traceback": [
      "\u001b[1;31mRunning cells with 'env_eeio' requires ipykernel package.\n",
      "\u001b[1;31mRun the following command to install 'ipykernel' into the Python environment. \n",
      "\u001b[1;31mCommand: 'c:/Users/fdona/Documents/virtual_environments/env_eeio/Scripts/python.exe -m pip install ipykernel -U --force-reinstall'"
     ]
    }
   ],
   "source": [
    "# Emission of CO2 -> F CO2 divided by total output\n",
    "# Same with transposing here.\n",
    "F_co2 = F[\"CO2 Emissions (kg)\"]\n",
    "f_co2 = F_co2 / x.transpose()\n",
    "f_co2"
   ]
  },
  {
   "cell_type": "code",
   "execution_count": null,
   "metadata": {},
   "outputs": [
    {
     "ename": "",
     "evalue": "",
     "output_type": "error",
     "traceback": [
      "\u001b[1;31mRunning cells with 'env_eeio' requires ipykernel package.\n",
      "\u001b[1;31mRun the following command to install 'ipykernel' into the Python environment. \n",
      "\u001b[1;31mCommand: 'c:/Users/fdona/Documents/virtual_environments/env_eeio/Scripts/python.exe -m pip install ipykernel -U --force-reinstall'"
     ]
    }
   ],
   "source": [
    "# Wage payment ->  Value added divided by total output\n",
    "# Transpose again.\n",
    "f_va = v / x.transpose()\n",
    "f_va"
   ]
  },
  {
   "cell_type": "code",
   "execution_count": null,
   "metadata": {},
   "outputs": [
    {
     "ename": "",
     "evalue": "",
     "output_type": "error",
     "traceback": [
      "\u001b[1;31mRunning cells with 'env_eeio' requires ipykernel package.\n",
      "\u001b[1;31mRun the following command to install 'ipykernel' into the Python environment. \n",
      "\u001b[1;31mCommand: 'c:/Users/fdona/Documents/virtual_environments/env_eeio/Scripts/python.exe -m pip install ipykernel -U --force-reinstall'"
     ]
    }
   ],
   "source": [
    "# Or, if we want to have everything in a single array:\n",
    "f_all = F / x.transpose()\n",
    "\n",
    "# And append the wage payment row at the end\n",
    "f_all = np.concatenate((f_all, f_va), axis=0)\n",
    "f_all"
   ]
  },
  {
   "cell_type": "code",
   "execution_count": null,
   "metadata": {},
   "outputs": [
    {
     "ename": "",
     "evalue": "",
     "output_type": "error",
     "traceback": [
      "\u001b[1;31mRunning cells with 'env_eeio' requires ipykernel package.\n",
      "\u001b[1;31mRun the following command to install 'ipykernel' into the Python environment. \n",
      "\u001b[1;31mCommand: 'c:/Users/fdona/Documents/virtual_environments/env_eeio/Scripts/python.exe -m pip install ipykernel -U --force-reinstall'"
     ]
    }
   ],
   "source": [
    "# Calculate the leontief inverse matrix\n",
    "\n",
    "# Create the technical coefficient matrix A first\n",
    "A = Z / x.transpose()\n",
    "# Create an identity matrix the same shape as A\n",
    "I = np.identity(5)\n",
    "# Use numpy linear algebra inverse function to get L = (I - A)^-1\n",
    "L = np.linalg.inv(I - A)\n",
    "L"
   ]
  },
  {
   "cell_type": "code",
   "execution_count": null,
   "metadata": {},
   "outputs": [
    {
     "ename": "",
     "evalue": "",
     "output_type": "error",
     "traceback": [
      "\u001b[1;31mRunning cells with 'env_eeio' requires ipykernel package.\n",
      "\u001b[1;31mRun the following command to install 'ipykernel' into the Python environment. \n",
      "\u001b[1;31mCommand: 'c:/Users/fdona/Documents/virtual_environments/env_eeio/Scripts/python.exe -m pip install ipykernel -U --force-reinstall'"
     ]
    }
   ],
   "source": [
    "# Task 4 Insurance's water multiplier\n",
    "f_tot_water = f_water.dot(L)\n",
    "f_tot_water"
   ]
  },
  {
   "cell_type": "code",
   "execution_count": null,
   "metadata": {},
   "outputs": [
    {
     "ename": "",
     "evalue": "",
     "output_type": "error",
     "traceback": [
      "\u001b[1;31mRunning cells with 'env_eeio' requires ipykernel package.\n",
      "\u001b[1;31mRun the following command to install 'ipykernel' into the Python environment. \n",
      "\u001b[1;31mCommand: 'c:/Users/fdona/Documents/virtual_environments/env_eeio/Scripts/python.exe -m pip install ipykernel -U --force-reinstall'"
     ]
    }
   ],
   "source": [
    "# We can also store the information we have about all of the processes\n",
    "f_tot_water_p = np.diagflat(f_water).dot(L)\n",
    "f_tot_water_p"
   ]
  },
  {
   "cell_type": "code",
   "execution_count": null,
   "metadata": {},
   "outputs": [
    {
     "ename": "",
     "evalue": "",
     "output_type": "error",
     "traceback": [
      "\u001b[1;31mRunning cells with 'env_eeio' requires ipykernel package.\n",
      "\u001b[1;31mRun the following command to install 'ipykernel' into the Python environment. \n",
      "\u001b[1;31mCommand: 'c:/Users/fdona/Documents/virtual_environments/env_eeio/Scripts/python.exe -m pip install ipykernel -U --force-reinstall'"
     ]
    }
   ],
   "source": [
    "# And when we sum the columns, we find that we get the same result.\n",
    "np.isclose(f_tot_water_p.sum(axis=0), f_tot_water)"
   ]
  },
  {
   "cell_type": "code",
   "execution_count": null,
   "metadata": {},
   "outputs": [
    {
     "ename": "",
     "evalue": "",
     "output_type": "error",
     "traceback": [
      "\u001b[1;31mRunning cells with 'env_eeio' requires ipykernel package.\n",
      "\u001b[1;31mRun the following command to install 'ipykernel' into the Python environment. \n",
      "\u001b[1;31mCommand: 'c:/Users/fdona/Documents/virtual_environments/env_eeio/Scripts/python.exe -m pip install ipykernel -U --force-reinstall'"
     ]
    }
   ],
   "source": [
    "# Compare f_total_water (direct + indirect) vs. f_water (direct)\n",
    "print(f\"Total water (direct + indirect):\\n{f_tot_water}\\n\\nDirect water only:\\n{f_water}\")"
   ]
  },
  {
   "cell_type": "code",
   "execution_count": null,
   "metadata": {},
   "outputs": [
    {
     "ename": "",
     "evalue": "",
     "output_type": "error",
     "traceback": [
      "\u001b[1;31mRunning cells with 'env_eeio' requires ipykernel package.\n",
      "\u001b[1;31mRun the following command to install 'ipykernel' into the Python environment. \n",
      "\u001b[1;31mCommand: 'c:/Users/fdona/Documents/virtual_environments/env_eeio/Scripts/python.exe -m pip install ipykernel -U --force-reinstall'"
     ]
    }
   ],
   "source": [
    "# Carbon footprint: We use the calculated co2 and perform a dot multiplication:\n",
    "# First with the leontief inverse matrix and then with the value of the products sold.\n",
    "EF_co2 = f_co2.dot(L).dot(y)\n",
    "EF_co2"
   ]
  },
  {
   "cell_type": "code",
   "execution_count": null,
   "metadata": {},
   "outputs": [
    {
     "ename": "",
     "evalue": "",
     "output_type": "error",
     "traceback": [
      "\u001b[1;31mRunning cells with 'env_eeio' requires ipykernel package.\n",
      "\u001b[1;31mRun the following command to install 'ipykernel' into the Python environment. \n",
      "\u001b[1;31mCommand: 'c:/Users/fdona/Documents/virtual_environments/env_eeio/Scripts/python.exe -m pip install ipykernel -U --force-reinstall'"
     ]
    }
   ],
   "source": [
    "# We can also just combine all of the footprints and calculate the same.\n",
    "EF = f_all.dot(L).dot(y)\n",
    "EF  # In order: Water, CO2 and value added by final demand"
   ]
  },
  {
   "cell_type": "code",
   "execution_count": null,
   "metadata": {},
   "outputs": [
    {
     "ename": "",
     "evalue": "",
     "output_type": "error",
     "traceback": [
      "\u001b[1;31mRunning cells with 'env_eeio' requires ipykernel package.\n",
      "\u001b[1;31mRun the following command to install 'ipykernel' into the Python environment. \n",
      "\u001b[1;31mCommand: 'c:/Users/fdona/Documents/virtual_environments/env_eeio/Scripts/python.exe -m pip install ipykernel -U --force-reinstall'"
     ]
    }
   ],
   "source": [
    "# Carbon footprint related to final demand:\n",
    "EF_co2_exp = f_co2 @ L @ np.diagflat(y)\n",
    "EF_co2_exp"
   ]
  },
  {
   "cell_type": "code",
   "execution_count": null,
   "metadata": {},
   "outputs": [
    {
     "ename": "",
     "evalue": "",
     "output_type": "error",
     "traceback": [
      "\u001b[1;31mRunning cells with 'env_eeio' requires ipykernel package.\n",
      "\u001b[1;31mRun the following command to install 'ipykernel' into the Python environment. \n",
      "\u001b[1;31mCommand: 'c:/Users/fdona/Documents/virtual_environments/env_eeio/Scripts/python.exe -m pip install ipykernel -U --force-reinstall'"
     ]
    }
   ],
   "source": [
    "# Carbon footprint traced to producing sector\n",
    "EF_co2_p = np.diagflat(f_co2) @ L @ y\n",
    "EF_co2_p"
   ]
  },
  {
   "cell_type": "code",
   "execution_count": null,
   "metadata": {},
   "outputs": [
    {
     "ename": "",
     "evalue": "",
     "output_type": "error",
     "traceback": [
      "\u001b[1;31mRunning cells with 'env_eeio' requires ipykernel package.\n",
      "\u001b[1;31mRun the following command to install 'ipykernel' into the Python environment. \n",
      "\u001b[1;31mCommand: 'c:/Users/fdona/Documents/virtual_environments/env_eeio/Scripts/python.exe -m pip install ipykernel -U --force-reinstall'"
     ]
    }
   ],
   "source": [
    "# Combining the two calculation above, we have all of the information in one place\n",
    "EF_co2_exp_p = np.diagflat(f_co2) @ L @ np.diagflat(y)\n",
    "EF_co2_exp_p"
   ]
  },
  {
   "cell_type": "code",
   "execution_count": null,
   "metadata": {},
   "outputs": [
    {
     "ename": "",
     "evalue": "",
     "output_type": "error",
     "traceback": [
      "\u001b[1;31mRunning cells with 'env_eeio' requires ipykernel package.\n",
      "\u001b[1;31mRun the following command to install 'ipykernel' into the Python environment. \n",
      "\u001b[1;31mCommand: 'c:/Users/fdona/Documents/virtual_environments/env_eeio/Scripts/python.exe -m pip install ipykernel -U --force-reinstall'"
     ]
    }
   ],
   "source": [
    "# Lets check if everything comes up correctly:\n",
    "assert EF_co2 == EF_co2_p.sum()\n",
    "assert EF_co2 == EF_co2_exp.sum()\n",
    "assert EF_co2 == EF_co2_exp_p.sum()\n",
    "# If no errors show, all of the matrixes sum to the same value as EF_co2"
   ]
  },
  {
   "cell_type": "code",
   "execution_count": null,
   "metadata": {},
   "outputs": [
    {
     "ename": "",
     "evalue": "",
     "output_type": "error",
     "traceback": [
      "\u001b[1;31mRunning cells with 'env_eeio' requires ipykernel package.\n",
      "\u001b[1;31mRun the following command to install 'ipykernel' into the Python environment. \n",
      "\u001b[1;31mCommand: 'c:/Users/fdona/Documents/virtual_environments/env_eeio/Scripts/python.exe -m pip install ipykernel -U --force-reinstall'"
     ]
    }
   ],
   "source": [
    "# Lets also check that the EF_co2_exp_p can sum to the same values as its parts\n",
    "# In this case we use 'isclose' because comparing floats is difficult to do exactly.\n",
    "assert np.isclose(EF_co2_p, EF_co2_exp_p.sum(axis=1, keepdims=True)).all()\n",
    "assert np.isclose(EF_co2_exp, EF_co2_exp_p.sum(axis=0, keepdims=True)).all()\n",
    "# If no errors show, the EF_co2_exp_p matrix sums to the same/similar values as EF_co2_p and EF_co2_exp."
   ]
  },
  {
   "cell_type": "code",
   "execution_count": null,
   "metadata": {},
   "outputs": [
    {
     "ename": "",
     "evalue": "",
     "output_type": "error",
     "traceback": [
      "\u001b[1;31mRunning cells with 'env_eeio' requires ipykernel package.\n",
      "\u001b[1;31mRun the following command to install 'ipykernel' into the Python environment. \n",
      "\u001b[1;31mCommand: 'c:/Users/fdona/Documents/virtual_environments/env_eeio/Scripts/python.exe -m pip install ipykernel -U --force-reinstall'"
     ]
    }
   ],
   "source": [
    "# Comparing float values doesn´t always work.\n",
    "EF_co2_exp_p.sum(axis=1, keepdims=True) == EF_co2_p"
   ]
  },
  {
   "cell_type": "code",
   "execution_count": null,
   "metadata": {},
   "outputs": [
    {
     "ename": "",
     "evalue": "",
     "output_type": "error",
     "traceback": [
      "\u001b[1;31mRunning cells with 'env_eeio' requires ipykernel package.\n",
      "\u001b[1;31mRun the following command to install 'ipykernel' into the Python environment. \n",
      "\u001b[1;31mCommand: 'c:/Users/fdona/Documents/virtual_environments/env_eeio/Scripts/python.exe -m pip install ipykernel -U --force-reinstall'"
     ]
    }
   ],
   "source": []
  }
 ],
 "metadata": {
  "kernelspec": {
   "display_name": "env_eeio",
   "language": "python",
   "name": "python3"
  },
  "language_info": {
   "codemirror_mode": {
    "name": "ipython",
    "version": 3
   },
   "file_extension": ".py",
   "mimetype": "text/x-python",
   "name": "python",
   "nbconvert_exporter": "python",
   "pygments_lexer": "ipython3",
   "version": "3.10.2 (tags/v3.10.2:a58ebcc, Jan 17 2022, 14:12:15) [MSC v.1929 64 bit (AMD64)]"
  },
  "vscode": {
   "interpreter": {
    "hash": "a0de1fb450ee5e26d734f0aa5b4c4b29e20575809e5e66472467df7627fd957d"
   }
  }
 },
 "nbformat": 4,
 "nbformat_minor": 2
}
