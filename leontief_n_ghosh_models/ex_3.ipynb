{
 "cells": [
  {
   "cell_type": "markdown",
   "metadata": {},
   "source": [
    "# Exercise 3: EIOA: basic theory & calculations\n",
    "\n",
    "### Objectives\n",
    "- Understand the format of input-output tables\n",
    "- Interpret the Leontief inverse\n",
    "- Calculate the carbon footprint\n",
    "\n",
    "## Exercise\n",
    "\n",
    "A fictitious nation has a very basic national economy consisting of five sectors, each producing a single type of goods for sale: rice, beef, electricity, car, and insurance. The following data were obtained from the nation's Bureau of Statistics:\n",
    "Inter-industry transactions and value added (unit: €/year):"
   ]
  },
  {
   "cell_type": "code",
   "execution_count": 2,
   "metadata": {},
   "outputs": [],
   "source": [
    "# Firt import numpy and pandas\n",
    "import numpy as np\n",
    "import pandas as pd"
   ]
  },
  {
   "cell_type": "markdown",
   "metadata": {},
   "source": [
    "#### Inter-industry transactions and value added (unit: €/year):"
   ]
  },
  {
   "cell_type": "code",
   "execution_count": 3,
   "metadata": {},
   "outputs": [
    {
     "data": {
      "text/html": [
       "<div>\n",
       "<style scoped>\n",
       "    .dataframe tbody tr th:only-of-type {\n",
       "        vertical-align: middle;\n",
       "    }\n",
       "\n",
       "    .dataframe tbody tr th {\n",
       "        vertical-align: top;\n",
       "    }\n",
       "\n",
       "    .dataframe thead th {\n",
       "        text-align: right;\n",
       "    }\n",
       "</style>\n",
       "<table border=\"1\" class=\"dataframe\">\n",
       "  <thead>\n",
       "    <tr style=\"text-align: right;\">\n",
       "      <th>industry</th>\n",
       "      <th>rice farm</th>\n",
       "      <th>cattle farm</th>\n",
       "      <th>power plant</th>\n",
       "      <th>car maker</th>\n",
       "      <th>insurance company</th>\n",
       "    </tr>\n",
       "    <tr>\n",
       "      <th>product</th>\n",
       "      <th></th>\n",
       "      <th></th>\n",
       "      <th></th>\n",
       "      <th></th>\n",
       "      <th></th>\n",
       "    </tr>\n",
       "  </thead>\n",
       "  <tbody>\n",
       "    <tr>\n",
       "      <th>rice</th>\n",
       "      <td>100</td>\n",
       "      <td>1900</td>\n",
       "      <td>0</td>\n",
       "      <td>0</td>\n",
       "      <td>0</td>\n",
       "    </tr>\n",
       "    <tr>\n",
       "      <th>beef</th>\n",
       "      <td>0</td>\n",
       "      <td>1000</td>\n",
       "      <td>0</td>\n",
       "      <td>0</td>\n",
       "      <td>0</td>\n",
       "    </tr>\n",
       "    <tr>\n",
       "      <th>electricity</th>\n",
       "      <td>1600</td>\n",
       "      <td>2500</td>\n",
       "      <td>900</td>\n",
       "      <td>1000</td>\n",
       "      <td>4000</td>\n",
       "    </tr>\n",
       "    <tr>\n",
       "      <th>car</th>\n",
       "      <td>500</td>\n",
       "      <td>1500</td>\n",
       "      <td>1500</td>\n",
       "      <td>1000</td>\n",
       "      <td>1500</td>\n",
       "    </tr>\n",
       "    <tr>\n",
       "      <th>insurance</th>\n",
       "      <td>300</td>\n",
       "      <td>700</td>\n",
       "      <td>3000</td>\n",
       "      <td>2000</td>\n",
       "      <td>1000</td>\n",
       "    </tr>\n",
       "  </tbody>\n",
       "</table>\n",
       "</div>"
      ],
      "text/plain": [
       "industry     rice farm  cattle farm  power plant  car maker  insurance company\n",
       "product                                                                       \n",
       "rice               100         1900            0          0                  0\n",
       "beef                 0         1000            0          0                  0\n",
       "electricity       1600         2500          900       1000               4000\n",
       "car                500         1500         1500       1000               1500\n",
       "insurance          300          700         3000       2000               1000"
      ]
     },
     "execution_count": 3,
     "metadata": {},
     "output_type": "execute_result"
    }
   ],
   "source": [
    "# Products are the rows, industry are the columns\n",
    "Z = np.array([\n",
    "    [100, 1900, 0, 0, 0],\n",
    "    [0, 1000, 0, 0, 0],\n",
    "    [1600, 2500, 900, 1000, 4000],\n",
    "    [500, 1500, 1500, 1000, 1500],\n",
    "    [300, 700, 3000, 2000, 1000]\n",
    "], dtype=np.int32)\n",
    "Z\n",
    "\n",
    "Z = pd.DataFrame(\n",
    "     Z,\n",
    "     index=pd.Index([\"rice\", \"beef\", \"electricity\", \"car\", \"insurance\"], name=\"product\"),\n",
    "     columns=pd.Index([\"rice farm\", \"cattle farm\", \"power plant\", \"car maker\", \"insurance company\"], name=\"industry\")\n",
    " )\n",
    "Z"
   ]
  },
  {
   "cell_type": "markdown",
   "metadata": {},
   "source": [
    "#### The value of finished products sold (final consumption,€/year):"
   ]
  },
  {
   "cell_type": "code",
   "execution_count": 22,
   "metadata": {},
   "outputs": [
    {
     "data": {
      "text/html": [
       "<div>\n",
       "<style scoped>\n",
       "    .dataframe tbody tr th:only-of-type {\n",
       "        vertical-align: middle;\n",
       "    }\n",
       "\n",
       "    .dataframe tbody tr th {\n",
       "        vertical-align: top;\n",
       "    }\n",
       "\n",
       "    .dataframe thead th {\n",
       "        text-align: right;\n",
       "    }\n",
       "</style>\n",
       "<table border=\"1\" class=\"dataframe\">\n",
       "  <thead>\n",
       "    <tr style=\"text-align: right;\">\n",
       "      <th>industry</th>\n",
       "      <th>rice farm</th>\n",
       "      <th>cattle farm</th>\n",
       "      <th>power plant</th>\n",
       "      <th>car maker</th>\n",
       "      <th>insurance company</th>\n",
       "    </tr>\n",
       "  </thead>\n",
       "  <tbody>\n",
       "    <tr>\n",
       "      <th>Value added</th>\n",
       "      <td>2500</td>\n",
       "      <td>2400</td>\n",
       "      <td>9600</td>\n",
       "      <td>16000</td>\n",
       "      <td>8500</td>\n",
       "    </tr>\n",
       "  </tbody>\n",
       "</table>\n",
       "</div>"
      ],
      "text/plain": [
       "industry     rice farm  cattle farm  power plant  car maker  insurance company\n",
       "Value added       2500         2400         9600      16000               8500"
      ]
     },
     "execution_count": 22,
     "metadata": {},
     "output_type": "execute_result"
    }
   ],
   "source": [
    "# Value added (last row of the first table)\n",
    "v = np.array([2500, 2400, 9600, 16000, 8500], dtype=np.int32)\n",
    "v = pd.DataFrame(v, columns=[\"Value added\"], index=pd.Index([\"rice farm\", \"cattle farm\", \"power plant\", \"car maker\", \"insurance company\"], name=\"industry\")).T\n",
    "v"
   ]
  },
  {
   "cell_type": "markdown",
   "metadata": {},
   "source": [
    "#### Final value of the products sold\n",
    "KEEP IN MIND THE SHAPE!"
   ]
  },
  {
   "cell_type": "code",
   "execution_count": 23,
   "metadata": {},
   "outputs": [
    {
     "data": {
      "text/html": [
       "<div>\n",
       "<style scoped>\n",
       "    .dataframe tbody tr th:only-of-type {\n",
       "        vertical-align: middle;\n",
       "    }\n",
       "\n",
       "    .dataframe tbody tr th {\n",
       "        vertical-align: top;\n",
       "    }\n",
       "\n",
       "    .dataframe thead th {\n",
       "        text-align: right;\n",
       "    }\n",
       "</style>\n",
       "<table border=\"1\" class=\"dataframe\">\n",
       "  <thead>\n",
       "    <tr style=\"text-align: right;\">\n",
       "      <th></th>\n",
       "      <th>Final Demand</th>\n",
       "    </tr>\n",
       "    <tr>\n",
       "      <th>product</th>\n",
       "      <th></th>\n",
       "    </tr>\n",
       "  </thead>\n",
       "  <tbody>\n",
       "    <tr>\n",
       "      <th>rice</th>\n",
       "      <td>3000</td>\n",
       "    </tr>\n",
       "    <tr>\n",
       "      <th>beef</th>\n",
       "      <td>9000</td>\n",
       "    </tr>\n",
       "    <tr>\n",
       "      <th>electricity</th>\n",
       "      <td>5000</td>\n",
       "    </tr>\n",
       "    <tr>\n",
       "      <th>car</th>\n",
       "      <td>14000</td>\n",
       "    </tr>\n",
       "    <tr>\n",
       "      <th>insurance</th>\n",
       "      <td>8000</td>\n",
       "    </tr>\n",
       "  </tbody>\n",
       "</table>\n",
       "</div>"
      ],
      "text/plain": [
       "             Final Demand\n",
       "product                  \n",
       "rice                 3000\n",
       "beef                 9000\n",
       "electricity          5000\n",
       "car                 14000\n",
       "insurance            8000"
      ]
     },
     "execution_count": 23,
     "metadata": {},
     "output_type": "execute_result"
    }
   ],
   "source": [
    "y = np.array([3000, 9000, 5000, 14000, 8000], dtype=np.int32)\n",
    "y = pd.DataFrame(y,  index=pd.Index([\"rice\", \"beef\", \"electricity\", \"car\", \"insurance\"], name=\"product\"), columns=[\"Final Demand\"])\n",
    "y"
   ]
  },
  {
   "cell_type": "markdown",
   "metadata": {},
   "source": [
    "#### The direct water use and CO2 emissions by sector. (Note: this is the environmental extension matrix F)"
   ]
  },
  {
   "cell_type": "code",
   "execution_count": 15,
   "metadata": {},
   "outputs": [
    {
     "data": {
      "text/html": [
       "<div>\n",
       "<style scoped>\n",
       "    .dataframe tbody tr th:only-of-type {\n",
       "        vertical-align: middle;\n",
       "    }\n",
       "\n",
       "    .dataframe tbody tr th {\n",
       "        vertical-align: top;\n",
       "    }\n",
       "\n",
       "    .dataframe thead th {\n",
       "        text-align: right;\n",
       "    }\n",
       "</style>\n",
       "<table border=\"1\" class=\"dataframe\">\n",
       "  <thead>\n",
       "    <tr style=\"text-align: right;\">\n",
       "      <th>industry</th>\n",
       "      <th>rice farm</th>\n",
       "      <th>cattle farm</th>\n",
       "      <th>power plant</th>\n",
       "      <th>car maker</th>\n",
       "      <th>insurance company</th>\n",
       "    </tr>\n",
       "    <tr>\n",
       "      <th>extensions</th>\n",
       "      <th></th>\n",
       "      <th></th>\n",
       "      <th></th>\n",
       "      <th></th>\n",
       "      <th></th>\n",
       "    </tr>\n",
       "  </thead>\n",
       "  <tbody>\n",
       "    <tr>\n",
       "      <th>Water Use (L)</th>\n",
       "      <td>10000</td>\n",
       "      <td>2000</td>\n",
       "      <td>15000</td>\n",
       "      <td>1000</td>\n",
       "      <td>750</td>\n",
       "    </tr>\n",
       "    <tr>\n",
       "      <th>CO2 Emissions (kg)</th>\n",
       "      <td>50</td>\n",
       "      <td>500</td>\n",
       "      <td>7500</td>\n",
       "      <td>300</td>\n",
       "      <td>15</td>\n",
       "    </tr>\n",
       "  </tbody>\n",
       "</table>\n",
       "</div>"
      ],
      "text/plain": [
       "industry            rice farm  cattle farm  power plant  car maker  \\\n",
       "extensions                                                           \n",
       "Water Use (L)           10000         2000        15000       1000   \n",
       "CO2 Emissions (kg)         50          500         7500        300   \n",
       "\n",
       "industry            insurance company  \n",
       "extensions                             \n",
       "Water Use (L)                     750  \n",
       "CO2 Emissions (kg)                 15  "
      ]
     },
     "execution_count": 15,
     "metadata": {},
     "output_type": "execute_result"
    }
   ],
   "source": [
    "F = np.array([\n",
    "    [10000, 2000, 15000, 1000, 750],\n",
    "    [50, 500, 7500, 300, 15]\n",
    "], dtype=np.int32)\n",
    "\n",
    "F = pd.DataFrame(F, \n",
    "                 index=pd.Index([\"Water Use (L)\", \"CO2 Emissions (kg)\"], name=\"extensions\"), \n",
    "                 columns=pd.Index([\"rice farm\", \"cattle farm\", \"power plant\", \"car maker\", \"insurance company\"], name=\"industry\"))\n",
    "F\n"
   ]
  },
  {
   "cell_type": "markdown",
   "metadata": {},
   "source": [
    "#### Total outputs: intermediate output + final product output\n",
    "\n",
    "Multiply the products/industry table (Z) by shaped array of ones...\n",
    "i = np.ones((5,1))  # shape (5, 1)\n",
    "z_sum = np.dot(Z, i)  # shape (5, 1)\n",
    "\n",
    "... Or just get the sum of the rows while keeping the dimensions.\n",
    "Z_sum = Z.sum(axis=1)  # Wrong dimensions: shape (5, )"
   ]
  },
  {
   "cell_type": "code",
   "execution_count": 7,
   "metadata": {},
   "outputs": [
    {
     "data": {
      "text/plain": [
       "array([[ 5000],\n",
       "       [10000],\n",
       "       [15000],\n",
       "       [20000],\n",
       "       [15000]])"
      ]
     },
     "execution_count": 7,
     "metadata": {},
     "output_type": "execute_result"
    }
   ],
   "source": [
    "Z_sum = Z.sum(axis=1, keepdims=True)  # shape (5, 1)\n",
    "x_out = Z_sum + y\n",
    "x = x_out\n",
    "x_out"
   ]
  },
  {
   "cell_type": "code",
   "execution_count": 8,
   "metadata": {},
   "outputs": [
    {
     "data": {
      "text/plain": [
       "array([[ 5000, 10000, 15000, 20000, 15000]])"
      ]
     },
     "execution_count": 8,
     "metadata": {},
     "output_type": "execute_result"
    }
   ],
   "source": [
    "# Total inputs: intermediate input + value added\n",
    "Z_sum = Z.sum(axis=0, keepdims=True)  # shape (1, 5)\n",
    "x_in = Z_sum + v\n",
    "x_in"
   ]
  },
  {
   "cell_type": "code",
   "execution_count": 9,
   "metadata": {},
   "outputs": [
    {
     "data": {
      "text/plain": [
       "array([[2.  , 0.2 , 1.  , 0.05, 0.05]])"
      ]
     },
     "execution_count": 9,
     "metadata": {},
     "output_type": "execute_result"
    }
   ],
   "source": [
    "# Task 2 use of water, CO2 and wage payment.\n",
    "# Use of water -> F water divided by total output\n",
    "# Make sure to transpose x to ensure a (1, 5) shape\n",
    "f_water = F_water / x.transpose()\n",
    "f_water"
   ]
  },
  {
   "cell_type": "code",
   "execution_count": 10,
   "metadata": {},
   "outputs": [
    {
     "data": {
      "text/plain": [
       "array([[0.01 , 0.05 , 0.5  , 0.015, 0.001]])"
      ]
     },
     "execution_count": 10,
     "metadata": {},
     "output_type": "execute_result"
    }
   ],
   "source": [
    "# Emission of CO2 -> F CO2 divided by total output\n",
    "# Same with transposing here.\n",
    "f_co2 = F_co2 / x.transpose()\n",
    "f_co2"
   ]
  },
  {
   "cell_type": "code",
   "execution_count": 11,
   "metadata": {},
   "outputs": [
    {
     "data": {
      "text/plain": [
       "array([[0.5       , 0.24      , 0.64      , 0.8       , 0.56666667]])"
      ]
     },
     "execution_count": 11,
     "metadata": {},
     "output_type": "execute_result"
    }
   ],
   "source": [
    "# Wage payment ->  Value added divided by total output\n",
    "# Transpose again.\n",
    "f_va = v / x.transpose()\n",
    "f_va"
   ]
  },
  {
   "cell_type": "code",
   "execution_count": 12,
   "metadata": {},
   "outputs": [
    {
     "data": {
      "text/plain": [
       "array([[2.00000000e+00, 2.00000000e-01, 1.00000000e+00, 5.00000000e-02,\n",
       "        5.00000000e-02],\n",
       "       [1.00000000e-02, 5.00000000e-02, 5.00000000e-01, 1.50000000e-02,\n",
       "        1.00000000e-03],\n",
       "       [5.00000000e-01, 2.40000000e-01, 6.40000000e-01, 8.00000000e-01,\n",
       "        5.66666667e-01]])"
      ]
     },
     "execution_count": 12,
     "metadata": {},
     "output_type": "execute_result"
    }
   ],
   "source": [
    "# Or, if we want to have everything in a single array:\n",
    "f_all = F / x.transpose()\n",
    "\n",
    "# And append the wage payment row at the end\n",
    "f_all = np.concatenate((f_all, f_va), axis=0)\n",
    "f_all"
   ]
  },
  {
   "cell_type": "code",
   "execution_count": 13,
   "metadata": {},
   "outputs": [
    {
     "data": {
      "text/plain": [
       "array([[1.02040816, 0.2154195 , 0.        , 0.        , 0.        ],\n",
       "       [0.        , 1.11111111, 0.        , 0.        , 0.        ],\n",
       "       [0.40461549, 0.44595385, 1.14586964, 0.09585221, 0.33766121],\n",
       "       [0.1679281 , 0.26837237, 0.14813524, 1.07703032, 0.15772046],\n",
       "       [0.17029328, 0.22149745, 0.26141513, 0.13593587, 1.16068316]])"
      ]
     },
     "execution_count": 13,
     "metadata": {},
     "output_type": "execute_result"
    }
   ],
   "source": [
    "# Calculate the leontief inverse matrix\n",
    "\n",
    "# Create the technical coefficient matrix A first\n",
    "A = Z / x.transpose()\n",
    "# Create an identity matrix the same shape as A\n",
    "I = np.identity(5)\n",
    "# Use numpy linear algebra inverse function to get L = (I - A)^-1\n",
    "L = np.linalg.inv(I - A)\n",
    "L"
   ]
  },
  {
   "cell_type": "code",
   "execution_count": 14,
   "metadata": {},
   "outputs": [
    {
     "data": {
      "text/plain": [
       "array([[2.46234288, 1.12350857, 1.16634716, 0.15650052, 0.40358139]])"
      ]
     },
     "execution_count": 14,
     "metadata": {},
     "output_type": "execute_result"
    }
   ],
   "source": [
    "# Task 4 Insurance's water multiplier\n",
    "f_tot_water = f_water.dot(L)\n",
    "f_tot_water"
   ]
  },
  {
   "cell_type": "code",
   "execution_count": 15,
   "metadata": {},
   "outputs": [
    {
     "data": {
      "text/plain": [
       "array([[2.04081633, 0.430839  , 0.        , 0.        , 0.        ],\n",
       "       [0.        , 0.22222222, 0.        , 0.        , 0.        ],\n",
       "       [0.40461549, 0.44595385, 1.14586964, 0.09585221, 0.33766121],\n",
       "       [0.0083964 , 0.01341862, 0.00740676, 0.05385152, 0.00788602],\n",
       "       [0.00851466, 0.01107487, 0.01307076, 0.00679679, 0.05803416]])"
      ]
     },
     "execution_count": 15,
     "metadata": {},
     "output_type": "execute_result"
    }
   ],
   "source": [
    "# We can also store the information we have about all of the processes\n",
    "f_tot_water_p = np.diagflat(f_water).dot(L)\n",
    "f_tot_water_p"
   ]
  },
  {
   "cell_type": "code",
   "execution_count": 16,
   "metadata": {},
   "outputs": [
    {
     "data": {
      "text/plain": [
       "array([[ True,  True,  True,  True,  True]])"
      ]
     },
     "execution_count": 16,
     "metadata": {},
     "output_type": "execute_result"
    }
   ],
   "source": [
    "# And when we sum the columns, we find that we get the same result.\n",
    "np.isclose(f_tot_water_p.sum(axis=0), f_tot_water)"
   ]
  },
  {
   "cell_type": "code",
   "execution_count": 17,
   "metadata": {},
   "outputs": [
    {
     "name": "stdout",
     "output_type": "stream",
     "text": [
      "Total water (direct + indirect):\n",
      "[[2.46234288 1.12350857 1.16634716 0.15650052 0.40358139]]\n",
      "\n",
      "Direct water only:\n",
      "[[2.   0.2  1.   0.05 0.05]]\n"
     ]
    }
   ],
   "source": [
    "# Compare f_total_water (direct + indirect) vs. f_water (direct)\n",
    "print(f\"Total water (direct + indirect):\\n{f_tot_water}\\n\\nDirect water only:\\n{f_water}\")"
   ]
  },
  {
   "cell_type": "code",
   "execution_count": 18,
   "metadata": {},
   "outputs": [
    {
     "data": {
      "text/plain": [
       "array([[8365.]])"
      ]
     },
     "execution_count": 18,
     "metadata": {},
     "output_type": "execute_result"
    }
   ],
   "source": [
    "# Carbon footprint: We use the calculated co2 and perform a dot multiplication:\n",
    "# First with the leontief inverse matrix and then with the value of the products sold.\n",
    "EF_co2 = f_co2.dot(L).dot(y)\n",
    "EF_co2"
   ]
  },
  {
   "cell_type": "code",
   "execution_count": 19,
   "metadata": {},
   "outputs": [
    {
     "data": {
      "text/plain": [
       "array([[28750.],\n",
       "       [ 8365.],\n",
       "       [39000.]])"
      ]
     },
     "execution_count": 19,
     "metadata": {},
     "output_type": "execute_result"
    }
   ],
   "source": [
    "# We can also just combine all of the footprints and calculate the same.\n",
    "EF = f_all.dot(L).dot(y)\n",
    "EF  # In order: Water, CO2 and value added by final demand"
   ]
  },
  {
   "cell_type": "code",
   "execution_count": 20,
   "metadata": {},
   "outputs": [
    {
     "data": {
      "text/plain": [
       "array([[ 645.60312204, 2564.40384903, 2877.09132102,  899.0449634 ,\n",
       "        1378.85674451]])"
      ]
     },
     "execution_count": 20,
     "metadata": {},
     "output_type": "execute_result"
    }
   ],
   "source": [
    "# Carbon footprint related to final demand:\n",
    "EF_co2_exp = f_co2 @ L @ np.diagflat(y)\n",
    "EF_co2_exp"
   ]
  },
  {
   "cell_type": "code",
   "execution_count": 23,
   "metadata": {},
   "outputs": [
    {
     "data": {
      "text/plain": [
       "array([[  50.],\n",
       "       [ 500.],\n",
       "       [7500.],\n",
       "       [ 300.],\n",
       "       [  15.]])"
      ]
     },
     "execution_count": 23,
     "metadata": {},
     "output_type": "execute_result"
    }
   ],
   "source": [
    "# Carbon footprint of traced to producing sector\n",
    "EF_co2_p = np.diagflat(f_co2) @ L @ y\n",
    "EF_co2_p"
   ]
  },
  {
   "cell_type": "code",
   "execution_count": 24,
   "metadata": {},
   "outputs": [
    {
     "data": {
      "text/plain": [
       "array([[3.06122449e+01, 1.93877551e+01, 0.00000000e+00, 0.00000000e+00,\n",
       "        0.00000000e+00],\n",
       "       [0.00000000e+00, 5.00000000e+02, 0.00000000e+00, 0.00000000e+00,\n",
       "        0.00000000e+00],\n",
       "       [6.06923233e+02, 2.00679235e+03, 2.86467410e+03, 6.70965493e+02,\n",
       "        1.35064482e+03],\n",
       "       [7.55676443e+00, 3.62302694e+01, 1.11101429e+01, 2.26176368e+02,\n",
       "        1.89264552e+01],\n",
       "       [5.10879849e-01, 1.99347707e+00, 1.30707564e+00, 1.90310213e+00,\n",
       "        9.28546532e+00]])"
      ]
     },
     "execution_count": 24,
     "metadata": {},
     "output_type": "execute_result"
    }
   ],
   "source": [
    "# Combining the two calculation above, we have all of the information in one place\n",
    "EF_co2_exp_p = np.diagflat(f_co2) @ L @ np.diagflat(y)\n",
    "EF_co2_exp_p"
   ]
  },
  {
   "cell_type": "code",
   "execution_count": 25,
   "metadata": {},
   "outputs": [],
   "source": [
    "# Lets check if everything comes up correctly:\n",
    "assert EF_co2 == EF_co2_p.sum()\n",
    "assert EF_co2 == EF_co2_exp.sum()\n",
    "assert EF_co2 == EF_co2_exp_p.sum()\n",
    "# If no errors show, all of the matrixes sum to the same value as EF_co2"
   ]
  },
  {
   "cell_type": "code",
   "execution_count": 26,
   "metadata": {},
   "outputs": [],
   "source": [
    "# Lets also check that the EF_co2_exp_p can sum to the same values as its parts\n",
    "# In this case we use 'isclose' because comparing floats is difficult to do exactly.\n",
    "assert np.isclose(EF_co2_p, EF_co2_exp_p.sum(axis=1, keepdims=True)).all()\n",
    "assert np.isclose(EF_co2_exp, EF_co2_exp_p.sum(axis=0, keepdims=True)).all()\n",
    "# If no errors show, the EF_co2_exp_p matrix sums to the same/similar values as EF_co2_p and EF_co2_exp."
   ]
  },
  {
   "cell_type": "code",
   "execution_count": 27,
   "metadata": {},
   "outputs": [
    {
     "data": {
      "text/plain": [
       "array([[ True],\n",
       "       [ True],\n",
       "       [False],\n",
       "       [ True],\n",
       "       [False]])"
      ]
     },
     "execution_count": 27,
     "metadata": {},
     "output_type": "execute_result"
    }
   ],
   "source": [
    "# Comparing float values doesn´t always work.\n",
    "EF_co2_exp_p.sum(axis=1, keepdims=True) == EF_co2_p"
   ]
  },
  {
   "cell_type": "code",
   "execution_count": null,
   "metadata": {},
   "outputs": [],
   "source": []
  }
 ],
 "metadata": {
  "kernelspec": {
   "display_name": "Python 3.9.13 ('eeio_env')",
   "language": "python",
   "name": "python3"
  },
  "language_info": {
   "codemirror_mode": {
    "name": "ipython",
    "version": 3
   },
   "file_extension": ".py",
   "mimetype": "text/x-python",
   "name": "python",
   "nbconvert_exporter": "python",
   "pygments_lexer": "ipython3",
   "version": "3.9.13"
  },
  "vscode": {
   "interpreter": {
    "hash": "bdf1074b1e4097a27de4ff5d8cc82bd85ea1ed68c4d8be13a0edb9c259a7b7a5"
   }
  }
 },
 "nbformat": 4,
 "nbformat_minor": 2
}
