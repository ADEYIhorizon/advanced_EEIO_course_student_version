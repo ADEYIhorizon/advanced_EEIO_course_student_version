{
 "cells": [
  {
   "cell_type": "markdown",
   "id": "93ed8f12-cfff-4c86-8a77-0d0870a7be97",
   "metadata": {},
   "source": [
    "# Exercise 1\n",
    "In this exercise, you will practice how to apply the three methods to calculate national GDP, using different databases and years.  \n",
    "While the exercise is quantitive, try to reason about differences and implications of the methods as well as results from the method application."
   ]
  },
  {
   "cell_type": "markdown",
   "id": "06dfb2a3-8454-4cab-9137-0f0cc247b4d3",
   "metadata": {},
   "source": [
    "### Learning goals\n",
    "\n",
    "- Analysing GDP trends\n",
    "- Implementing GDP calculation methods in different contexts\n",
    "- Understanding the data structure difference between SNA and IO tables \n",
    "- Understanding the implications of quantitative results"
   ]
  },
  {
   "cell_type": "markdown",
   "id": "8ee1b689-c727-4b94-9c06-8212dc47c246",
   "metadata": {},
   "source": [
    "### Instructions\n",
    "\n",
    "Data should be downloaded, loaded and plotted in python\n",
    "\n",
    "- Data source 1: eurostat, national accounts https://ec.europa.eu/eurostat/data/database?node_code=lfsq\n",
    "\n",
    "- Data source 2: CBS https://www.cbs.nl/en-gb/custom/2020/29/supply-and-use-input-output-and-sector-accounts\n",
    "\n",
    "For EU-27 and The Netherlands, respectively, obtain, plot, and analyze the following NAs time series for all years available starting from the year 2000 (annual)\n",
    "\n",
    "[comment]: <> (4. The ratio of employee compensation to gross value added by basic 10-industry breakdown [home assignment, but tempted to chuck it, not really fond of home exercises if they already have in class assignments. Worst comes to worst what they didn't finish in class they can get done at home ])"
   ]
  },
  {
   "cell_type": "markdown",
   "id": "1aaeffd1-b07a-41d1-8c07-f5e346518176",
   "metadata": {},
   "source": [
    "#### Step 1\n",
    "Plot two line graphs showing the yearly GDP change since 2000 for the 2 regions"
   ]
  },
  {
   "cell_type": "code",
   "execution_count": 6,
   "id": "89a776a4-3fd8-46c1-9940-53765b5dcbad",
   "metadata": {},
   "outputs": [],
   "source": [
    "# Import data\n",
    "\n",
    "\n"
   ]
  },
  {
   "cell_type": "code",
   "execution_count": 12,
   "id": "6579fe59-d40f-4cc7-b25f-2d70d46f639f",
   "metadata": {},
   "outputs": [],
   "source": [
    "# Plot two lines (one of each region) with the year on year absolute GDP change\n",
    "\n",
    "\n"
   ]
  },
  {
   "cell_type": "code",
   "execution_count": 13,
   "id": "61dd8ee0-6c74-4979-a6c5-26a12c7e163a",
   "metadata": {},
   "outputs": [],
   "source": [
    "# Plot two lines (one of each region) with the year on year relative GDP change\n",
    "\n",
    "\n"
   ]
  },
  {
   "cell_type": "markdown",
   "id": "2f0fdec0-964b-442a-9689-32403f186e87",
   "metadata": {},
   "source": [
    "#### Step 2\n",
    "\n",
    "Calculate for the latest year available the GDP total and its composition using the three approaches:\n",
    "- expenditure perspective (GDP = Consumption + Investment + Government Spending + Net Export)\n",
    "- production perspective (GDP =  sum of all value added of all production activities)\n",
    "- income perspective (GDP = Total National Income + Sales Taxes + Depreciation + Net Foreign Factor Income)"
   ]
  },
  {
   "cell_type": "code",
   "execution_count": 4,
   "id": "f4158925-2d16-4901-a5f1-08c422e976aa",
   "metadata": {},
   "outputs": [],
   "source": [
    "# Expenditure perspective\n",
    "\n",
    "\n"
   ]
  },
  {
   "cell_type": "code",
   "execution_count": 5,
   "id": "f30c17da-c367-4094-9b51-86ad2756dee9",
   "metadata": {},
   "outputs": [],
   "source": [
    "# Production perspective\n",
    "\n",
    "\n"
   ]
  },
  {
   "cell_type": "code",
   "execution_count": 8,
   "id": "7a386c66-b7a8-4be5-8c33-713c682ebb99",
   "metadata": {},
   "outputs": [],
   "source": [
    "# Income perspective\n",
    "\n",
    "\n",
    "\n"
   ]
  }
 ],
 "metadata": {
  "kernelspec": {
   "display_name": "Python 3 (ipykernel)",
   "language": "python",
   "name": "python3"
  },
  "language_info": {
   "codemirror_mode": {
    "name": "ipython",
    "version": 3
   },
   "file_extension": ".py",
   "mimetype": "text/x-python",
   "name": "python",
   "nbconvert_exporter": "python",
   "pygments_lexer": "ipython3",
   "version": "3.9.7"
  }
 },
 "nbformat": 4,
 "nbformat_minor": 5
}
