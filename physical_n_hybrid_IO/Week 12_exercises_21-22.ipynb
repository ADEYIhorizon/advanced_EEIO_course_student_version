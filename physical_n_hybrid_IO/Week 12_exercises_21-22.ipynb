{
 "cells": [
  {
   "cell_type": "code",
   "execution_count": 7,
   "id": "ca0e8707",
   "metadata": {},
   "outputs": [],
   "source": [
    "import pandas as pd\n",
    "import floweaver as fw\n",
    "from ipysankeywidget import SankeyWidget"
   ]
  },
  {
   "cell_type": "code",
   "execution_count": 8,
   "id": "46452976",
   "metadata": {},
   "outputs": [],
   "source": [
    "df=pd.read_excel(\"week_6_data.xlsx\", index_col=0, header=0)"
   ]
  },
  {
   "cell_type": "code",
   "execution_count": 9,
   "id": "704ae82b",
   "metadata": {},
   "outputs": [
    {
     "data": {
      "text/html": [
       "<div>\n",
       "<style scoped>\n",
       "    .dataframe tbody tr th:only-of-type {\n",
       "        vertical-align: middle;\n",
       "    }\n",
       "\n",
       "    .dataframe tbody tr th {\n",
       "        vertical-align: top;\n",
       "    }\n",
       "\n",
       "    .dataframe thead th {\n",
       "        text-align: right;\n",
       "    }\n",
       "</style>\n",
       "<table border=\"1\" class=\"dataframe\">\n",
       "  <thead>\n",
       "    <tr style=\"text-align: right;\">\n",
       "      <th></th>\n",
       "      <th>Gigatonnes (Gt)</th>\n",
       "    </tr>\n",
       "  </thead>\n",
       "  <tbody>\n",
       "    <tr>\n",
       "      <th>Material extraction</th>\n",
       "      <td>73.475219</td>\n",
       "    </tr>\n",
       "    <tr>\n",
       "      <th>Emissions</th>\n",
       "      <td>40.529793</td>\n",
       "    </tr>\n",
       "    <tr>\n",
       "      <th>Waste</th>\n",
       "      <td>6.438150</td>\n",
       "    </tr>\n",
       "    <tr>\n",
       "      <th>Inflows-to-Stocks</th>\n",
       "      <td>29.624069</td>\n",
       "    </tr>\n",
       "    <tr>\n",
       "      <th>Outflows-from-Stock</th>\n",
       "      <td>2.268988</td>\n",
       "    </tr>\n",
       "    <tr>\n",
       "      <th>Waste-from-treatment</th>\n",
       "      <td>5.590345</td>\n",
       "    </tr>\n",
       "    <tr>\n",
       "      <th>Waste-recovery</th>\n",
       "      <td>3.116793</td>\n",
       "    </tr>\n",
       "  </tbody>\n",
       "</table>\n",
       "</div>"
      ],
      "text/plain": [
       "                      Gigatonnes (Gt)\n",
       "Material extraction         73.475219\n",
       "Emissions                   40.529793\n",
       "Waste                        6.438150\n",
       "Inflows-to-Stocks           29.624069\n",
       "Outflows-from-Stock          2.268988\n",
       "Waste-from-treatment         5.590345\n",
       "Waste-recovery               3.116793"
      ]
     },
     "execution_count": 9,
     "metadata": {},
     "output_type": "execute_result"
    }
   ],
   "source": [
    "df"
   ]
  },
  {
   "cell_type": "code",
   "execution_count": 10,
   "id": "0b94261b",
   "metadata": {},
   "outputs": [],
   "source": [
    "flows = pd.DataFrame([['N', 'I&C', 'all_mat', df.iloc[0,0]],\n",
    "                      ['I&C', 'E', 'all_mat', df.iloc[1,0]],\n",
    "                      ['I&C', 'T', 'all_mat', df.iloc[2,0]],\n",
    "                      ['I&C', 'S', 'all_mat', df.iloc[3,0]],\n",
    "                      ['S', 'T', 'fossil', df.iloc[4,0]],\n",
    "                      ['T', 'W', 'all_mat', df.iloc[5,0]],\n",
    "                      ['T', 'I&C', 'all_mat', df.iloc[6,0]]]) # Dataframe in structure required by Floweaver\n",
    "flows.columns = ['source', 'target', 'type', 'value']"
   ]
  },
  {
   "cell_type": "code",
   "execution_count": 11,
   "id": "5b033a0b",
   "metadata": {},
   "outputs": [
    {
     "data": {
      "text/html": [
       "<div>\n",
       "<style scoped>\n",
       "    .dataframe tbody tr th:only-of-type {\n",
       "        vertical-align: middle;\n",
       "    }\n",
       "\n",
       "    .dataframe tbody tr th {\n",
       "        vertical-align: top;\n",
       "    }\n",
       "\n",
       "    .dataframe thead th {\n",
       "        text-align: right;\n",
       "    }\n",
       "</style>\n",
       "<table border=\"1\" class=\"dataframe\">\n",
       "  <thead>\n",
       "    <tr style=\"text-align: right;\">\n",
       "      <th></th>\n",
       "      <th>source</th>\n",
       "      <th>target</th>\n",
       "      <th>type</th>\n",
       "      <th>value</th>\n",
       "    </tr>\n",
       "  </thead>\n",
       "  <tbody>\n",
       "    <tr>\n",
       "      <th>0</th>\n",
       "      <td>N</td>\n",
       "      <td>I&amp;C</td>\n",
       "      <td>all_mat</td>\n",
       "      <td>73.475219</td>\n",
       "    </tr>\n",
       "    <tr>\n",
       "      <th>1</th>\n",
       "      <td>I&amp;C</td>\n",
       "      <td>E</td>\n",
       "      <td>all_mat</td>\n",
       "      <td>40.529793</td>\n",
       "    </tr>\n",
       "    <tr>\n",
       "      <th>2</th>\n",
       "      <td>I&amp;C</td>\n",
       "      <td>T</td>\n",
       "      <td>all_mat</td>\n",
       "      <td>6.438150</td>\n",
       "    </tr>\n",
       "    <tr>\n",
       "      <th>3</th>\n",
       "      <td>I&amp;C</td>\n",
       "      <td>S</td>\n",
       "      <td>all_mat</td>\n",
       "      <td>29.624069</td>\n",
       "    </tr>\n",
       "    <tr>\n",
       "      <th>4</th>\n",
       "      <td>S</td>\n",
       "      <td>T</td>\n",
       "      <td>fossil</td>\n",
       "      <td>2.268988</td>\n",
       "    </tr>\n",
       "    <tr>\n",
       "      <th>5</th>\n",
       "      <td>T</td>\n",
       "      <td>W</td>\n",
       "      <td>all_mat</td>\n",
       "      <td>5.590345</td>\n",
       "    </tr>\n",
       "    <tr>\n",
       "      <th>6</th>\n",
       "      <td>T</td>\n",
       "      <td>I&amp;C</td>\n",
       "      <td>all_mat</td>\n",
       "      <td>3.116793</td>\n",
       "    </tr>\n",
       "  </tbody>\n",
       "</table>\n",
       "</div>"
      ],
      "text/plain": [
       "  source target     type      value\n",
       "0      N    I&C  all_mat  73.475219\n",
       "1    I&C      E  all_mat  40.529793\n",
       "2    I&C      T  all_mat   6.438150\n",
       "3    I&C      S  all_mat  29.624069\n",
       "4      S      T   fossil   2.268988\n",
       "5      T      W  all_mat   5.590345\n",
       "6      T    I&C  all_mat   3.116793"
      ]
     },
     "execution_count": 11,
     "metadata": {},
     "output_type": "execute_result"
    }
   ],
   "source": [
    "flows"
   ]
  },
  {
   "cell_type": "code",
   "execution_count": 14,
   "id": "db7430d3",
   "metadata": {},
   "outputs": [],
   "source": [
    "nodes = {'N': fw.ProcessGroup(['N']),\n",
    "        'I&C': fw.ProcessGroup(['I&C']),\n",
    "         'S': fw.ProcessGroup(['S']),\n",
    "         'T': fw.ProcessGroup(['T']),\n",
    "         'DPO': fw.ProcessGroup(['E', 'W']),\n",
    "         'rec': fw.Waypoint(direction='L'), } # Nodes = Group of processes from the underlying dataset\n",
    "ordering = [[['N'], []],\n",
    "           [['I&C'], ['rec']],\n",
    "           [['S'], []],\n",
    "           [['T'], []],\n",
    "           [['DPO'], []]] # Ordering = The order of processes in the diagram\n",
    "bundles = [fw.Bundle('N', 'I&C'),\n",
    "           fw.Bundle('I&C', 'T'),\n",
    "           fw.Bundle('I&C', 'S'),\n",
    "           fw.Bundle('I&C', 'DPO'),\n",
    "           fw.Bundle('S', 'T'),\n",
    "           fw.Bundle('T', 'DPO'),\n",
    "           fw.Bundle('T', 'I&C'), ] # Bundle = a set of flows between two processes"
   ]
  },
  {
   "cell_type": "code",
   "execution_count": 13,
   "id": "dd267c0e",
   "metadata": {},
   "outputs": [
    {
     "data": {
      "application/vnd.jupyter.widget-view+json": {
       "model_id": "c215780049cd4b088959971e1ccb8861",
       "version_major": 2,
       "version_minor": 0
      },
      "text/plain": [
       "SankeyWidget(groups=[{'id': '__T_I&C_1', 'type': 'group', 'title': '', 'nodes': ['__T_I&C_1^*']}, {'id': '__I&…"
      ]
     },
     "metadata": {},
     "output_type": "display_data"
    }
   ],
   "source": [
    "sdd = fw.SankeyDefinition(nodes, bundles, ordering) # Connect all settings\n",
    "size = dict(width=750, height=300)  # Adjust diagram size\n",
    "fw.weave(sdd, flows, palette=['blue']).to_widget(**size) # Display Sankey diagram"
   ]
  },
  {
   "cell_type": "code",
   "execution_count": null,
   "id": "f2273550",
   "metadata": {},
   "outputs": [],
   "source": []
  }
 ],
 "metadata": {
  "kernelspec": {
   "display_name": "Python 3 (ipykernel)",
   "language": "python",
   "name": "python3"
  },
  "language_info": {
   "codemirror_mode": {
    "name": "ipython",
    "version": 3
   },
   "file_extension": ".py",
   "mimetype": "text/x-python",
   "name": "python",
   "nbconvert_exporter": "python",
   "pygments_lexer": "ipython3",
   "version": "3.8.12"
  }
 },
 "nbformat": 4,
 "nbformat_minor": 5
}
