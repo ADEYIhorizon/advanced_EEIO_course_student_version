{
 "cells": [
  {
   "cell_type": "code",
   "execution_count": 7,
   "metadata": {},
   "outputs": [],
   "source": [
    "import numpy as np"
   ]
  },
  {
   "cell_type": "code",
   "execution_count": 2,
   "metadata": {},
   "outputs": [
    {
     "name": "stdout",
     "output_type": "stream",
     "text": [
      "Result: 0.6 with type <class 'float'>\n"
     ]
    }
   ],
   "source": [
    "### Question 1.a\n",
    "result = 3 / 5\n",
    "print(f\"Result: {result} with type {type(result)}\")"
   ]
  },
  {
   "cell_type": "code",
   "execution_count": 3,
   "metadata": {},
   "outputs": [
    {
     "name": "stdout",
     "output_type": "stream",
     "text": [
      "Result: 15 with type <class 'int'>\n"
     ]
    }
   ],
   "source": [
    "result = 3 * 5\n",
    "print(f\"Result: {result} with type {type(result)}\")"
   ]
  },
  {
   "cell_type": "code",
   "execution_count": 19,
   "metadata": {},
   "outputs": [
    {
     "name": "stdout",
     "output_type": "stream",
     "text": [
      "Result: 22.5 with type <class 'float'>\n"
     ]
    }
   ],
   "source": [
    "### Question 1.b\n",
    "result = 4.5 * 5\n",
    "print(f\"Result: {result} with type {type(result)}\")"
   ]
  },
  {
   "cell_type": "code",
   "execution_count": 4,
   "metadata": {},
   "outputs": [
    {
     "name": "stdout",
     "output_type": "stream",
     "text": [
      "Result: 19.3 \n"
     ]
    }
   ],
   "source": [
    "### Question 1.c\n",
    "value_list = [3, 4, 5, 7.3]\n",
    "result = sum(value_list)\n",
    "print(f\"Result: {result} \")"
   ]
  },
  {
   "cell_type": "code",
   "execution_count": 5,
   "metadata": {},
   "outputs": [
    {
     "name": "stdout",
     "output_type": "stream",
     "text": [
      "Second item 4 is equal to second item: True\n"
     ]
    }
   ],
   "source": [
    "### Question 1.d\n",
    "# List indexes in python start from 0, so the second item is at index 1.\n",
    "second_item = value_list[1]\n",
    "print(f\"Second item 4 is equal to second item: {second_item == 4}\")"
   ]
  },
  {
   "cell_type": "code",
   "execution_count": 8,
   "metadata": {},
   "outputs": [
    {
     "data": {
      "text/plain": [
       "array([    1,     2,     3,     4,     5,     5,     7, 34567,  7754])"
      ]
     },
     "execution_count": 8,
     "metadata": {},
     "output_type": "execute_result"
    }
   ],
   "source": [
    "### Question 2.a\n",
    "integer_list = [1, 2, 3, 4, 5, 5, 7, 34567, 7754]\n",
    "array_one = np.array(integer_list)\n",
    "array_one"
   ]
  },
  {
   "cell_type": "code",
   "execution_count": 9,
   "metadata": {},
   "outputs": [
    {
     "data": {
      "text/plain": [
       "array([    4,     5,     6,     7,     8,     8,    10, 34570,  7757])"
      ]
     },
     "execution_count": 9,
     "metadata": {},
     "output_type": "execute_result"
    }
   ],
   "source": [
    "### Question 2.b\n",
    "array_one + 3"
   ]
  },
  {
   "cell_type": "code",
   "execution_count": 10,
   "metadata": {},
   "outputs": [
    {
     "data": {
      "text/plain": [
       "array([2.0000e-01, 4.0000e-01, 6.0000e-01, 8.0000e-01, 1.0000e+00,\n",
       "       1.0000e+00, 1.4000e+00, 6.9134e+03, 1.5508e+03])"
      ]
     },
     "execution_count": 10,
     "metadata": {},
     "output_type": "execute_result"
    }
   ],
   "source": [
    "### Question 2.b\n",
    "array_one / 5"
   ]
  },
  {
   "cell_type": "code",
   "execution_count": 15,
   "metadata": {},
   "outputs": [
    {
     "name": "stdout",
     "output_type": "stream",
     "text": [
      "Array two looks like:\n",
      "[[ 2.    6.7   8.  ]\n",
      " [ 4.    3.14 24.  ]]\n",
      "and its shape is (2, 3)\n"
     ]
    },
    {
     "data": {
      "text/plain": [
       "(2, 3)"
      ]
     },
     "execution_count": 15,
     "metadata": {},
     "output_type": "execute_result"
    }
   ],
   "source": [
    "### Question 2.c\n",
    "# You can create an array from a list of lists\n",
    "array_two = np.array([\n",
    "    [2, 6.7, 8],\n",
    "    [4, 3.14, 24]\n",
    "])\n",
    "print(f\"Array two looks like:\\n{array_two}\\nand its shape is {array_two.shape}\")"
   ]
  },
  {
   "cell_type": "code",
   "execution_count": 16,
   "metadata": {},
   "outputs": [
    {
     "data": {
      "text/plain": [
       "47.84"
      ]
     },
     "execution_count": 16,
     "metadata": {},
     "output_type": "execute_result"
    }
   ],
   "source": [
    "### Question 2.d\n",
    "# np.sum(array_two) or array_two.sum(): both return the sum of all values in the array.\n",
    "array_two.sum()"
   ]
  },
  {
   "cell_type": "code",
   "execution_count": 17,
   "metadata": {},
   "outputs": [
    {
     "data": {
      "text/plain": [
       "array([16.7 , 31.14])"
      ]
     },
     "execution_count": 17,
     "metadata": {},
     "output_type": "execute_result"
    }
   ],
   "source": [
    "### Question 2.e\n",
    "# We can sum over an axis of the array, axis 0 are the rows, axis 1 are the columns.\n",
    "# To find the sum of the rows, we collapse axis 1 (the columns)\n",
    "array_two.sum(axis=1)"
   ]
  },
  {
   "cell_type": "code",
   "execution_count": 18,
   "metadata": {},
   "outputs": [
    {
     "data": {
      "text/plain": [
       "array([[16.7 ],\n",
       "       [31.14]])"
      ]
     },
     "execution_count": 18,
     "metadata": {},
     "output_type": "execute_result"
    }
   ],
   "source": [
    "### Question 2.f\n",
    "array_two.sum(axis=1, keepdims=True)"
   ]
  }
 ],
 "metadata": {
  "interpreter": {
   "hash": "7796d50ca5535fb9184e5a82fa81fc41aa6446e4b2213c3585108c638fb5f44a"
  },
  "kernelspec": {
   "display_name": "Python 3.9.7 64-bit ('iotable': conda)",
   "language": "python",
   "name": "python3"
  },
  "language_info": {
   "codemirror_mode": {
    "name": "ipython",
    "version": 3
   },
   "file_extension": ".py",
   "mimetype": "text/x-python",
   "name": "python",
   "nbconvert_exporter": "python",
   "pygments_lexer": "ipython3",
   "version": "3.9.7"
  },
  "orig_nbformat": 4
 },
 "nbformat": 4,
 "nbformat_minor": 2
}
