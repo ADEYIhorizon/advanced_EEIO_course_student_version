{
 "cells": [
  {
   "attachments": {},
   "cell_type": "markdown",
   "metadata": {},
   "source": [
    "## MRIO seminal works\n",
    "\n",
    "\n",
    "The module includes:\n",
    "    A) Import data\n",
    "    B) Calculate Leontief inverse and environmental intesity matrix\n",
    "    C) Final demand contribution to environmental footprint\n",
    "\n",
    "Database:   \n",
    "\n",
    "Created on Dec 14 12:40:00 2021\n",
    "Updated on Feb 10 21:00:00 2022\n",
    "\n",
    "Based on 'Week 4 exercises' from Wang \n",
    "@author: aguilarga "
   ]
  },
  {
   "cell_type": "code",
   "execution_count": null,
   "metadata": {},
   "outputs": [],
   "source": [
    "import pandas as pd \n",
    "import numpy as np"
   ]
  },
  {
   "attachments": {},
   "cell_type": "markdown",
   "metadata": {},
   "source": [
    "### Instructions\n",
    "- Save and unzip the data files to the current working directory\n",
    "- First read (tab delimited) data as DataFrame, which is a data strcuture in the Pandas library, \n",
    "- Convert the DataFrame to numpy array. To learn more about DataFrame and read_csv [click here](https://pandas.pydata.org/pandas-docs/stable/reference/api/pandas.DataFrame.html.)"
   ]
  }
 ],
 "metadata": {
  "kernelspec": {
   "display_name": "env_eeio",
   "language": "python",
   "name": "python3"
  },
  "language_info": {
   "name": "python",
   "version": "3.10.2 (tags/v3.10.2:a58ebcc, Jan 17 2022, 14:12:15) [MSC v.1929 64 bit (AMD64)]"
  },
  "orig_nbformat": 4,
  "vscode": {
   "interpreter": {
    "hash": "a0de1fb450ee5e26d734f0aa5b4c4b29e20575809e5e66472467df7627fd957d"
   }
  }
 },
 "nbformat": 4,
 "nbformat_minor": 2
}
