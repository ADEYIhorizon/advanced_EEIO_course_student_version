{
 "cells": [
  {
   "cell_type": "markdown",
   "metadata": {},
   "source": [
    "# MRIO seminal works\n",
    "\n",
    "#### Objectives\n",
    "- Learn how to replicate the methods and results from a few studies. \n",
    "- Understand and explain main results from EEIOA studies using MRIO seminal works\n",
    "- Perform an MRIO analysis in Python\n",
    "- Interpret the results using the MRIO seminal\n"
   ]
  },
  {
   "cell_type": "markdown",
   "metadata": {},
   "source": [
    "### Part 1: Understanding and explaining MRIO results\n",
    "Wood et al. (2018)  explore the way in which international trade contributes to 4 environmental pressures from the consumption of a population. Among their results, they show the growth in consumption-based footprints per capita between 1995 and 2011 for 11 world regions:\n",
    "\n",
    "|![Figure 1](figures/growth_footprint_pc.png)|\n",
    "|:--:|\n",
    "|Figure 1. Growth in consumption-based footprints per capita between 1995 and 2011 for 11 world regions (1995 = 1) retrieved from Wood et al. (2018). GHG = greenhouse gas; OECD = Organization for Economic Cooperation and Development|\n"
   ]
  },
  {
   "cell_type": "markdown",
   "metadata": {},
   "source": [
    "##### Questions 1\n",
    "Does figure 1 present any aspects related to MRIO seminal (e.g., logic, value visualization, language, etc.)? Provide two examples.\n"
   ]
  },
  {
   "cell_type": "code",
   "execution_count": 3,
   "metadata": {},
   "outputs": [
    {
     "data": {
      "application/vnd.jupyter.widget-view+json": {
       "model_id": "94a10d12484b4aa7b06aae8249cb26f2",
       "version_major": 2,
       "version_minor": 0
      },
      "text/plain": [
       "Textarea(value='', description='Answer 1', layout=Layout(height='100px', width='1000px'), placeholder='Add her…"
      ]
     },
     "metadata": {},
     "output_type": "display_data"
    }
   ],
   "source": [
    "import ipywidgets as widgets\n",
    "\n",
    "a_1 = widgets.Textarea(placeholder=\"Add here answer to question 1\", description=\"Answer 1\", disabled=False, layout=widgets.Layout(width='1000px', height=\"100px\"))\n",
    "\n",
    "display(a_1)"
   ]
  },
  {
   "cell_type": "markdown",
   "metadata": {},
   "source": [
    "##### Question 2\n",
    "\n",
    "Which environmental footprints increase or decrease in Europe between 1995 and 2011?"
   ]
  },
  {
   "cell_type": "code",
   "execution_count": 5,
   "metadata": {},
   "outputs": [
    {
     "data": {
      "application/vnd.jupyter.widget-view+json": {
       "model_id": "a072a4199e914e528b841f9d25eb6ee1",
       "version_major": 2,
       "version_minor": 0
      },
      "text/plain": [
       "Textarea(value='', description='Answer 1', layout=Layout(height='100px', width='1000px'), placeholder='Add her…"
      ]
     },
     "metadata": {},
     "output_type": "display_data"
    }
   ],
   "source": [
    "a_2 = widgets.Textarea(placeholder=\"Add here answer to question 2\", description=\"Answer 1\", disabled=False, layout=widgets.Layout(width='1000px', height=\"100px\"))\n",
    "\n",
    "display(a_2)"
   ]
  },
  {
   "cell_type": "markdown",
   "metadata": {},
   "source": [
    "##### Question 3\n",
    "Describe step-by-step how would you develop figure, bringing the possible equations required. Note: To facilitate the process, you can focus on one environmental pressure in one region, for one specific year (e.g., GHG emissions footprint in Europe for 2011). "
   ]
  },
  {
   "cell_type": "code",
   "execution_count": 6,
   "metadata": {},
   "outputs": [
    {
     "data": {
      "application/vnd.jupyter.widget-view+json": {
       "model_id": "853b3bc73ed044d29dd0270b7f3769f9",
       "version_major": 2,
       "version_minor": 0
      },
      "text/plain": [
       "Textarea(value='', description='Answer 3', layout=Layout(height='100px', width='1000px'), placeholder='Add her…"
      ]
     },
     "metadata": {},
     "output_type": "display_data"
    }
   ],
   "source": [
    "a_3 = widgets.Textarea(placeholder=\"Add here answer to question 3\", description=\"Answer 3\", disabled=False, layout=widgets.Layout(width='1000px', height=\"100px\"))\n",
    "\n",
    "display(a_3)"
   ]
  },
  {
   "cell_type": "markdown",
   "metadata": {},
   "source": [
    "### Part 2: Python exercise\n",
    "Hertwich and Peters (2009) developed an analysis of the carbon footprint of multiple countries in 2001. Their results show the carbon footprint of different final demand categories per product.\n",
    "\n",
    "In this exercise you will reproduce these results using EXIOBASE and compare any changes between 2001 and 2011\n",
    "\n",
    "|![Figure 2](figures/global_CO2_footprint.png)|\n",
    "|:--:|\n",
    "|Figure 2. Global CO2 footprint for different consumption categories and users retrieved from Hertwich and Peters (2009)|"
   ]
  },
  {
   "cell_type": "markdown",
   "metadata": {},
   "source": [
    "##### Steps in this exercise:\n",
    "- Import data\n",
    "- Calculate Leontief inverse and environmental intesity matrix\n",
    "- Final demand contribution to environmental footprint"
   ]
  },
  {
   "cell_type": "markdown",
   "metadata": {},
   "source": [
    "### Instructions\n",
    "- Save and unzip the data files to the current working directory\n",
    "- First read (tab delimited) data as DataFrame, which is a data strcuture in the Pandas library, \n",
    "- Convert the DataFrame to numpy array. To learn more about DataFrame and read_csv [click here](https://pandas.pydata.org/pandas-docs/stable/reference/api/pandas.DataFrame.html.)"
   ]
  },
  {
   "cell_type": "markdown",
   "metadata": {},
   "source": [
    "### Import modules and data"
   ]
  },
  {
   "cell_type": "code",
   "execution_count": null,
   "metadata": {
    "tags": []
   },
   "outputs": [],
   "source": [
    "# Import modules\n",
    "import pandas as pd \n",
    "import numpy as np"
   ]
  },
  {
   "cell_type": "code",
   "execution_count": null,
   "metadata": {},
   "outputs": [],
   "source": [
    "# Import EXIOBASE\n",
    "path = 'IOT_2011_pxp'    # add name of folder where data is stored                                \n",
    "A = pd.read_csv(path + '/A.txt', sep='\\t',\n",
    "                index_col=[0, 1], header=[0, 1])  # A matrix\n",
    "Y = pd.read_csv(path + '/Y.txt', sep='\\t',\n",
    "                index_col=[0, 1], header=[0, 1])  # y matrix\n",
    "F = pd.read_csv(path + '/satellite/F.txt', sep='\\t',\n",
    "                index_col=[0], header=[0, 1])  # satellite matrix\n",
    "F_hh = pd.read_csv(path + '/satellite/F_hh.txt', sep='\\t',\n",
    "                index_col=[0], header=[0, 1])  # satellite for FD matrix"
   ]
  },
  {
   "cell_type": "markdown",
   "metadata": {},
   "source": [
    "### Calculate the Leontief inverse"
   ]
  },
  {
   "cell_type": "code",
   "execution_count": 27,
   "metadata": {},
   "outputs": [
    {
     "ename": "NameError",
     "evalue": "name 'A' is not defined",
     "output_type": "error",
     "traceback": [
      "\u001b[1;31m---------------------------------------------------------------------------\u001b[0m",
      "\u001b[1;31mNameError\u001b[0m                                 Traceback (most recent call last)",
      "Cell \u001b[1;32mIn [27], line 2\u001b[0m\n\u001b[0;32m      1\u001b[0m \u001b[38;5;66;03m## Leontief inverse matrix\u001b[39;00m\n\u001b[1;32m----> 2\u001b[0m I \u001b[38;5;241m=\u001b[39m np\u001b[38;5;241m.\u001b[39midentity(\u001b[38;5;28mlen\u001b[39m(\u001b[43mA\u001b[49m))           \u001b[38;5;66;03m# An identy matrix of the size as A-matrix\u001b[39;00m\n\u001b[0;32m      3\u001b[0m L \u001b[38;5;241m=\u001b[39m np\u001b[38;5;241m.\u001b[39mlinalg\u001b[38;5;241m.\u001b[39minv(I \u001b[38;5;241m-\u001b[39m A)\n",
      "\u001b[1;31mNameError\u001b[0m: name 'A' is not defined"
     ]
    }
   ],
   "source": [
    "## Leontief inverse matrix\n",
    "I = np.identity(len(A))           # An identy matrix of the size as A-matrix\n",
    "L = np.linalg.inv(I - A)"
   ]
  },
  {
   "cell_type": "code",
   "execution_count": null,
   "metadata": {},
   "outputs": [],
   "source": [
    "## Calculate total output vector (x)\n",
    "\n",
    "y_total = Y.sum(1)      # Sum of all final demand categories\n",
    "x = L @ y_total         # Total outputs"
   ]
  },
  {
   "cell_type": "markdown",
   "metadata": {},
   "source": [
    "### Calculate environmental intensity matrix\n",
    "From satellite matrix (F), select row for CO2 (i.e., F_co2). This can be done using pd.loc"
   ]
  },
  {
   "cell_type": "code",
   "execution_count": null,
   "metadata": {},
   "outputs": [],
   "source": [
    "## Environmental intensities\n",
    "\n",
    "co2_lab = 'CO2 - combustion - air' # Label\n",
    "F_co2 = F.loc[co2_lab, :]  # select CO2 vector\n",
    "f_co2 = F_co2/x.transpose() # co2 intensity vector\n",
    "f_co2 = f_co2.replace([np.inf, -np.inf], np.nan).replace(np.nan, 0)  # replacing inf, -inf, and nan with zeros"
   ]
  },
  {
   "cell_type": "markdown",
   "metadata": {},
   "source": [
    "### Contribution of Final Demand to the CO2 footprint\n",
    "From the final demand matrix (Y), calculate the global final demand of households (y_hh), government expenditures (y_gov) and gross capital formation (y_cap)."
   ]
  },
  {
   "cell_type": "code",
   "execution_count": null,
   "metadata": {},
   "outputs": [],
   "source": [
    "## Calculation y_hh, y_gov, and y_cap\n",
    "hh_lab = 'Final consumption expenditure by households' \n",
    "gov_lab = 'Final consumption expenditure by government'\t\n",
    "cap_lab = 'Gross fixed capital formation'\n",
    "\n",
    "y_hh = Y.xs(hh_lab, axis=1, level=1, drop_level=False)  # selecting hh columns for all countries/regions\n",
    "y_hh = y_hh.sum(1)  # global final expenditure by household \n",
    "\n",
    "y_gov = Y.xs(gov_lab, axis=1, level=1, drop_level=False)  # selecting gov columns for all countries/regions\n",
    "y_gov = y_gov.sum(1)  # global final expenditure by household \n",
    "\n",
    "y_cap = Y.xs(cap_lab, axis=1, level=1, drop_level=False)  # selecting cap columns for all countries/regions\n",
    "y_cap = y_cap.sum(1)  # global capital formation "
   ]
  },
  {
   "cell_type": "markdown",
   "metadata": {},
   "source": [
    "### Calculation CO2 footprint per final demand category per product"
   ]
  },
  {
   "cell_type": "code",
   "execution_count": null,
   "metadata": {},
   "outputs": [],
   "source": [
    "co2_hh = f_co2 @ L @ np.diag(y_hh) # CO2 footprint by household expenditures\n",
    "co2_gov = f_co2 @ L @ np.diag(y_gov) # CO2 footprint by goverment expenditures \n",
    "co2_cap = f_co2 @ L @ np.diag(y_cap) # CO2 footprint by capital formation "
   ]
  },
  {
   "cell_type": "markdown",
   "metadata": {},
   "source": [
    "At this point, it should be 3 vectors (for each final demand category from point 2) of 1 row with 9800 columns (i.e., 49 regions x 200 products)\n",
    "\n",
    "Now reshape each vector using np.reshape so that you have 3 matrices with 49 rows (for each country/region) and 200 columns (for each product)"
   ]
  },
  {
   "cell_type": "code",
   "execution_count": null,
   "metadata": {},
   "outputs": [],
   "source": [
    "## Reshape vectors\n",
    "\n",
    "co2_hh = np.array(co2_hh).reshape(49,200) # reshape to 49 countries/regions and 200 products\n",
    "co2_hh_sum = np.sum(co2_hh, axis=0) # sum per product category\n",
    "\n",
    "co2_gov = np.array(co2_gov).reshape(49,200) # reshape to 49 countries/regions and 200 products\n",
    "co2_gov_sum = np.sum(co2_gov, axis=0) # sum per product category\n",
    "\n",
    "co2_cap = np.array(co2_cap).reshape(49,200) # reshape to 49 countries/regions and 200 products\n",
    "co2_cap_sum = np.sum(co2_cap, axis=0) # sum per product category\n",
    "\n",
    "## Build new pandas dataframe\n",
    "\n",
    "df = pd.DataFrame([co2_hh_sum, co2_gov_sum, co2_cap_sum])"
   ]
  },
  {
   "cell_type": "markdown",
   "metadata": {},
   "source": [
    "### Separate results by sectors\n",
    "\n",
    "- Extraction\n",
    "- Manufacturing\n",
    "- Construction\n",
    "- Services"
   ]
  },
  {
   "cell_type": "code",
   "execution_count": null,
   "metadata": {},
   "outputs": [],
   "source": [
    "### Index product categories\n",
    "\n",
    "ext_ind = list(range(0,41)) # extraction categories (including agriculture, and mining)\n",
    "man_ind = list(range(41,149)) # manufacturing (including food, clothing, other products)\n",
    "con_ind = list(range(149,151)) # construction categories\n",
    "ser_ind = list(range(151,200))  # services categories\n",
    "\n",
    "## Sum per product group\n",
    "\n",
    "ext = df.iloc[:, ext_ind].sum(1)\n",
    "man = df.iloc[:, man_ind].sum(1)\n",
    "con = df.iloc[:, con_ind].sum(1)\n",
    "ser = df.iloc[:, ser_ind].sum(1)"
   ]
  },
  {
   "cell_type": "code",
   "execution_count": null,
   "metadata": {},
   "outputs": [],
   "source": [
    "## Re-group dataframe and add labels\n",
    "\n",
    "df_new = pd.concat([ext, man, con, ser], axis=1)\n",
    "df_new.index = ['Households', 'Goverment', 'Investment']\n",
    "df_new.columns = ['Agriculture and Mining', 'Manufacturing', 'Construction', 'Services']"
   ]
  },
  {
   "cell_type": "markdown",
   "metadata": {},
   "source": [
    "### Visualize the results\n",
    "Create a bar graph showing the final contribution per product category to the CO2 footprint\n",
    "\n",
    "Note: This can be done by using:\n",
    "df_new.plot.barh(stacked=True)"
   ]
  },
  {
   "cell_type": "code",
   "execution_count": null,
   "metadata": {},
   "outputs": [],
   "source": [
    "## Create a vertical bar chart\n",
    "\n",
    "ef_name = 'CO2 footprint (tonnes)'\n",
    "fig = df_new.plot.barh(stacked=True)\n",
    "fig.set_xlabel(\"CO2 footprint (kg)\")\n",
    "fig.set_ylabel(ef_name)\n",
    "fig.set_title(ef_name + \" per final demand category\")\n",
    "fig.legend(loc='center left', bbox_to_anchor=(1, 0.5))"
   ]
  },
  {
   "cell_type": "markdown",
   "metadata": {},
   "source": [
    "##### Question 4\n",
    "\n",
    "Which sector has a major contribution to the CO2 footprint of each final demand category?"
   ]
  },
  {
   "cell_type": "code",
   "execution_count": 29,
   "metadata": {},
   "outputs": [
    {
     "data": {
      "application/vnd.jupyter.widget-view+json": {
       "model_id": "3016acc6230b417297512275c486a928",
       "version_major": 2,
       "version_minor": 0
      },
      "text/plain": [
       "Textarea(value='', description='Answer 4', layout=Layout(height='100px', width='1000px'), placeholder='Add her…"
      ]
     },
     "metadata": {},
     "output_type": "display_data"
    }
   ],
   "source": [
    "a_4 = widgets.Textarea(placeholder=\"Add here answer to question 4\", description=\"Answer 4\", disabled=False, layout=widget.Layout(width='1000px', height=\"100px\"))\n",
    "\n",
    "display(a_4)"
   ]
  },
  {
   "cell_type": "markdown",
   "metadata": {},
   "source": [
    "##### Question 5\n",
    "\n",
    "What are the differences between the 2001 and 2011?"
   ]
  },
  {
   "cell_type": "code",
   "execution_count": 31,
   "metadata": {},
   "outputs": [
    {
     "data": {
      "application/vnd.jupyter.widget-view+json": {
       "model_id": "87da9685a09c4616b89f73c3bddad8ed",
       "version_major": 2,
       "version_minor": 0
      },
      "text/plain": [
       "Textarea(value='', description='Answer 5', layout=Layout(height='100px', width='1000px'), placeholder='Add her…"
      ]
     },
     "metadata": {},
     "output_type": "display_data"
    }
   ],
   "source": [
    "a_5 = widgets.Textarea(placeholder=\"Add here answer to question 5\", description=\"Answer 5\", disabled=False, layout=widget.Layout(width='1000px', height=\"100px\"))\n",
    "\n",
    "display(a_5)"
   ]
  },
  {
   "cell_type": "markdown",
   "metadata": {},
   "source": [
    "## References\n",
    "Hertwich, E. G., & Peters, G. P. (2009). Carbon footprint of nations: A global, trade-linked analysis. Environmental Science and Technology, 43(16), 6414–6420. https://doi.org/10.1021/es803496a\n",
    "\n",
    "Wood, R., Stadler, K., Simas, M., Bulavskaya, T., Giljum, S., Lutter, S., & Tukker, A. (2018). Growth in Environmental Footprints and Environmental Impacts Embodied in Trade: Resource Efficiency Indicators from EXIOBASE3. Journal of Industrial Ecology, 22(3), 553–562. https://doi.org/10.1111/jiec.12735"
   ]
  }
 ],
 "metadata": {
  "kernelspec": {
   "display_name": "Python 3 (ipykernel)",
   "language": "python",
   "name": "python3"
  },
  "language_info": {
   "codemirror_mode": {
    "name": "ipython",
    "version": 3
   },
   "file_extension": ".py",
   "mimetype": "text/x-python",
   "name": "python",
   "nbconvert_exporter": "python",
   "pygments_lexer": "ipython3",
   "version": "3.9.7"
  },
  "vscode": {
   "interpreter": {
    "hash": "a0de1fb450ee5e26d734f0aa5b4c4b29e20575809e5e66472467df7627fd957d"
   }
  }
 },
 "nbformat": 4,
 "nbformat_minor": 4
}
