{
 "cells": [
  {
   "attachments": {},
   "cell_type": "markdown",
   "metadata": {},
   "source": [
    "# Practical 2: Supply and use tables\n",
    "\n",
    "## Learning objectives\n",
    "- Calculate product outputs in different valuations\n",
    "- Understand the structure of supply and use tables in practice\n",
    "- Distinguish valuations and types of productions"
   ]
  },
  {
   "cell_type": "code",
   "execution_count": 2,
   "metadata": {},
   "outputs": [],
   "source": [
    "# import modules\n",
    "import pandas as pd\n",
    "\n",
    "# Import data\n",
    "supply_ = pd.read_excel(\"data/modified_supply_basic_price_AT_OECD_2015.xlsx\", engine=\"openpyxl\", skipfooter=3)"
   ]
  },
  {
   "cell_type": "code",
   "execution_count": 3,
   "metadata": {},
   "outputs": [],
   "source": [
    "# organize you row and column labels\n",
    "supply_col_lb = supply_.iloc[9,7:].to_list()\n",
    "supply_row_lb = supply_.iloc[11:, 2].to_list()\n",
    "\n",
    "# isolate array with only values\n",
    "supply = supply_.iloc[11:,7:]\n",
    "\n",
    "# assign clean labels to columns and row\n",
    "supply.columns = supply_col_lb\n",
    "supply.index = supply_row_lb"
   ]
  },
  {
   "attachments": {},
   "cell_type": "markdown",
   "metadata": {},
   "source": [
    "## Exercise 1\n",
    "\n",
    "1. Look at the product list and select two products"
   ]
  },
  {
   "cell_type": "code",
   "execution_count": 3,
   "metadata": {},
   "outputs": [],
   "source": [
    "# Print product list (i.e., the index of your table)"
   ]
  },
  {
   "cell_type": "code",
   "execution_count": null,
   "metadata": {},
   "outputs": [],
   "source": [
    "# Select two products\n",
    "products = []"
   ]
  },
  {
   "attachments": {},
   "cell_type": "markdown",
   "metadata": {},
   "source": [
    "2. Can you quantify their total supply, import, and which industries supply them?"
   ]
  },
  {
   "cell_type": "code",
   "execution_count": null,
   "metadata": {},
   "outputs": [],
   "source": [
    "# Slice your data\n",
    "# replace none with your function\n",
    "p_1_supply = None\n",
    "p_2_supply = None\n",
    "\n",
    "# Isolate non zero values \n",
    "p_1_supply = None\n",
    "p_2_supply = None\n",
    "\n",
    "# Print results\n",
    "print(f\"{products[0]}:\\n\\n{p_1_supply}\\n\\n{products[1]}:\\n\\n{p_2_supply}\")\n"
   ]
  },
  {
   "attachments": {},
   "cell_type": "markdown",
   "metadata": {},
   "source": [
    "3. What is the total product output at basic price and at purchaser price?\n",
    "\n",
    "    N.b. in the Supply and Use table Non-Deductible VAT is included in the Taxes less subsidies on products (see also page 86 Eurostat Manual of Supply, Use and Input-Output Tables)\n",
    "\n",
    "Tip: in the file \"modified_supply_basic_price_AT_OECD_2015.xlsx\" you can check whether the calculations are right in the columns \"Total supply at purchasers' prices\" and \"Total supply at basic prices\"\n",
    "\n",
    "Tip: you can use p_1_supply.loc[] to select the right rows"
   ]
  },
  {
   "cell_type": "code",
   "execution_count": null,
   "metadata": {},
   "outputs": [],
   "source": [
    "# Total supply at basic and purchaser prices for product 1\n",
    "p_1_basic_price = None\n",
    "\n",
    "p_1_taxes_less_subsidies = None\n",
    "p_1_trade_n_transport_margins = None\n",
    "\n",
    "p_1_purchaser_price = None\n",
    "\n",
    "# Total supply at basic and purchaser prices for product 2\n",
    "p_2_basic_price = None\n",
    "\n",
    "p_2_taxes_less_subsidies = None\n",
    "p_2_trade_n_transport_margins = None\n",
    "\n",
    "p_2_purchaser_price = None\n",
    "\n",
    "# basic and purchase prices for product 1\n",
    "print(f\"{products[0]}: \\n\\tBasic price: {p_1_basic_price}\\n\\tPurchaser price: {p_1_purchaser_price}\")\n",
    "\n",
    "# basic and purchase prices for product 2\n",
    "print(f\"{products[1]}: \\n\\tBasic price: {p_2_basic_price}\\n\\tPurchaser price: {p_2_purchaser_price}\")\n"
   ]
  },
  {
   "attachments": {},
   "cell_type": "markdown",
   "metadata": {},
   "source": [
    "## Exercise 2\n",
    "1. Look at the list of industries (i.e., columns of the supply table) and select two industries"
   ]
  },
  {
   "cell_type": "code",
   "execution_count": 4,
   "metadata": {},
   "outputs": [],
   "source": [
    "# Print list of industries (i.e., columns of your table)"
   ]
  },
  {
   "cell_type": "code",
   "execution_count": null,
   "metadata": {},
   "outputs": [],
   "source": [
    "# Select two industries\n",
    "industries = []"
   ]
  },
  {
   "attachments": {},
   "cell_type": "markdown",
   "metadata": {},
   "source": [
    "2. Can you identify the main products and secondary products? "
   ]
  },
  {
   "cell_type": "code",
   "execution_count": null,
   "metadata": {},
   "outputs": [],
   "source": [
    "# Slice your data\n",
    "i_1_supply = None\n",
    "i_2_supply = None\n",
    "\n",
    "# Isolate non zero values and sort them from biggest to smallest\n",
    "i_1_supply = None\n",
    "i_2_supply = None\n",
    "\n",
    "# Print results\n",
    "print(f\"{industries[0]}:\\n\\n{i_1_supply}\\n\\n{industries[1]}:\\n\\n{i_2_supply}\")"
   ]
  }
 ],
 "metadata": {
  "kernelspec": {
   "display_name": "Python 3 (ipykernel)",
   "language": "python",
   "name": "python3"
  },
  "language_info": {
   "codemirror_mode": {
    "name": "ipython",
    "version": 3
   },
   "file_extension": ".py",
   "mimetype": "text/x-python",
   "name": "python",
   "nbconvert_exporter": "python",
   "pygments_lexer": "ipython3",
   "version": "3.10.2"
  },
  "vscode": {
   "interpreter": {
    "hash": "a0de1fb450ee5e26d734f0aa5b4c4b29e20575809e5e66472467df7627fd957d"
   }
  }
 },
 "nbformat": 4,
 "nbformat_minor": 4
}
