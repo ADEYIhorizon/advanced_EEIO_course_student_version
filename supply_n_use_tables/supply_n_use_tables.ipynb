{
 "cells": [
  {
   "attachments": {},
   "cell_type": "markdown",
   "metadata": {},
   "source": [
    "# Practical 2: Supply and use tables\n",
    "\n",
    "## Learning goals\n",
    "- Understand the structure of supply and use tables\n",
    "- Practice how to transform SUTs into IOT\n",
    "\n",
    "### Instructions\n",
    "Download the supply and use tables of the Netherlands and place them in a data folder in your working directory\n",
    "\n",
    "https://www.cbs.nl/en-gb/custom/2022/27/national-accounts-2021-tables\n"
   ]
  },
  {
   "cell_type": "code",
   "execution_count": 120,
   "metadata": {},
   "outputs": [
    {
     "name": "stdout",
     "output_type": "stream",
     "text": [
      "\n",
      "Use tables: \n",
      "Use 2015 current prices\n",
      "Use 2016 current prices\n",
      "Use 2016 previous year prices\n",
      "Use 2017 current prices\n",
      "Use 2017 previous year prices\n",
      "Use 2018 current prices\n",
      "Use 2018 previous year prices\n",
      "Use 2019 current prices\n",
      "Use 2019 previous year prices\n",
      "Use 2020 current prices\n",
      "Use 2020 previous year prices\n",
      "Use 2021 current prices\n",
      "Use 2021 previous year prices\n",
      "Explanation\n",
      "\n",
      "Supply tables: \n",
      "Supply 2015 current prices\n",
      "Supply 2016 current prices\n",
      "Supply 2016 PY prices\n",
      "Supply 2017 current prices\n",
      "Supply 2017 PY prices\n",
      "Supply 2018 current prices\n",
      "Supply 2018 PY prices\n",
      "Supply 2019 current prices\n",
      "Supply 2019 PY prices\n",
      "Supply 2020 current prices\n",
      "Supply 2020 PY prices\n",
      "Supply 2021 current prices\n",
      "Supply 2021 PY prices\n",
      "Explanation\n"
     ]
    }
   ],
   "source": [
    "# import modules\n",
    "import pandas as pd\n",
    "import numpy as np\n",
    "import matplotlib.pyplot as plt\n",
    "from matplotlib import style\n",
    "np.set_printoptions(suppress=True)\n",
    "plt.style.use('bmh')\n",
    "\n",
    "# Import data\n",
    "CBS_use = pd.ExcelFile(f\"data/82 Use tables 20152021.xlsx\", engine=\"openpyxl\")\n",
    "CBS_supply = pd.ExcelFile(f\"data/81 Supply tables 20152021.xlsx\", engine=\"openpyxl\")\n",
    "\n",
    "# Print the list of sheets that are available in the xlsx file so that you can investigate what options you have\n",
    "print(f\"\\nUse tables: \", *CBS_use.sheet_names, sep='\\n')\n",
    "print(f\"\\nSupply tables: \", *CBS_supply.sheet_names, sep='\\n')\n"
   ]
  },
  {
   "cell_type": "code",
   "execution_count": 121,
   "metadata": {},
   "outputs": [
    {
     "name": "stdout",
     "output_type": "stream",
     "text": [
      "index:\n",
      "\n",
      "Crops and planting material\n",
      "Live animals and animal products\n",
      "Agricultural and animal husbandry services\n",
      "Products of forestry, logging and related services\n",
      "Fish, other fishing products and support services\n",
      "Coal and lignite\n",
      "Crude petroleum and natural gas\n",
      "Metal ores\n",
      "Other mining and quarrying products\n",
      "Mining support services\n",
      "Fish and meat\n",
      "Processed and preserved fruit and vegetables\n",
      "Vegetable and animal oils and fats\n",
      "Dairy products\n",
      "Grain, starches, bakery products\n",
      "Other food products\n",
      "Prepared animal feeds\n",
      "Beverages\n",
      "Tobacco products\n",
      "Textiles\n",
      "Wearing apparel\n",
      "Leather and related products\n",
      "Wood and products of wood and cork\n",
      "Paper and paper products\n",
      "Printing and recording services\n",
      "Coke and refined petroleum products\n",
      "Chemicals and chemical products\n",
      "Basic pharmaceutical products and preparations\n",
      "Rubber and plastics products\n",
      "Other non-metallic mineral products\n",
      "Basic metals\n",
      "Fabricated metal products\n",
      "Computer, electronic and optical products\n",
      "Electrical equipment\n",
      "Machinery and equipment n.e.c.\n",
      "Motor vehicles, trailers and semi-trailers\n",
      "Other transport equipment\n",
      "Furniture\n",
      "Other manufactured goods\n",
      "Repair and installation of machinery and equipment\n",
      "Electricity, gas, steam and air conditioning\n",
      "Natural water; water treatment and supply services\n",
      "Sewerage, waste management, materials recovery\n",
      "Buildings and building construction works\n",
      "Constructions and works for civil engineering\n",
      "Specialised construction works\n",
      "Repair services of motor vehicles and motorcycles\n",
      "Wholesale trade services, except of motor vehicles and motorcycles\n",
      "Retail trade services, except of motor vehicles and motorcycles\n",
      "Land transport services and transport via pipelines\n",
      "Water transport services\n",
      "Air transport services\n",
      "Warehousing and support services for transportation\n",
      "Postal and courier services\n",
      "Accommodation services\n",
      "Food and beverage serving services\n",
      "Publishing services\n",
      "Audiovisual production services\n",
      "Programming and broadcasting services\n",
      "Telecommunications services\n",
      "Computer programming and consultancy services\n",
      "Information services\n",
      "Financial bank services\n",
      "Insurance, reinsurance and pension funding services\n",
      "Services auxiliary to financial and insurance services\n",
      "Imputed rents owner-occupided dwellings\n",
      "Real estate services excluding imputed rents\n",
      "Legal and accounting services\n",
      "Services of head offices; management consulting\n",
      "Architectural and engineering; testing and analysis\n",
      "Scientific research and development services\n",
      "Advertising and market research services\n",
      "Other professional, scientific and technical services\n",
      "Veterinary services\n",
      "Rental and leasing services\n",
      "Employment services\n",
      "Travel agency, tour operator and related services\n",
      "Security and investigation services\n",
      "Services to buildings and landscape\n",
      "Office and other business support services\n",
      "Public administration and defence services\n",
      "Education services\n",
      "Human health services\n",
      "Residential care and social work services\n",
      "Creative, arts and entertainment services\n",
      "Library, archive, museum and other cultural services\n",
      "Gambling and betting services\n",
      "Sporting, amusement and recreation services\n",
      "Services furnished by membership organisations\n",
      "Repair of computers, personal and household goods\n",
      "Other personal services\n",
      "Services of households as employers\n",
      "Margins on merchanting\n",
      "Other services n.e.c.\n",
      "Other goods n.e.c.\n",
      "Trade and transport margins\n",
      "Cif/fob-adjustment and reclassification\n",
      "Cif/fob reclassification\n",
      "Supply at basic prices\n"
     ]
    }
   ],
   "source": [
    "# Select the data at current price for the year 2021\n",
    "\n",
    "# Parse the Use data for 2021 in current prices\n",
    "use_2021_cp = CBS_use.parse(\"Use 2021 current prices\", index_col=1, header=1, skipfooter=3).fillna(0)\n",
    "use_2021_cp = use_2021_cp.iloc[1:, 1:]\n",
    "# eliminate leading and trailing white spaces in labels\n",
    "use_2021_cp.columns = use_2021_cp.columns.str.strip()\n",
    "use_2021_cp.index = use_2021_cp.index.str.strip()\n",
    "\n",
    "# Parse the supply data for 2021 in current prices\n",
    "supply_2021_cp = CBS_supply.parse(\"Supply 2021 current prices\", index_col=1, header=1, skipfooter=2).fillna(0)\n",
    "supply_2021_cp = supply_2021_cp.iloc[1:, 1:]\n",
    "# eliminate leading and trailing white spaces in labels\n",
    "supply_2021_cp.columns = supply_2021_cp.columns.str.strip()\n",
    "supply_2021_cp.index = supply_2021_cp.index.str.strip()\n",
    "\n",
    "# # Print the columns and index to understand how the data is structured\n",
    "print(\"index:\\n\",*supply_2021_cp.index, sep=\"\\n\")\n",
    "# print(\"\\n\\ncolumns:\\n\",*supply_2021_cp.columns, sep=\"\\n\")"
   ]
  },
  {
   "cell_type": "markdown",
   "metadata": {},
   "source": [
    "## Exercise 1\n",
    "\n",
    "1. Select two products\n",
    "2. Can you quantify their total supply, import, and which industries supply them?\n",
    "3. Can you perform the same for gross fixed capital formation, value added and employment?"
   ]
  },
  {
   "cell_type": "code",
   "execution_count": 122,
   "metadata": {},
   "outputs": [],
   "source": [
    "# Select two products\n",
    "products = [\"Dairy products\", \"Chemicals and chemical products\"]"
   ]
  },
  {
   "cell_type": "code",
   "execution_count": 123,
   "metadata": {},
   "outputs": [
    {
     "name": "stdout",
     "output_type": "stream",
     "text": [
      "Dairy products:\n",
      "Crop, animal production, hunting and related activities        105.0\n",
      "Manufacture of food products                                 11187.0\n",
      "Wholesale trade, except of motor vehicles and motorcycles      276.0\n",
      "Domestic supply (columns 1-81)                               11568.0\n",
      "Imports of goods                                              4721.0\n",
      "Supply at basic prices (columns 82–85)                       16289.0\n",
      "Trade and transport margins                                   3436.0\n",
      "Taxes on products                                              633.0\n",
      "Subsidies on products (–)                                        1.0\n",
      "Total                                                        20357.0\n",
      "Name: Dairy products, dtype: float64\n",
      "\n",
      "Chemicals and chemical products:\n",
      "Other mining and quarrying, except petroleum and gas             138.0\n",
      "Manufacture of food products                                     246.0\n",
      "Manufacture of beverages                                          15.0\n",
      "Manufacture of textiles, wearing apparel and leather               1.0\n",
      "Manufacture of wood and products, except furniture                15.0\n",
      "Manufacture of coke and refined petroleum products               692.0\n",
      "Manufacture of chemicals and chemical products                 51359.0\n",
      "Manufacture of pharmaceutical products and preparations          220.0\n",
      "Manufacture of rubber and plastic products                       407.0\n",
      "Manufacture of building materials                                 33.0\n",
      "Manufacture of basic metals                                       26.0\n",
      "Manufacture of metal products, except machinery, equipment        47.0\n",
      "Manufacture of electrical equipment                               18.0\n",
      "Manufacture of machinery and equipment n.e.c.                    120.0\n",
      "Other manufacturing                                                8.0\n",
      "Sewerage, waste management, materials recovery activities        683.0\n",
      "Wholesale trade, except of motor vehicles and motorcycles       1071.0\n",
      "Domestic supply (columns 1-81)                                 55099.0\n",
      "Imports of goods                                               55963.0\n",
      "Imports of services                                             1729.0\n",
      "Supply at basic prices (columns 82–85)                        112791.0\n",
      "Trade and transport margins                                    11442.0\n",
      "Taxes on products                                               1984.0\n",
      "Total                                                         126217.0\n",
      "Name: Chemicals and chemical products, dtype: float64\n"
     ]
    }
   ],
   "source": [
    "# Slice your data\n",
    "p_1_supply = supply_2021_cp.loc[products[0]]\n",
    "p_2_supply = supply_2021_cp.loc[products[1]]\n",
    "\n",
    "# Isolate non zero values \n",
    "p_1_supply = p_1_supply[p_1_supply!=0]\n",
    "p_2_supply = p_2_supply[p_2_supply!=0]\n",
    "\n",
    "# Print results\n",
    "print(f\"{products[0]}:\\n{p_1_supply}\\n\\n{products[1]}:\\n{p_2_supply}\")"
   ]
  },
  {
   "cell_type": "code",
   "execution_count": 124,
   "metadata": {},
   "outputs": [
    {
     "name": "stdout",
     "output_type": "stream",
     "text": [
      "Dairy products:\n",
      "Crop, animal production, hunting and related activities              4.0\n",
      "Manufacture of food products                                      4912.0\n",
      "Manufacture of chemicals and chemical products                       4.0\n",
      "Manufacture of pharmaceutical products and preparations            395.0\n",
      "Wholesale trade, except of motor vehicles and motorcycles           88.0\n",
      "Accommodation                                                       90.0\n",
      "Food and beverage service activities                               505.0\n",
      "Imputed rents owner-occupided dwellings                              5.0\n",
      "Public administration and defence; compulsory social security       15.0\n",
      "Education                                                            8.0\n",
      "Human health activities                                             89.0\n",
      "Residential care and social work activities                        325.0\n",
      "Sports, amusement and recreation activities                         10.0\n",
      "Other personal service activities                                   12.0\n",
      "Goods and services n.e.c.                                           20.0\n",
      "Domestic use (columns 1-81)                                       6482.0\n",
      "Exports of goods from production                                  6737.0\n",
      "Re-exports                                                        1644.0\n",
      "Final consumption expenditure of households                       5597.0\n",
      "Changes in inventories 1)                                         -103.0\n",
      "Total                                                            20357.0\n",
      "Name: Dairy products, dtype: float64\n",
      "\n",
      "Chemicals and chemical products:\n",
      "Crop, animal production, hunting and related activities      1001.0\n",
      "Forestry and logging                                            1.0\n",
      "Fishing and aquaculture                                         4.0\n",
      "Extraction of crude petroleum and natural gas                   7.0\n",
      "Other mining and quarrying, except petroleum and gas           35.0\n",
      "                                                             ...   \n",
      "Re-exports                                                  34968.0\n",
      "Exports of services                                          3613.0\n",
      "Final consumption expenditure of households                  6567.0\n",
      "Changes in inventories 1)                                   -1676.0\n",
      "Total                                                      126217.0\n",
      "Name: Chemicals and chemical products, Length: 69, dtype: float64\n"
     ]
    }
   ],
   "source": [
    "# Slice your data\n",
    "p_1_use = use_2021_cp.loc[products[0]]\n",
    "p_2_use = use_2021_cp.loc[products[1]]\n",
    "\n",
    "# Isolate non zero values \n",
    "p_1_use = p_1_use[p_1_use!=0]\n",
    "p_2_use = p_2_use[p_2_use!=0]\n",
    "\n",
    "# Print results\n",
    "print(f\"{products[0]}:\\n{p_1_use}\\n\\n{products[1]}:\\n{p_2_use}\")"
   ]
  },
  {
   "attachments": {},
   "cell_type": "markdown",
   "metadata": {},
   "source": [
    "## Exercise 2\n",
    "Following the instruction presented during the lecture implement the following two transformations methods from SUTs to IOT:\n",
    "- Industry Technology Assumption in Product-by-Product format\n",
    "- Industry Technology Assumption in Industry-by-Industry format\n",
    "\n",
    "We will only perform the transformation for those methods that don't result in negative values"
   ]
  },
  {
   "cell_type": "code",
   "execution_count": 125,
   "metadata": {},
   "outputs": [],
   "source": [
    "# First prepare your tables for transforamtion by isolating intermediates from primary inputs and final consumption items\n",
    "\n",
    "# Use table\n",
    "U = use_2021_cp.loc[:\"Other goods n.e.c.\", :\"Goods and services n.e.c.\"] # Use table\n",
    "\n",
    "### !!! Always pay attention whether your \"supply\" is in really in supply or make format !!! \n",
    "V = supply_2021_cp.loc[:\"Other goods n.e.c.\", :\"Goods and services n.e.c.\"].T # Make table, the transpose of the supply table\n",
    "\n",
    "# Final Demand\n",
    "F = use_2021_cp.loc[:\"Other goods n.e.c.\", \"Exports of goods from production\":\"Consumption residents in rest of the world\"].fillna(0) # Final demand\n",
    "\n",
    "# Primary inputs\n",
    "W = use_2021_cp.loc[\"Other taxes on production\":\"Operating surplus (net)\", :\"Goods and services n.e.c.\"]\n",
    "# Ensure negative values where needed\n",
    "# Negative items\n",
    "W.loc[\"Other subsidies on production (–)\"] = W.loc[\"Other subsidies on production (–)\"] * -1\n",
    "\n",
    "# Imports\n",
    "imports_n_tm = supply_2021_cp.loc[:\"Other goods n.e.c.\", [\"Imports of goods\",\"Imports of services\", \"Trade and transport margins\"]] #\"Imports of goods\":\"Subsidies on products (–)\"]\n",
    "# imports_n_tm = imports_n_tm.drop(\"Supply at basic prices (columns 82–85)\", axis=1)\n",
    "\n",
    "# Collect your total product and industry outputs\n",
    "q = supply_2021_cp.loc[:\"Other goods n.e.c.\",\"Total\"]\n",
    "g = supply_2021_cp.loc[\"Supply at basic prices\",:\"Goods and services n.e.c.\"]"
   ]
  },
  {
   "cell_type": "code",
   "execution_count": 126,
   "metadata": {},
   "outputs": [],
   "source": [
    "# For semplicity, make all items numpy arrays\n",
    "\n",
    "U = U.values\n",
    "V = V.values\n",
    "W = W.values\n",
    "F = F.values\n",
    "q = q.values\n",
    "g = g.values\n",
    "imp = imports_n_tm.values"
   ]
  },
  {
   "attachments": {},
   "cell_type": "markdown",
   "metadata": {},
   "source": [
    "### Model B \n",
    "\n",
    "Product-by-product\n",
    "\n",
    "Industry technology assumption"
   ]
  },
  {
   "cell_type": "code",
   "execution_count": 127,
   "metadata": {},
   "outputs": [],
   "source": [
    "# Technical coefficient matrix\n",
    "\n",
    "A_b = U @ np.linalg.inv(np.diag(g)) @ V @ np.linalg.inv(np.diag(q))\n",
    "# A_b.columns = A_b.index\n",
    "\n",
    "# Intermediates\n",
    "Z_b = A_b @ np.diag(q)\n",
    "\n",
    "# Final Demand\n",
    "Y_b = F\n",
    "\n",
    "# Primary inputs\n",
    "W_b = W @ np.linalg.inv(np.diag(g)) @ V\n",
    "\n",
    "# Imports\n",
    "imp_b = imp\n",
    "\n",
    "# Total product output\n",
    "I = np.eye(q.shape[0])\n",
    "x_b = np.linalg.inv(I-A_b) @ Y_b @ np.ones(Y_b.shape[1])"
   ]
  },
  {
   "cell_type": "code",
   "execution_count": 133,
   "metadata": {},
   "outputs": [
    {
     "name": "stdout",
     "output_type": "stream",
     "text": [
      "[  0.2  -3.8  -6.   -0.3   0.8  -9.2  10.2  -2.5  -2.4  -3.1   2.9   4.4\n",
      "  -2.9   1.3   3.6   0.9  -0.4  15.1  33.8   5.1  10.6   8.   -3.8  -2.1\n",
      " -14.7  10.8  -0.1   1.8  -2.   -0.7  -3.4  -2.8   1.   -0.5  -1.3   3.8\n",
      "   4.3   7.9   4.  -10.8 -16.3  17.8  -0.5   8.7   3.1   3.   -3.4 -55.5\n",
      "  16.4 -20.8 -13.8  -1.1 -29.4 -12.    3.9   5.6  -3.6  -7.2  -6.8   2.4\n",
      "  -4.6  -7.4  -6.5   8.5  -3.9 -16.2  15.3 -21.2   1.9 -23.7 -17.   10.1\n",
      " -16.  -15.8   0.3 -24.    0.2  -8.9  -0.6  -0.2  -6.3   1.5   9.3   3.8\n",
      "  -3.8   0.4   5.3  -2.8  -8.7]\n"
     ]
    }
   ],
   "source": [
    "# Check balance\n",
    "x_in = Z_b.sum(axis=0) + W_b.sum(axis=0) + imp_b.sum(axis=1)\n",
    "check_x = np.around(1-x_in / x_b, decimals=3) * 100\n",
    "\n",
    "print(check_x[check_x!=0.0])"
   ]
  },
  {
   "attachments": {},
   "cell_type": "markdown",
   "metadata": {},
   "source": [
    "#### Why don't inputs match outputs?\n",
    "\n",
    "Discuss"
   ]
  },
  {
   "attachments": {},
   "cell_type": "markdown",
   "metadata": {},
   "source": [
    "### Model D \n",
    "\n",
    "Industry-by-Industry\n",
    "\n",
    "Fixed product sales structure"
   ]
  },
  {
   "cell_type": "code",
   "execution_count": 138,
   "metadata": {},
   "outputs": [],
   "source": [
    "# Technical coefficient matrix\n",
    "\n",
    "A_d = V @ np.linalg.inv(np.diag(q)) @ U @ np.linalg.inv(np.diag(g))\n",
    "\n",
    "# Intermediates\n",
    "Z_d = A_d @ np.diag(g)\n",
    "\n",
    "# Final Demand\n",
    "Y_d = V @ np.linalg.inv(np.diag(q)) @ F\n",
    "\n",
    "# Primary inputs\n",
    "W_d = W\n",
    "\n",
    "# Imports\n",
    "imp_d = V @ np.linalg.inv(np.diag(q)) @ imp\n",
    "\n",
    "# Total product output\n",
    "I = np.eye(g.shape[0])\n",
    "x_d = np.linalg.inv(I-A_d) @ Y_d @ np.ones(Y_d.shape[1])"
   ]
  },
  {
   "cell_type": "code",
   "execution_count": 137,
   "metadata": {},
   "outputs": [
    {
     "name": "stdout",
     "output_type": "stream",
     "text": [
      "[ -39.    -9.1  -53.4 -111.1  -72.2    6.4    6.7   -9.4    6.3  -22.6\n",
      "  -78.7  -37.6  -28.8   27.   -15.5  -40.6  -40.5  -65.8  -45.   -38.7\n",
      "  -15.   -66.3  -17.5   -8.6   17.2  -10.   -31.2  -39.4  -46.4   -9.2\n",
      "  -19.8   47.    19.7  -11.8  -32.9 -158.6 -603.5  -46.7  -11.2   23.1\n",
      "  -63.7  -49.    31.    26.4  -30.3   -9.   -42.3  -17.5  -29.3  -20.2\n",
      "  -77.1   45.7  -48.6   50.5  -35.1  -50.9  -62.9  -12.6    5.9  -88.5\n",
      "  -85.    -2.9  -45.8 -115.    41.  -106.4  -49.4  -34.8   29.     8.6\n",
      "   24.3   25.2  -15.5   28.2   21.9   28.2    7.5  -17.4   11.5   -8.8]\n"
     ]
    }
   ],
   "source": [
    "x_in = Z_d.sum(axis=1) + W_d.sum(axis=0) + imp_d.sum(axis=1)\n",
    "check_x_ = np.around(1-x_in / x_d, decimals=3) * 100\n",
    "\n",
    "print(check_x_[check_x_!=0.0])"
   ]
  }
 ],
 "metadata": {
  "kernelspec": {
   "display_name": "Python 3 (ipykernel)",
   "language": "python",
   "name": "python3"
  },
  "language_info": {
   "codemirror_mode": {
    "name": "ipython",
    "version": 3
   },
   "file_extension": ".py",
   "mimetype": "text/x-python",
   "name": "python",
   "nbconvert_exporter": "python",
   "pygments_lexer": "ipython3",
   "version": "3.10.2"
  },
  "vscode": {
   "interpreter": {
    "hash": "a0de1fb450ee5e26d734f0aa5b4c4b29e20575809e5e66472467df7627fd957d"
   }
  }
 },
 "nbformat": 4,
 "nbformat_minor": 4
}
