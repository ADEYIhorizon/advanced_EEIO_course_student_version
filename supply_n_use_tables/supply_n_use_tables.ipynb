{
 "cells": [
  {
   "attachments": {},
   "cell_type": "markdown",
   "metadata": {},
   "source": [
    "# Practical 2: Supply and use tables\n",
    "\n",
    "## Learning goals\n",
    "- Understand the structure of supply and use tables\n",
    "- Practice and interpret the industry aggregation/disaggregation in SUT\n",
    "- Practice how to transform SUTs into IOT\n",
    "\n",
    "### Instructions\n",
    "Download the supply and use tables of the Netherlands and place them in a data folder in your working directory\n",
    "\n",
    "https://www.cbs.nl/en-gb/custom/2020/29/supply-and-use-input-output-and-sector-accounts.\n"
   ]
  },
  {
   "cell_type": "code",
   "execution_count": 1,
   "metadata": {},
   "outputs": [],
   "source": [
    "import pandas as pd"
   ]
  },
  {
   "attachments": {},
   "cell_type": "markdown",
   "metadata": {},
   "source": [
    "### Exercise 1\n",
    "\n",
    "1. Select two products for the year 2019\n",
    "2. Can you please visualize in a bar graph the breakdown of final consumption?\n",
    "3. Can you perform the same for gross fixed capital formation, value added and employment?  "
   ]
  },
  {
   "attachments": {},
   "cell_type": "markdown",
   "metadata": {},
   "source": [
    "### Exercise 2\n",
    "1. In the use table, aggregate the industries into three sectors: primary sector, secondary sector, and\n",
    "tertiary sector.\n",
    "2. To which aggregated sector does your selected category belong?\n",
    "3. How many products and services does your category supply? "
   ]
  },
  {
   "attachments": {},
   "cell_type": "markdown",
   "metadata": {},
   "source": [
    "### Exercise 3\n",
    "1. Following the instruction presented during the lecture implement the following two transformations methods from SUTs to IOT:\n",
    "    - Industry Technology Assumption in Product-by-Product format\n",
    "    - Industry Technology Assumption in Industry-by-Industry format"
   ]
  }
 ],
 "metadata": {
  "kernelspec": {
   "display_name": "env_eeio",
   "language": "python",
   "name": "python3"
  },
  "language_info": {
   "codemirror_mode": {
    "name": "ipython",
    "version": 3
   },
   "file_extension": ".py",
   "mimetype": "text/x-python",
   "name": "python",
   "nbconvert_exporter": "python",
   "pygments_lexer": "ipython3",
   "version": "3.10.2"
  },
  "orig_nbformat": 4,
  "vscode": {
   "interpreter": {
    "hash": "a0de1fb450ee5e26d734f0aa5b4c4b29e20575809e5e66472467df7627fd957d"
   }
  }
 },
 "nbformat": 4,
 "nbformat_minor": 2
}
