{
 "cells": [
  {
   "attachments": {},
   "cell_type": "markdown",
   "metadata": {},
   "source": [
    "# Practical 2: Supply and use tables\n",
    "\n",
    "## Learning goals\n",
    "- Understand the structure of supply and use tables\n",
    "- Practice how to transform SUTs into IOT\n",
    "\n",
    "### Instructions\n",
    "Download the supply and use tables of the Netherlands and place them in a data folder in your working directory\n",
    "\n",
    "https://www.cbs.nl/en-gb/custom/2022/27/national-accounts-2021-tables\n"
   ]
  },
  {
   "cell_type": "code",
   "execution_count": 36,
   "metadata": {},
   "outputs": [
    {
     "name": "stdout",
     "output_type": "stream",
     "text": [
      "\n",
      "Use tables: \n",
      "Use 2015 current prices\n",
      "Use 2016 current prices\n",
      "Use 2016 previous year prices\n",
      "Use 2017 current prices\n",
      "Use 2017 previous year prices\n",
      "Use 2018 current prices\n",
      "Use 2018 previous year prices\n",
      "Use 2019 current prices\n",
      "Use 2019 previous year prices\n",
      "Use 2020 current prices\n",
      "Use 2020 previous year prices\n",
      "Use 2021 current prices\n",
      "Use 2021 previous year prices\n",
      "Explanation\n",
      "\n",
      "Supply tables: \n",
      "Supply 2015 current prices\n",
      "Supply 2016 current prices\n",
      "Supply 2016 PY prices\n",
      "Supply 2017 current prices\n",
      "Supply 2017 PY prices\n",
      "Supply 2018 current prices\n",
      "Supply 2018 PY prices\n",
      "Supply 2019 current prices\n",
      "Supply 2019 PY prices\n",
      "Supply 2020 current prices\n",
      "Supply 2020 PY prices\n",
      "Supply 2021 current prices\n",
      "Supply 2021 PY prices\n",
      "Explanation\n"
     ]
    }
   ],
   "source": [
    "# import modules\n",
    "import pandas as pd\n",
    "import numpy as np\n",
    "import matplotlib.pyplot as plt\n",
    "from matplotlib import style\n",
    "plt.style.use('bmh')\n",
    "\n",
    "# Import data\n",
    "CBS_use = pd.ExcelFile(f\"data/82 Use tables 20152021.xlsx\", engine=\"openpyxl\")\n",
    "CBS_supply = pd.ExcelFile(f\"data/81 Supply tables 20152021.xlsx\", engine=\"openpyxl\")\n",
    "\n",
    "# Print the list of sheets that are available in the xlsx file so that you can investigate what options you have\n",
    "print(f\"\\nUse tables: \", *CBS_use.sheet_names, sep='\\n')\n",
    "print(f\"\\nSupply tables: \", *CBS_supply.sheet_names, sep='\\n')\n"
   ]
  },
  {
   "cell_type": "code",
   "execution_count": 46,
   "metadata": {},
   "outputs": [
    {
     "name": "stdout",
     "output_type": "stream",
     "text": [
      "index:\n",
      "\n",
      "Crops and planting material\n",
      "Live animals and animal products\n",
      "Agricultural and animal husbandry services\n",
      "Products of forestry, logging and related services\n",
      "Fish, other fishing products and support services\n",
      "Coal and lignite\n",
      "Crude petroleum and natural gas\n",
      "Metal ores\n",
      "Other mining and quarrying products\n",
      "Mining support services\n",
      "Fish and meat\n",
      "Processed and preserved fruit and vegetables\n",
      "Vegetable and animal oils and fats\n",
      "Dairy products\n",
      "Grain, starches, bakery products\n",
      "Other food products\n",
      "Prepared animal feeds\n",
      "Beverages\n",
      "Tobacco products\n",
      "Textiles\n",
      "Wearing apparel\n",
      "Leather and related products\n",
      "Wood and products of wood and cork\n",
      "Paper and paper products\n",
      "Printing and recording services\n",
      "Coke and refined petroleum products\n",
      "Chemicals and chemical products\n",
      "Basic pharmaceutical products and preparations\n",
      "Rubber and plastics products\n",
      "Other non-metallic mineral products\n",
      "Basic metals\n",
      "Fabricated metal products\n",
      "Computer, electronic and optical products\n",
      "Electrical equipment\n",
      "Machinery and equipment n.e.c.\n",
      "Motor vehicles, trailers and semi-trailers\n",
      "Other transport equipment\n",
      "Furniture\n",
      "Other manufactured goods\n",
      "Repair and installation of machinery and equipment\n",
      "Electricity, gas, steam and air conditioning\n",
      "Natural water; water treatment and supply services\n",
      "Sewerage, waste management, materials recovery\n",
      "Buildings and building construction works\n",
      "Constructions and works for civil engineering\n",
      "Specialised construction works\n",
      "Repair services of motor vehicles and motorcycles\n",
      "Wholesale trade services, except of motor vehicles and motorcycles\n",
      "Retail trade services, except of motor vehicles and motorcycles\n",
      "Land transport services and transport via pipelines\n",
      "Water transport services\n",
      "Air transport services\n",
      "Warehousing and support services for transportation\n",
      "Postal and courier services\n",
      "Accommodation services\n",
      "Food and beverage serving services\n",
      "Publishing services\n",
      "Audiovisual production services\n",
      "Programming and broadcasting services\n",
      "Telecommunications services\n",
      "Computer programming and consultancy services\n",
      "Information services\n",
      "Financial bank services\n",
      "Insurance, reinsurance and pension funding services\n",
      "Services auxiliary to financial and insurance services\n",
      "Imputed rents owner-occupided dwellings\n",
      "Real estate services excluding imputed rents\n",
      "Legal and accounting services\n",
      "Services of head offices; management consulting\n",
      "Architectural and engineering; testing and analysis\n",
      "Scientific research and development services\n",
      "Advertising and market research services\n",
      "Other professional, scientific and technical services\n",
      "Veterinary services\n",
      "Rental and leasing services\n",
      "Employment services\n",
      "Travel agency, tour operator and related services\n",
      "Security and investigation services\n",
      "Services to buildings and landscape\n",
      "Office and other business support services\n",
      "Public administration and defence services\n",
      "Education services\n",
      "Human health services\n",
      "Residential care and social work services\n",
      "Creative, arts and entertainment services\n",
      "Library, archive, museum and other cultural services\n",
      "Gambling and betting services\n",
      "Sporting, amusement and recreation services\n",
      "Services furnished by membership organisations\n",
      "Repair of computers, personal and household goods\n",
      "Other personal services\n",
      "Services of households as employers\n",
      "Margins on merchanting\n",
      "Other services n.e.c.\n",
      "Other goods n.e.c.\n",
      "Trade and transport margins\n",
      "Cif/fob-adjustment and reclassification\n",
      "Cif/fob reclassification\n",
      "Supply at basic prices\n"
     ]
    }
   ],
   "source": [
    "# Select the data at current price for the year 2021\n",
    "\n",
    "# Parse the Use data for 2021 in current prices\n",
    "use_2021_cp = CBS_use.parse(\"Use 2021 current prices\", index_col=1, header=1, skipfooter=3).fillna(0)\n",
    "use_2021_cp = use_2021_cp.iloc[1:, 1:]\n",
    "# eliminate leading and trailing white spaces in labels\n",
    "use_2021_cp.columns = use_2021_cp.columns.str.strip()\n",
    "use_2021_cp.index = use_2021_cp.index.str.strip()\n",
    "\n",
    "# Parse the supply data for 2021 in current prices\n",
    "supply_2021_cp = CBS_supply.parse(\"Supply 2021 current prices\", index_col=1, header=1, skipfooter=2).fillna(0)\n",
    "supply_2021_cp = supply_2021_cp.iloc[1:, 1:]\n",
    "# eliminate leading and trailing white spaces in labels\n",
    "supply_2021_cp.columns = supply_2021_cp.columns.str.strip()\n",
    "supply_2021_cp.index = supply_2021_cp.index.str.strip()\n",
    "\n",
    "# # Print the columns and index to understand how the data is structured\n",
    "print(\"index:\\n\",*supply_2021_cp.index, sep=\"\\n\")\n",
    "# print(\"\\n\\ncolumns:\\n\",*supply_2021_cp.columns, sep=\"\\n\")"
   ]
  },
  {
   "cell_type": "markdown",
   "metadata": {},
   "source": [
    "## Exercise 1\n",
    "\n",
    "1. Select two products\n",
    "2. Can you quantify their total supply, import, and which industries supply them?\n",
    "3. Can you perform the same for gross fixed capital formation, value added and employment?"
   ]
  },
  {
   "cell_type": "code",
   "execution_count": 47,
   "metadata": {},
   "outputs": [],
   "source": [
    "# Select two products\n",
    "products = [\"Dairy products\", \"Chemicals and chemical products\"]"
   ]
  },
  {
   "cell_type": "code",
   "execution_count": 48,
   "metadata": {},
   "outputs": [
    {
     "name": "stdout",
     "output_type": "stream",
     "text": [
      "Dairy products:\n",
      "Crop, animal production, hunting and related activities        105.0\n",
      "Manufacture of food products                                 11187.0\n",
      "Wholesale trade, except of motor vehicles and motorcycles      276.0\n",
      "Domestic supply (columns 1-81)                               11568.0\n",
      "Imports of goods                                              4721.0\n",
      "Supply at basic prices (columns 82–85)                       16289.0\n",
      "Trade and transport margins                                   3436.0\n",
      "Taxes on products                                              633.0\n",
      "Subsidies on products (–)                                        1.0\n",
      "Total                                                        20357.0\n",
      "Name: Dairy products, dtype: float64\n",
      "\n",
      "Chemicals and chemical products:\n",
      "Other mining and quarrying, except petroleum and gas             138.0\n",
      "Manufacture of food products                                     246.0\n",
      "Manufacture of beverages                                          15.0\n",
      "Manufacture of textiles, wearing apparel and leather               1.0\n",
      "Manufacture of wood and products, except furniture                15.0\n",
      "Manufacture of coke and refined petroleum products               692.0\n",
      "Manufacture of chemicals and chemical products                 51359.0\n",
      "Manufacture of pharmaceutical products and preparations          220.0\n",
      "Manufacture of rubber and plastic products                       407.0\n",
      "Manufacture of building materials                                 33.0\n",
      "Manufacture of basic metals                                       26.0\n",
      "Manufacture of metal products, except machinery, equipment        47.0\n",
      "Manufacture of electrical equipment                               18.0\n",
      "Manufacture of machinery and equipment n.e.c.                    120.0\n",
      "Other manufacturing                                                8.0\n",
      "Sewerage, waste management, materials recovery activities        683.0\n",
      "Wholesale trade, except of motor vehicles and motorcycles       1071.0\n",
      "Domestic supply (columns 1-81)                                 55099.0\n",
      "Imports of goods                                               55963.0\n",
      "Imports of services                                             1729.0\n",
      "Supply at basic prices (columns 82–85)                        112791.0\n",
      "Trade and transport margins                                    11442.0\n",
      "Taxes on products                                               1984.0\n",
      "Total                                                         126217.0\n",
      "Name: Chemicals and chemical products, dtype: float64\n"
     ]
    }
   ],
   "source": [
    "# Slice your data\n",
    "p_1_supply = supply_2021_cp.loc[products[0]]\n",
    "p_2_supply = supply_2021_cp.loc[products[1]]\n",
    "\n",
    "# Isolate non zero values \n",
    "p_1_supply = p_1_supply[p_1_supply!=0]\n",
    "p_2_supply = p_2_supply[p_2_supply!=0]\n",
    "\n",
    "# Print results\n",
    "print(f\"{products[0]}:\\n{p_1_supply}\\n\\n{products[1]}:\\n{p_2_supply}\")"
   ]
  },
  {
   "cell_type": "code",
   "execution_count": 49,
   "metadata": {},
   "outputs": [
    {
     "name": "stdout",
     "output_type": "stream",
     "text": [
      "Dairy products:\n",
      "Crop, animal production, hunting and related activities              4.0\n",
      "Manufacture of food products                                      4912.0\n",
      "Manufacture of chemicals and chemical products                       4.0\n",
      "Manufacture of pharmaceutical products and preparations            395.0\n",
      "Wholesale trade, except of motor vehicles and motorcycles           88.0\n",
      "Accommodation                                                       90.0\n",
      "Food and beverage service activities                               505.0\n",
      "Imputed rents owner-occupided dwellings                              5.0\n",
      "Public administration and defence; compulsory social security       15.0\n",
      "Education                                                            8.0\n",
      "Human health activities                                             89.0\n",
      "Residential care and social work activities                        325.0\n",
      "Sports, amusement and recreation activities                         10.0\n",
      "Other personal service activities                                   12.0\n",
      "Goods and services n.e.c.                                           20.0\n",
      "Domestic use (columns 1-81)                                       6482.0\n",
      "Exports of goods from production                                  6737.0\n",
      "Re-exports                                                        1644.0\n",
      "Final consumption expenditure of households                       5597.0\n",
      "Changes in inventories 1)                                         -103.0\n",
      "Total                                                            20357.0\n",
      "Name: Dairy products, dtype: float64\n",
      "\n",
      "Chemicals and chemical products:\n",
      "Crop, animal production, hunting and related activities      1001.0\n",
      "Forestry and logging                                            1.0\n",
      "Fishing and aquaculture                                         4.0\n",
      "Extraction of crude petroleum and natural gas                   7.0\n",
      "Other mining and quarrying, except petroleum and gas           35.0\n",
      "                                                             ...   \n",
      "Re-exports                                                  34968.0\n",
      "Exports of services                                          3613.0\n",
      "Final consumption expenditure of households                  6567.0\n",
      "Changes in inventories 1)                                   -1676.0\n",
      "Total                                                      126217.0\n",
      "Name: Chemicals and chemical products, Length: 69, dtype: float64\n"
     ]
    }
   ],
   "source": [
    "# Slice your data\n",
    "p_1_use = use_2021_cp.loc[products[0]]\n",
    "p_2_use = use_2021_cp.loc[products[1]]\n",
    "\n",
    "# Isolate non zero values \n",
    "p_1_use = p_1_use[p_1_use!=0]\n",
    "p_2_use = p_2_use[p_2_use!=0]\n",
    "\n",
    "# Print results\n",
    "print(f\"{products[0]}:\\n{p_1_use}\\n\\n{products[1]}:\\n{p_2_use}\")"
   ]
  },
  {
   "attachments": {},
   "cell_type": "markdown",
   "metadata": {},
   "source": [
    "## Exercise 2\n",
    "Following the instruction presented during the lecture implement the following two transformations methods from SUTs to IOT:\n",
    "- Industry Technology Assumption in Product-by-Product format\n",
    "- Industry Technology Assumption in Industry-by-Industry format\n",
    "\n",
    "We will only perform the transformation for those methods that don't result in negative values"
   ]
  },
  {
   "cell_type": "code",
   "execution_count": 50,
   "metadata": {},
   "outputs": [],
   "source": [
    "# First prepare your tables for transforamtion by isolating intermediates from primary inputs and final consumption items\n",
    "\n",
    "# Use table\n",
    "U = use_2021_cp.loc[:\"Other goods n.e.c.\", :\"Goods and services n.e.c.\"] # Use table\n",
    "\n",
    "### !!! Always pay attention whether your \"supply\" is in really in supply or make format !!! \n",
    "V = supply_2021_cp.loc[:\"Other goods n.e.c.\", :\"Goods and services n.e.c.\"].T # Make table, the transpose of the supply table\n",
    "\n",
    "# Final Demand\n",
    "F = use_2021_cp.loc[:\"Other goods n.e.c.\", \"Exports of goods from production\":\"Consumption residents in rest of the world\"].fillna(0) # Final demand\n",
    "\n",
    "# Primary inputs\n",
    "W = use_2021_cp.loc[\"Other taxes on production\":\"Operating surplus (net)\", :\"Goods and services n.e.c.\"]\n",
    "# Ensure negative values where needed\n",
    "# Negative items\n",
    "W.loc[\"Other subsidies on production (–)\"] = W.loc[\"Other subsidies on production (–)\"] * -1\n",
    "\n",
    "# Collect your total product and industry outputs\n",
    "q = supply_2021_cp.loc[:\"Other goods n.e.c.\",\"Total\"]\n",
    "g = supply_2021_cp.loc[\"Supply at basic prices\",:\"Goods and services n.e.c.\"]"
   ]
  },
  {
   "cell_type": "code",
   "execution_count": 51,
   "metadata": {},
   "outputs": [],
   "source": [
    "# For semplicity, make all items numpy arrays\n",
    "\n",
    "U = U.values\n",
    "V = V.values\n",
    "W = W.values\n",
    "F = F.values\n",
    "q = q.values\n",
    "g = g.values"
   ]
  },
  {
   "attachments": {},
   "cell_type": "markdown",
   "metadata": {},
   "source": [
    "### Model B \n",
    "\n",
    "Product-by-product\n",
    "\n",
    "Industry technology assumption"
   ]
  },
  {
   "cell_type": "code",
   "execution_count": 52,
   "metadata": {},
   "outputs": [],
   "source": [
    "# Technical coefficient matrix\n",
    "\n",
    "A_b = U @ np.linalg.inv(np.diag(g)) @ V @ np.linalg.inv(np.diag(q))\n",
    "# A_b.columns = A_b.index\n",
    "\n",
    "# Intermediates\n",
    "Z_b = A_b @ np.diag(q)\n",
    "\n",
    "# Final Demand\n",
    "Y_b = F\n",
    "\n",
    "# Primary inputs\n",
    "W_b = W @ np.linalg.inv(np.diag(g)) @ V\n",
    "\n",
    "# Total product output\n",
    "I = np.eye(q.shape[0])\n",
    "x_b = np.linalg.inv(I-A_b) @ Y_b @ np.ones(Y_b.shape[1])"
   ]
  },
  {
   "cell_type": "code",
   "execution_count": 53,
   "metadata": {},
   "outputs": [
    {
     "name": "stdout",
     "output_type": "stream",
     "text": [
      "[ 69.8  14.6  -6.   67.9  79.7 100.   89.4 100.   66.1  24.3  53.5  54.5\n",
      "  48.2  42.1  49.8  52.5  22.7  70.3  60.1  71.2  97.6  95.6  64.4  55.\n",
      " -10.9  51.4  55.6  81.   65.1  58.1  68.8  41.5  88.3  82.4  52.6  68.6\n",
      "  59.4  70.   90.7   2.1  -5.8  18.6  21.4   9.2   8.9   4.8  -3.4  15.5\n",
      "  16.4   3.1  14.4  17.1  -6.7  27.5   5.3   5.9  20.6  17.6  -6.8  18.\n",
      "  12.2   9.8  15.   11.7   5.8 -16.1  26.5  11.    9.4  22.1  21.4  -1.8\n",
      "  10.1  10.9 -14.6   3.  -22.9   0.4   4.7  -0.5   0.3  14.8   6.6  18.2\n",
      "   4.1  -3.8  12.2   6.5 100.   -8.7]\n"
     ]
    }
   ],
   "source": [
    "# Check balance\n",
    "x_in = Z_b.sum(axis=0) + W_b.sum(axis=0)\n",
    "check_x = np.around(1-x_in / x_b, decimals=3) * 100\n",
    "\n",
    "print(check_x[check_x!=0.0])"
   ]
  },
  {
   "attachments": {},
   "cell_type": "markdown",
   "metadata": {},
   "source": [
    "#### Why don't inputs match outputs?\n",
    "\n",
    "Discuss"
   ]
  },
  {
   "attachments": {},
   "cell_type": "markdown",
   "metadata": {},
   "source": [
    "### Model D \n",
    "\n",
    "Industry-by-Industry\n",
    "\n",
    "Fixed product sales structure"
   ]
  },
  {
   "cell_type": "code",
   "execution_count": 54,
   "metadata": {},
   "outputs": [],
   "source": [
    "# Technical coefficient matrix\n",
    "\n",
    "A_d = V @ np.linalg.inv(np.diag(q)) @ U @ np.linalg.inv(np.diag(g))\n",
    "\n",
    "# Intermediates\n",
    "Z_d = A_d @ np.diag(g)\n",
    "\n",
    "\n",
    "# Final Demand\n",
    "Y_d = V @ np.linalg.inv(np.diag(q)) @ F\n",
    "\n",
    "# Primary inputs\n",
    "W_d = W\n",
    "\n",
    "# Total product output\n",
    "I = np.eye(g.shape[0])\n",
    "x_d = np.linalg.inv(I-A_d) @ Y_d @ np.ones(Y_d.shape[1])"
   ]
  }
 ],
 "metadata": {
  "kernelspec": {
   "display_name": "Python 3 (ipykernel)",
   "language": "python",
   "name": "python3"
  },
  "language_info": {
   "codemirror_mode": {
    "name": "ipython",
    "version": 3
   },
   "file_extension": ".py",
   "mimetype": "text/x-python",
   "name": "python",
   "nbconvert_exporter": "python",
   "pygments_lexer": "ipython3",
   "version": "3.10.2"
  },
  "vscode": {
   "interpreter": {
    "hash": "a0de1fb450ee5e26d734f0aa5b4c4b29e20575809e5e66472467df7627fd957d"
   }
  }
 },
 "nbformat": 4,
 "nbformat_minor": 4
}
